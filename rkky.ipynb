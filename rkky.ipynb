{
 "cells": [
  {
   "cell_type": "markdown",
   "id": "ae8cef4f",
   "metadata": {},
   "source": [
    "This jupyter-notebook has be created with 'jupytext'.\n",
    "\n",
    "Use this [Link](https://colab.research.google.com/github/magnumnp/magnumnp_demos/blob/main/rkky.ipynb) to directly open the Notebook in Google Colab."
   ]
  },
  {
   "cell_type": "markdown",
   "id": "1507f662",
   "metadata": {},
   "source": [
    "## Install magnum.np and fetch reference data (required for Colab)"
   ]
  },
  {
   "cell_type": "code",
   "execution_count": 1,
   "id": "2716465b",
   "metadata": {
    "execution": {
     "iopub.execute_input": "2025-03-10T09:51:14.123231Z",
     "iopub.status.busy": "2025-03-10T09:51:14.122568Z",
     "iopub.status.idle": "2025-03-10T09:51:15.303852Z",
     "shell.execute_reply": "2025-03-10T09:51:15.302456Z"
    },
    "lines_to_next_cell": 0
   },
   "outputs": [
    {
     "name": "stdout",
     "output_type": "stream",
     "text": [
      "\u001b[33mWARNING: Running pip as the 'root' user can result in broken permissions and conflicting behaviour with the system package manager, possibly rendering your system unusable. It is recommended to use a virtual environment instead: https://pip.pypa.io/warnings/venv. Use the --root-user-action option if you know what you are doing and want to suppress this warning.\u001b[0m\u001b[33m\r\n",
      "\u001b[0m"
     ]
    }
   ],
   "source": [
    "!pip install -q triton magnumnp\n",
    "from os import path\n",
    "if not path.isdir(\"ref\"):\n",
    "    !mkdir ref\n",
    "    !wget -P ref https://gitlab.com/magnum.np/magnum.np/raw/main/demos/rkky/ref/m.dat &> /dev/null"
   ]
  },
  {
   "cell_type": "markdown",
   "id": "2a512fb7",
   "metadata": {},
   "source": [
    "# RKKY Example and benchmark problem\n",
    "\n",
    "\"Accurate finite-difference micromagnetics of magnets including RKKY interaction\",\n",
    "Suess, Dieter, et al.,  arXiv preprint arXiv:2206.11063 (2022).\n",
    "\n",
    "The analytical saturation field Hx = 5*Hk"
   ]
  },
  {
   "cell_type": "markdown",
   "id": "87c12ab0",
   "metadata": {},
   "source": [
    "## Run Simulation"
   ]
  },
  {
   "cell_type": "code",
   "execution_count": 2,
   "id": "4b30ddca",
   "metadata": {
    "execution": {
     "iopub.execute_input": "2025-03-10T09:51:15.308265Z",
     "iopub.status.busy": "2025-03-10T09:51:15.307853Z",
     "iopub.status.idle": "2025-03-10T09:53:52.681166Z",
     "shell.execute_reply": "2025-03-10T09:53:52.680290Z"
    },
    "lines_to_next_cell": 0
   },
   "outputs": [
    {
     "name": "stderr",
     "output_type": "stream",
     "text": [
      "2025-03-10 09:51:22  magnum.np:INFO \u001b[1;37;32mmagnum.np 2.0.2 (/usr/local/lib/python3.10/site-packages/ipykernel_launcher.py -f /tmp/tmps58p5fmj.json --HistoryManager.hist_file=:memory:)\u001b[0m\n"
     ]
    },
    {
     "name": "stderr",
     "output_type": "stream",
     "text": [
      "2025-03-10 09:51:22  magnum.np:INFO \u001b[1;37;32m[State] running on device: cpu (dtype = float64)\u001b[0m\n"
     ]
    },
    {
     "name": "stderr",
     "output_type": "stream",
     "text": [
      "2025-03-10 09:51:22  magnum.np:INFO \u001b[1;37;32m[Mesh] 1x1x400 (dx= 2e-09 x 2e-09 x 2e-09)\u001b[0m\n"
     ]
    },
    {
     "name": "stderr",
     "output_type": "stream",
     "text": [
      "\r",
      "  0%|          | 0/100 [00:00<?, ?it/s]"
     ]
    },
    {
     "name": "stderr",
     "output_type": "stream",
     "text": [
      "2025-03-10 09:51:35  magnum.np:INFO \u001b[1;37;32m[MinimizerBB] Successfully converged (iter=487, dm_tol = 0.0001)\u001b[0m\n"
     ]
    },
    {
     "name": "stderr",
     "output_type": "stream",
     "text": [
      "\r",
      "  1%|          | 1/100 [00:13<21:59, 13.33s/it]"
     ]
    },
    {
     "name": "stderr",
     "output_type": "stream",
     "text": [
      "2025-03-10 09:51:36  magnum.np:INFO \u001b[1;37;32m[MinimizerBB] Successfully converged (iter=317, dm_tol = 0.0001)\u001b[0m\n"
     ]
    },
    {
     "name": "stderr",
     "output_type": "stream",
     "text": [
      "\r",
      "  2%|▏         | 2/100 [00:14<09:46,  5.99s/it]"
     ]
    },
    {
     "name": "stderr",
     "output_type": "stream",
     "text": [
      "2025-03-10 09:51:37  magnum.np:INFO \u001b[1;37;32m[MinimizerBB] Successfully converged (iter=329, dm_tol = 0.0001)\u001b[0m\n"
     ]
    },
    {
     "name": "stderr",
     "output_type": "stream",
     "text": [
      "\r",
      "  3%|▎         | 3/100 [00:15<05:52,  3.64s/it]"
     ]
    },
    {
     "name": "stderr",
     "output_type": "stream",
     "text": [
      "2025-03-10 09:51:38  magnum.np:INFO \u001b[1;37;32m[MinimizerBB] Successfully converged (iter=347, dm_tol = 0.0001)\u001b[0m\n"
     ]
    },
    {
     "name": "stderr",
     "output_type": "stream",
     "text": [
      "\r",
      "  4%|▍         | 4/100 [00:15<04:04,  2.55s/it]"
     ]
    },
    {
     "name": "stderr",
     "output_type": "stream",
     "text": [
      "2025-03-10 09:51:39  magnum.np:INFO \u001b[1;37;32m[MinimizerBB] Successfully converged (iter=315, dm_tol = 0.0001)\u001b[0m\n"
     ]
    },
    {
     "name": "stderr",
     "output_type": "stream",
     "text": [
      "\r",
      "  5%|▌         | 5/100 [00:16<03:02,  1.92s/it]"
     ]
    },
    {
     "name": "stderr",
     "output_type": "stream",
     "text": [
      "2025-03-10 09:51:39  magnum.np:INFO \u001b[1;37;32m[MinimizerBB] Successfully converged (iter=321, dm_tol = 0.0001)\u001b[0m\n"
     ]
    },
    {
     "name": "stderr",
     "output_type": "stream",
     "text": [
      "\r",
      "  6%|▌         | 6/100 [00:17<02:25,  1.55s/it]"
     ]
    },
    {
     "name": "stderr",
     "output_type": "stream",
     "text": [
      "2025-03-10 09:51:40  magnum.np:INFO \u001b[1;37;32m[MinimizerBB] Successfully converged (iter=345, dm_tol = 0.0001)\u001b[0m\n"
     ]
    },
    {
     "name": "stderr",
     "output_type": "stream",
     "text": [
      "\r",
      "  7%|▋         | 7/100 [00:18<02:04,  1.33s/it]"
     ]
    },
    {
     "name": "stderr",
     "output_type": "stream",
     "text": [
      "2025-03-10 09:51:41  magnum.np:INFO \u001b[1;37;32m[MinimizerBB] Successfully converged (iter=339, dm_tol = 0.0001)\u001b[0m\n"
     ]
    },
    {
     "name": "stderr",
     "output_type": "stream",
     "text": [
      "\r",
      "  8%|▊         | 8/100 [00:19<01:48,  1.18s/it]"
     ]
    },
    {
     "name": "stderr",
     "output_type": "stream",
     "text": [
      "2025-03-10 09:51:42  magnum.np:INFO \u001b[1;37;32m[MinimizerBB] Successfully converged (iter=361, dm_tol = 0.0001)\u001b[0m\n"
     ]
    },
    {
     "name": "stderr",
     "output_type": "stream",
     "text": [
      "\r",
      "  9%|▉         | 9/100 [00:20<01:40,  1.10s/it]"
     ]
    },
    {
     "name": "stderr",
     "output_type": "stream",
     "text": [
      "2025-03-10 09:51:43  magnum.np:INFO \u001b[1;37;32m[MinimizerBB] Successfully converged (iter=361, dm_tol = 0.0001)\u001b[0m\n"
     ]
    },
    {
     "name": "stderr",
     "output_type": "stream",
     "text": [
      "\r",
      " 10%|█         | 10/100 [00:21<01:33,  1.04s/it]"
     ]
    },
    {
     "name": "stderr",
     "output_type": "stream",
     "text": [
      "2025-03-10 09:51:44  magnum.np:INFO \u001b[1;37;32m[MinimizerBB] Successfully converged (iter=383, dm_tol = 0.0001)\u001b[0m\n"
     ]
    },
    {
     "name": "stderr",
     "output_type": "stream",
     "text": [
      "\r",
      " 11%|█         | 11/100 [00:22<01:30,  1.02s/it]"
     ]
    },
    {
     "name": "stderr",
     "output_type": "stream",
     "text": [
      "2025-03-10 09:51:45  magnum.np:INFO \u001b[1;37;32m[MinimizerBB] Successfully converged (iter=391, dm_tol = 0.0001)\u001b[0m\n"
     ]
    },
    {
     "name": "stderr",
     "output_type": "stream",
     "text": [
      "\r",
      " 12%|█▏        | 12/100 [00:23<01:29,  1.01s/it]"
     ]
    },
    {
     "name": "stderr",
     "output_type": "stream",
     "text": [
      "2025-03-10 09:51:46  magnum.np:INFO \u001b[1;37;32m[MinimizerBB] Successfully converged (iter=385, dm_tol = 0.0001)\u001b[0m\n"
     ]
    },
    {
     "name": "stderr",
     "output_type": "stream",
     "text": [
      "\r",
      " 13%|█▎        | 13/100 [00:24<01:27,  1.00s/it]"
     ]
    },
    {
     "name": "stderr",
     "output_type": "stream",
     "text": [
      "2025-03-10 09:51:47  magnum.np:INFO \u001b[1;37;32m[MinimizerBB] Successfully converged (iter=399, dm_tol = 0.0001)\u001b[0m\n"
     ]
    },
    {
     "name": "stderr",
     "output_type": "stream",
     "text": [
      "\r",
      " 14%|█▍        | 14/100 [00:25<01:26,  1.01s/it]"
     ]
    },
    {
     "name": "stderr",
     "output_type": "stream",
     "text": [
      "2025-03-10 09:51:48  magnum.np:INFO \u001b[1;37;32m[MinimizerBB] Successfully converged (iter=403, dm_tol = 0.0001)\u001b[0m\n"
     ]
    },
    {
     "name": "stderr",
     "output_type": "stream",
     "text": [
      "\r",
      " 15%|█▌        | 15/100 [00:26<01:27,  1.03s/it]"
     ]
    },
    {
     "name": "stderr",
     "output_type": "stream",
     "text": [
      "2025-03-10 09:51:49  magnum.np:INFO \u001b[1;37;32m[MinimizerBB] Successfully converged (iter=426, dm_tol = 0.0001)\u001b[0m\n"
     ]
    },
    {
     "name": "stderr",
     "output_type": "stream",
     "text": [
      "\r",
      " 16%|█▌        | 16/100 [00:27<01:29,  1.06s/it]"
     ]
    },
    {
     "name": "stderr",
     "output_type": "stream",
     "text": [
      "2025-03-10 09:51:50  magnum.np:INFO \u001b[1;37;32m[MinimizerBB] Successfully converged (iter=466, dm_tol = 0.0001)\u001b[0m\n"
     ]
    },
    {
     "name": "stderr",
     "output_type": "stream",
     "text": [
      "\r",
      " 17%|█▋        | 17/100 [00:28<01:30,  1.10s/it]"
     ]
    },
    {
     "name": "stderr",
     "output_type": "stream",
     "text": [
      "2025-03-10 09:51:51  magnum.np:INFO \u001b[1;37;32m[MinimizerBB] Successfully converged (iter=447, dm_tol = 0.0001)\u001b[0m\n"
     ]
    },
    {
     "name": "stderr",
     "output_type": "stream",
     "text": [
      "\r",
      " 18%|█▊        | 18/100 [00:29<01:31,  1.11s/it]"
     ]
    },
    {
     "name": "stderr",
     "output_type": "stream",
     "text": [
      "2025-03-10 09:51:53  magnum.np:INFO \u001b[1;37;32m[MinimizerBB] Successfully converged (iter=491, dm_tol = 0.0001)\u001b[0m\n"
     ]
    },
    {
     "name": "stderr",
     "output_type": "stream",
     "text": [
      "\r",
      " 19%|█▉        | 19/100 [00:30<01:33,  1.15s/it]"
     ]
    },
    {
     "name": "stderr",
     "output_type": "stream",
     "text": [
      "2025-03-10 09:51:54  magnum.np:INFO \u001b[1;37;32m[MinimizerBB] Successfully converged (iter=506, dm_tol = 0.0001)\u001b[0m\n"
     ]
    },
    {
     "name": "stderr",
     "output_type": "stream",
     "text": [
      "\r",
      " 20%|██        | 20/100 [00:32<01:35,  1.20s/it]"
     ]
    },
    {
     "name": "stderr",
     "output_type": "stream",
     "text": [
      "2025-03-10 09:51:55  magnum.np:INFO \u001b[1;37;32m[MinimizerBB] Successfully converged (iter=495, dm_tol = 0.0001)\u001b[0m\n"
     ]
    },
    {
     "name": "stderr",
     "output_type": "stream",
     "text": [
      "\r",
      " 21%|██        | 21/100 [00:33<01:35,  1.21s/it]"
     ]
    },
    {
     "name": "stderr",
     "output_type": "stream",
     "text": [
      "2025-03-10 09:51:57  magnum.np:INFO \u001b[1;37;32m[MinimizerBB] Successfully converged (iter=537, dm_tol = 0.0001)\u001b[0m\n"
     ]
    },
    {
     "name": "stderr",
     "output_type": "stream",
     "text": [
      "\r",
      " 22%|██▏       | 22/100 [00:34<01:38,  1.26s/it]"
     ]
    },
    {
     "name": "stderr",
     "output_type": "stream",
     "text": [
      "2025-03-10 09:51:58  magnum.np:INFO \u001b[1;37;32m[MinimizerBB] Successfully converged (iter=549, dm_tol = 0.0001)\u001b[0m\n"
     ]
    },
    {
     "name": "stderr",
     "output_type": "stream",
     "text": [
      "\r",
      " 23%|██▎       | 23/100 [00:36<01:40,  1.30s/it]"
     ]
    },
    {
     "name": "stderr",
     "output_type": "stream",
     "text": [
      "2025-03-10 09:51:59  magnum.np:INFO \u001b[1;37;32m[MinimizerBB] Successfully converged (iter=572, dm_tol = 0.0001)\u001b[0m\n"
     ]
    },
    {
     "name": "stderr",
     "output_type": "stream",
     "text": [
      "\r",
      " 24%|██▍       | 24/100 [00:37<01:43,  1.36s/it]"
     ]
    },
    {
     "name": "stderr",
     "output_type": "stream",
     "text": [
      "2025-03-10 09:52:01  magnum.np:INFO \u001b[1;37;32m[MinimizerBB] Successfully converged (iter=541, dm_tol = 0.0001)\u001b[0m\n"
     ]
    },
    {
     "name": "stderr",
     "output_type": "stream",
     "text": [
      "\r",
      " 25%|██▌       | 25/100 [00:39<01:43,  1.38s/it]"
     ]
    },
    {
     "name": "stderr",
     "output_type": "stream",
     "text": [
      "2025-03-10 09:52:03  magnum.np:INFO \u001b[1;37;32m[MinimizerBB] Successfully converged (iter=615, dm_tol = 0.0001)\u001b[0m\n"
     ]
    },
    {
     "name": "stderr",
     "output_type": "stream",
     "text": [
      "\r",
      " 26%|██▌       | 26/100 [00:40<01:47,  1.45s/it]"
     ]
    },
    {
     "name": "stderr",
     "output_type": "stream",
     "text": [
      "2025-03-10 09:52:04  magnum.np:INFO \u001b[1;37;32m[MinimizerBB] Successfully converged (iter=615, dm_tol = 0.0001)\u001b[0m\n"
     ]
    },
    {
     "name": "stderr",
     "output_type": "stream",
     "text": [
      "\r",
      " 27%|██▋       | 27/100 [00:42<01:48,  1.49s/it]"
     ]
    },
    {
     "name": "stderr",
     "output_type": "stream",
     "text": [
      "2025-03-10 09:52:06  magnum.np:INFO \u001b[1;37;32m[MinimizerBB] Successfully converged (iter=638, dm_tol = 0.0001)\u001b[0m\n"
     ]
    },
    {
     "name": "stderr",
     "output_type": "stream",
     "text": [
      "\r",
      " 28%|██▊       | 28/100 [00:43<01:49,  1.52s/it]"
     ]
    },
    {
     "name": "stderr",
     "output_type": "stream",
     "text": [
      "2025-03-10 09:52:08  magnum.np:INFO \u001b[1;37;32m[MinimizerBB] Successfully converged (iter=707, dm_tol = 0.0001)\u001b[0m\n"
     ]
    },
    {
     "name": "stderr",
     "output_type": "stream",
     "text": [
      "\r",
      " 29%|██▉       | 29/100 [00:45<01:54,  1.61s/it]"
     ]
    },
    {
     "name": "stderr",
     "output_type": "stream",
     "text": [
      "2025-03-10 09:52:09  magnum.np:INFO \u001b[1;37;32m[MinimizerBB] Successfully converged (iter=737, dm_tol = 0.0001)\u001b[0m\n"
     ]
    },
    {
     "name": "stderr",
     "output_type": "stream",
     "text": [
      "\r",
      " 30%|███       | 30/100 [00:47<01:58,  1.69s/it]"
     ]
    },
    {
     "name": "stderr",
     "output_type": "stream",
     "text": [
      "2025-03-10 09:52:11  magnum.np:INFO \u001b[1;37;32m[MinimizerBB] Successfully converged (iter=730, dm_tol = 0.0001)\u001b[0m\n"
     ]
    },
    {
     "name": "stderr",
     "output_type": "stream",
     "text": [
      "\r",
      " 31%|███       | 31/100 [00:49<01:59,  1.74s/it]"
     ]
    },
    {
     "name": "stderr",
     "output_type": "stream",
     "text": [
      "2025-03-10 09:52:13  magnum.np:INFO \u001b[1;37;32m[MinimizerBB] Successfully converged (iter=759, dm_tol = 0.0001)\u001b[0m\n"
     ]
    },
    {
     "name": "stderr",
     "output_type": "stream",
     "text": [
      "\r",
      " 32%|███▏      | 32/100 [00:51<02:02,  1.80s/it]"
     ]
    },
    {
     "name": "stderr",
     "output_type": "stream",
     "text": [
      "2025-03-10 09:52:15  magnum.np:INFO \u001b[1;37;32m[MinimizerBB] Successfully converged (iter=802, dm_tol = 0.0001)\u001b[0m\n"
     ]
    },
    {
     "name": "stderr",
     "output_type": "stream",
     "text": [
      "\r",
      " 33%|███▎      | 33/100 [00:53<02:06,  1.89s/it]"
     ]
    },
    {
     "name": "stderr",
     "output_type": "stream",
     "text": [
      "2025-03-10 09:52:17  magnum.np:INFO \u001b[1;37;32m[MinimizerBB] Successfully converged (iter=833, dm_tol = 0.0001)\u001b[0m\n"
     ]
    },
    {
     "name": "stderr",
     "output_type": "stream",
     "text": [
      "\r",
      " 34%|███▍      | 34/100 [00:55<02:10,  1.97s/it]"
     ]
    },
    {
     "name": "stderr",
     "output_type": "stream",
     "text": [
      "2025-03-10 09:52:20  magnum.np:INFO \u001b[1;37;32m[MinimizerBB] Successfully converged (iter=855, dm_tol = 0.0001)\u001b[0m\n"
     ]
    },
    {
     "name": "stderr",
     "output_type": "stream",
     "text": [
      "\r",
      " 35%|███▌      | 35/100 [00:57<02:12,  2.04s/it]"
     ]
    },
    {
     "name": "stderr",
     "output_type": "stream",
     "text": [
      "2025-03-10 09:52:22  magnum.np:INFO \u001b[1;37;32m[MinimizerBB] Successfully converged (iter=941, dm_tol = 0.0001)\u001b[0m\n"
     ]
    },
    {
     "name": "stderr",
     "output_type": "stream",
     "text": [
      "\r",
      " 36%|███▌      | 36/100 [01:00<02:17,  2.14s/it]"
     ]
    },
    {
     "name": "stderr",
     "output_type": "stream",
     "text": [
      "2025-03-10 09:52:25  magnum.np:INFO \u001b[1;37;32m[MinimizerBB] Successfully converged (iter=1016, dm_tol = 0.0001)\u001b[0m\n"
     ]
    },
    {
     "name": "stderr",
     "output_type": "stream",
     "text": [
      "\r",
      " 37%|███▋      | 37/100 [01:02<02:24,  2.30s/it]"
     ]
    },
    {
     "name": "stderr",
     "output_type": "stream",
     "text": [
      "2025-03-10 09:52:27  magnum.np:INFO \u001b[1;37;32m[MinimizerBB] Successfully converged (iter=1082, dm_tol = 0.0001)\u001b[0m\n"
     ]
    },
    {
     "name": "stderr",
     "output_type": "stream",
     "text": [
      "\r",
      " 38%|███▊      | 38/100 [01:05<02:31,  2.44s/it]"
     ]
    },
    {
     "name": "stderr",
     "output_type": "stream",
     "text": [
      "2025-03-10 09:52:30  magnum.np:INFO \u001b[1;37;32m[MinimizerBB] Successfully converged (iter=1154, dm_tol = 0.0001)\u001b[0m\n"
     ]
    },
    {
     "name": "stderr",
     "output_type": "stream",
     "text": [
      "\r",
      " 39%|███▉      | 39/100 [01:08<02:38,  2.59s/it]"
     ]
    },
    {
     "name": "stderr",
     "output_type": "stream",
     "text": [
      "2025-03-10 09:52:34  magnum.np:INFO \u001b[1;37;32m[MinimizerBB] Successfully converged (iter=1224, dm_tol = 0.0001)\u001b[0m\n"
     ]
    },
    {
     "name": "stderr",
     "output_type": "stream",
     "text": [
      "\r",
      " 40%|████      | 40/100 [01:11<02:44,  2.75s/it]"
     ]
    },
    {
     "name": "stderr",
     "output_type": "stream",
     "text": [
      "2025-03-10 09:52:37  magnum.np:INFO \u001b[1;37;32m[MinimizerBB] Successfully converged (iter=1319, dm_tol = 0.0001)\u001b[0m\n"
     ]
    },
    {
     "name": "stderr",
     "output_type": "stream",
     "text": [
      "\r",
      " 41%|████      | 41/100 [01:15<02:52,  2.93s/it]"
     ]
    },
    {
     "name": "stderr",
     "output_type": "stream",
     "text": [
      "2025-03-10 09:52:41  magnum.np:INFO \u001b[1;37;32m[MinimizerBB] Successfully converged (iter=1471, dm_tol = 0.0001)\u001b[0m\n"
     ]
    },
    {
     "name": "stderr",
     "output_type": "stream",
     "text": [
      "\r",
      " 42%|████▏     | 42/100 [01:18<03:04,  3.17s/it]"
     ]
    },
    {
     "name": "stderr",
     "output_type": "stream",
     "text": [
      "2025-03-10 09:52:45  magnum.np:INFO \u001b[1;37;32m[MinimizerBB] Successfully converged (iter=1603, dm_tol = 0.0001)\u001b[0m\n"
     ]
    },
    {
     "name": "stderr",
     "output_type": "stream",
     "text": [
      "\r",
      " 43%|████▎     | 43/100 [01:22<03:16,  3.45s/it]"
     ]
    },
    {
     "name": "stderr",
     "output_type": "stream",
     "text": [
      "2025-03-10 09:52:49  magnum.np:INFO \u001b[1;37;32m[MinimizerBB] Successfully converged (iter=1871, dm_tol = 0.0001)\u001b[0m\n"
     ]
    },
    {
     "name": "stderr",
     "output_type": "stream",
     "text": [
      "\r",
      " 44%|████▍     | 44/100 [01:27<03:34,  3.83s/it]"
     ]
    },
    {
     "name": "stderr",
     "output_type": "stream",
     "text": [
      "2025-03-10 09:52:55  magnum.np:WARNING \u001b[1;37;31m[MinimizerBB] Terminated after maxiter = 2000 (dm = 0.000153492, dm_tol = 0.0001)\u001b[0m\n"
     ]
    },
    {
     "name": "stderr",
     "output_type": "stream",
     "text": [
      "\r",
      " 45%|████▌     | 45/100 [01:32<03:52,  4.22s/it]"
     ]
    },
    {
     "name": "stderr",
     "output_type": "stream",
     "text": [
      "2025-03-10 09:53:00  magnum.np:WARNING \u001b[1;37;31m[MinimizerBB] Terminated after maxiter = 2000 (dm = 0.000762372, dm_tol = 0.0001)\u001b[0m\n"
     ]
    },
    {
     "name": "stderr",
     "output_type": "stream",
     "text": [
      "\r",
      " 46%|████▌     | 46/100 [01:37<04:01,  4.46s/it]"
     ]
    },
    {
     "name": "stderr",
     "output_type": "stream",
     "text": [
      "2025-03-10 09:53:05  magnum.np:WARNING \u001b[1;37;31m[MinimizerBB] Terminated after maxiter = 2000 (dm = 0.0047688, dm_tol = 0.0001)\u001b[0m\n"
     ]
    },
    {
     "name": "stderr",
     "output_type": "stream",
     "text": [
      "\r",
      " 47%|████▋     | 47/100 [01:42<04:05,  4.64s/it]"
     ]
    },
    {
     "name": "stderr",
     "output_type": "stream",
     "text": [
      "2025-03-10 09:53:10  magnum.np:WARNING \u001b[1;37;31m[MinimizerBB] Terminated after maxiter = 2000 (dm = 0.0229792, dm_tol = 0.0001)\u001b[0m\n"
     ]
    },
    {
     "name": "stderr",
     "output_type": "stream",
     "text": [
      "\r",
      " 48%|████▊     | 48/100 [01:47<04:07,  4.75s/it]"
     ]
    },
    {
     "name": "stderr",
     "output_type": "stream",
     "text": [
      "2025-03-10 09:53:15  magnum.np:WARNING \u001b[1;37;31m[MinimizerBB] Terminated after maxiter = 2000 (dm = 0.102699, dm_tol = 0.0001)\u001b[0m\n"
     ]
    },
    {
     "name": "stderr",
     "output_type": "stream",
     "text": [
      "\r",
      " 49%|████▉     | 49/100 [01:52<04:06,  4.84s/it]"
     ]
    },
    {
     "name": "stderr",
     "output_type": "stream",
     "text": [
      "2025-03-10 09:53:20  magnum.np:WARNING \u001b[1;37;31m[MinimizerBB] Terminated after maxiter = 2000 (dm = 0.399, dm_tol = 0.0001)\u001b[0m\n"
     ]
    },
    {
     "name": "stderr",
     "output_type": "stream",
     "text": [
      "\r",
      " 50%|█████     | 50/100 [01:57<04:04,  4.88s/it]"
     ]
    },
    {
     "name": "stderr",
     "output_type": "stream",
     "text": [
      "2025-03-10 09:53:25  magnum.np:WARNING \u001b[1;37;31m[MinimizerBB] Terminated after maxiter = 2000 (dm = 1.16605, dm_tol = 0.0001)\u001b[0m\n"
     ]
    },
    {
     "name": "stderr",
     "output_type": "stream",
     "text": [
      "\r",
      " 51%|█████     | 51/100 [02:02<04:01,  4.93s/it]"
     ]
    },
    {
     "name": "stderr",
     "output_type": "stream",
     "text": [
      "2025-03-10 09:53:30  magnum.np:WARNING \u001b[1;37;31m[MinimizerBB] Terminated after maxiter = 2000 (dm = 2.00764, dm_tol = 0.0001)\u001b[0m\n"
     ]
    },
    {
     "name": "stderr",
     "output_type": "stream",
     "text": [
      "\r",
      " 52%|█████▏    | 52/100 [02:07<03:57,  4.94s/it]"
     ]
    },
    {
     "name": "stderr",
     "output_type": "stream",
     "text": [
      "2025-03-10 09:53:35  magnum.np:WARNING \u001b[1;37;31m[MinimizerBB] Terminated after maxiter = 2000 (dm = 1.06576, dm_tol = 0.0001)\u001b[0m\n"
     ]
    },
    {
     "name": "stderr",
     "output_type": "stream",
     "text": [
      "\r",
      " 53%|█████▎    | 53/100 [02:12<03:53,  4.96s/it]"
     ]
    },
    {
     "name": "stderr",
     "output_type": "stream",
     "text": [
      "2025-03-10 09:53:40  magnum.np:WARNING \u001b[1;37;31m[MinimizerBB] Terminated after maxiter = 2000 (dm = 0.179321, dm_tol = 0.0001)\u001b[0m\n"
     ]
    },
    {
     "name": "stderr",
     "output_type": "stream",
     "text": [
      "\r",
      " 54%|█████▍    | 54/100 [02:17<03:49,  4.98s/it]"
     ]
    },
    {
     "name": "stderr",
     "output_type": "stream",
     "text": [
      "2025-03-10 09:53:45  magnum.np:WARNING \u001b[1;37;31m[MinimizerBB] Terminated after maxiter = 2000 (dm = 0.0115839, dm_tol = 0.0001)\u001b[0m\n"
     ]
    },
    {
     "name": "stderr",
     "output_type": "stream",
     "text": [
      "\r",
      " 55%|█████▌    | 55/100 [02:22<03:44,  4.98s/it]"
     ]
    },
    {
     "name": "stderr",
     "output_type": "stream",
     "text": [
      "2025-03-10 09:53:50  magnum.np:WARNING \u001b[1;37;31m[MinimizerBB] Terminated after maxiter = 2000 (dm = 0.000257486, dm_tol = 0.0001)\u001b[0m\n"
     ]
    },
    {
     "name": "stderr",
     "output_type": "stream",
     "text": [
      "\r",
      " 56%|█████▌    | 56/100 [02:27<03:39,  4.98s/it]"
     ]
    },
    {
     "name": "stderr",
     "output_type": "stream",
     "text": [
      "2025-03-10 09:53:51  magnum.np:INFO \u001b[1;37;32m[MinimizerBB] Successfully converged (iter=447, dm_tol = 0.0001)\u001b[0m\n"
     ]
    },
    {
     "name": "stderr",
     "output_type": "stream",
     "text": [
      "\r",
      " 57%|█████▋    | 57/100 [02:29<02:44,  3.83s/it]"
     ]
    },
    {
     "name": "stderr",
     "output_type": "stream",
     "text": [
      "2025-03-10 09:53:51  magnum.np:INFO \u001b[1;37;32m[MinimizerBB] Successfully converged (iter=68, dm_tol = 0.0001)\u001b[0m\n"
     ]
    },
    {
     "name": "stderr",
     "output_type": "stream",
     "text": [
      "\r",
      " 58%|█████▊    | 58/100 [02:29<01:54,  2.74s/it]"
     ]
    },
    {
     "name": "stderr",
     "output_type": "stream",
     "text": [
      "2025-03-10 09:53:51  magnum.np:INFO \u001b[1;37;32m[MinimizerBB] Successfully converged (iter=43, dm_tol = 0.0001)\u001b[0m\n"
     ]
    },
    {
     "name": "stderr",
     "output_type": "stream",
     "text": [
      "\r",
      " 59%|█████▉    | 59/100 [02:29<01:20,  1.95s/it]"
     ]
    },
    {
     "name": "stderr",
     "output_type": "stream",
     "text": [
      "2025-03-10 09:53:51  magnum.np:INFO \u001b[1;37;32m[MinimizerBB] Successfully converged (iter=9, dm_tol = 0.0001)\u001b[0m\n"
     ]
    },
    {
     "name": "stderr",
     "output_type": "stream",
     "text": [
      "2025-03-10 09:53:51  magnum.np:INFO \u001b[1;37;32m[MinimizerBB] Successfully converged (iter=55, dm_tol = 0.0001)\u001b[0m\n"
     ]
    },
    {
     "name": "stderr",
     "output_type": "stream",
     "text": [
      "\r",
      " 61%|██████    | 61/100 [02:29<00:42,  1.09s/it]"
     ]
    },
    {
     "name": "stderr",
     "output_type": "stream",
     "text": [
      "2025-03-10 09:53:51  magnum.np:INFO \u001b[1;37;32m[MinimizerBB] Successfully converged (iter=19, dm_tol = 0.0001)\u001b[0m\n"
     ]
    },
    {
     "name": "stderr",
     "output_type": "stream",
     "text": [
      "2025-03-10 09:53:51  magnum.np:INFO \u001b[1;37;32m[MinimizerBB] Successfully converged (iter=15, dm_tol = 0.0001)\u001b[0m\n"
     ]
    },
    {
     "name": "stderr",
     "output_type": "stream",
     "text": [
      "\r",
      " 63%|██████▎   | 63/100 [02:29<00:25,  1.47it/s]"
     ]
    },
    {
     "name": "stderr",
     "output_type": "stream",
     "text": [
      "2025-03-10 09:53:51  magnum.np:INFO \u001b[1;37;32m[MinimizerBB] Successfully converged (iter=13, dm_tol = 0.0001)\u001b[0m\n"
     ]
    },
    {
     "name": "stderr",
     "output_type": "stream",
     "text": [
      "2025-03-10 09:53:52  magnum.np:INFO \u001b[1;37;32m[MinimizerBB] Successfully converged (iter=21, dm_tol = 0.0001)\u001b[0m\n"
     ]
    },
    {
     "name": "stderr",
     "output_type": "stream",
     "text": [
      "\r",
      " 65%|██████▌   | 65/100 [02:29<00:15,  2.20it/s]"
     ]
    },
    {
     "name": "stderr",
     "output_type": "stream",
     "text": [
      "2025-03-10 09:53:52  magnum.np:INFO \u001b[1;37;32m[MinimizerBB] Successfully converged (iter=0, dm_tol = 0.0001)\u001b[0m\n"
     ]
    },
    {
     "name": "stderr",
     "output_type": "stream",
     "text": [
      "2025-03-10 09:53:52  magnum.np:INFO \u001b[1;37;32m[MinimizerBB] Successfully converged (iter=0, dm_tol = 0.0001)\u001b[0m\n"
     ]
    },
    {
     "name": "stderr",
     "output_type": "stream",
     "text": [
      "2025-03-10 09:53:52  magnum.np:INFO \u001b[1;37;32m[MinimizerBB] Successfully converged (iter=0, dm_tol = 0.0001)\u001b[0m\n"
     ]
    },
    {
     "name": "stderr",
     "output_type": "stream",
     "text": [
      "2025-03-10 09:53:52  magnum.np:INFO \u001b[1;37;32m[MinimizerBB] Successfully converged (iter=0, dm_tol = 0.0001)\u001b[0m\n"
     ]
    },
    {
     "name": "stderr",
     "output_type": "stream",
     "text": [
      "2025-03-10 09:53:52  magnum.np:INFO \u001b[1;37;32m[MinimizerBB] Successfully converged (iter=33, dm_tol = 0.0001)\u001b[0m\n"
     ]
    },
    {
     "name": "stderr",
     "output_type": "stream",
     "text": [
      "\r",
      " 70%|███████   | 70/100 [02:29<00:06,  4.69it/s]"
     ]
    },
    {
     "name": "stderr",
     "output_type": "stream",
     "text": [
      "2025-03-10 09:53:52  magnum.np:INFO \u001b[1;37;32m[MinimizerBB] Successfully converged (iter=11, dm_tol = 0.0001)\u001b[0m\n"
     ]
    },
    {
     "name": "stderr",
     "output_type": "stream",
     "text": [
      "2025-03-10 09:53:52  magnum.np:INFO \u001b[1;37;32m[MinimizerBB] Successfully converged (iter=5, dm_tol = 0.0001)\u001b[0m\n"
     ]
    },
    {
     "name": "stderr",
     "output_type": "stream",
     "text": [
      "2025-03-10 09:53:52  magnum.np:INFO \u001b[1;37;32m[MinimizerBB] Successfully converged (iter=9, dm_tol = 0.0001)\u001b[0m\n"
     ]
    },
    {
     "name": "stderr",
     "output_type": "stream",
     "text": [
      "2025-03-10 09:53:52  magnum.np:INFO \u001b[1;37;32m[MinimizerBB] Successfully converged (iter=0, dm_tol = 0.0001)\u001b[0m\n"
     ]
    },
    {
     "name": "stderr",
     "output_type": "stream",
     "text": [
      "\r",
      " 74%|███████▍  | 74/100 [02:29<00:03,  7.16it/s]"
     ]
    },
    {
     "name": "stderr",
     "output_type": "stream",
     "text": [
      "2025-03-10 09:53:52  magnum.np:INFO \u001b[1;37;32m[MinimizerBB] Successfully converged (iter=5, dm_tol = 0.0001)\u001b[0m\n"
     ]
    },
    {
     "name": "stderr",
     "output_type": "stream",
     "text": [
      "2025-03-10 09:53:52  magnum.np:INFO \u001b[1;37;32m[MinimizerBB] Successfully converged (iter=9, dm_tol = 0.0001)\u001b[0m\n"
     ]
    },
    {
     "name": "stderr",
     "output_type": "stream",
     "text": [
      "2025-03-10 09:53:52  magnum.np:INFO \u001b[1;37;32m[MinimizerBB] Successfully converged (iter=6, dm_tol = 0.0001)\u001b[0m\n"
     ]
    },
    {
     "name": "stderr",
     "output_type": "stream",
     "text": [
      "2025-03-10 09:53:52  magnum.np:INFO \u001b[1;37;32m[MinimizerBB] Successfully converged (iter=1, dm_tol = 0.0001)\u001b[0m\n"
     ]
    },
    {
     "name": "stderr",
     "output_type": "stream",
     "text": [
      "2025-03-10 09:53:52  magnum.np:INFO \u001b[1;37;32m[MinimizerBB] Successfully converged (iter=0, dm_tol = 0.0001)\u001b[0m\n"
     ]
    },
    {
     "name": "stderr",
     "output_type": "stream",
     "text": [
      "2025-03-10 09:53:52  magnum.np:INFO \u001b[1;37;32m[MinimizerBB] Successfully converged (iter=0, dm_tol = 0.0001)\u001b[0m\n"
     ]
    },
    {
     "name": "stderr",
     "output_type": "stream",
     "text": [
      "\r",
      " 80%|████████  | 80/100 [02:30<00:01, 11.93it/s]"
     ]
    },
    {
     "name": "stderr",
     "output_type": "stream",
     "text": [
      "2025-03-10 09:53:52  magnum.np:INFO \u001b[1;37;32m[MinimizerBB] Successfully converged (iter=0, dm_tol = 0.0001)\u001b[0m\n"
     ]
    },
    {
     "name": "stderr",
     "output_type": "stream",
     "text": [
      "2025-03-10 09:53:52  magnum.np:INFO \u001b[1;37;32m[MinimizerBB] Successfully converged (iter=9, dm_tol = 0.0001)\u001b[0m\n"
     ]
    },
    {
     "name": "stderr",
     "output_type": "stream",
     "text": [
      "2025-03-10 09:53:52  magnum.np:INFO \u001b[1;37;32m[MinimizerBB] Successfully converged (iter=0, dm_tol = 0.0001)\u001b[0m\n"
     ]
    },
    {
     "name": "stderr",
     "output_type": "stream",
     "text": [
      "2025-03-10 09:53:52  magnum.np:INFO \u001b[1;37;32m[MinimizerBB] Successfully converged (iter=6, dm_tol = 0.0001)\u001b[0m\n"
     ]
    },
    {
     "name": "stderr",
     "output_type": "stream",
     "text": [
      "2025-03-10 09:53:52  magnum.np:INFO \u001b[1;37;32m[MinimizerBB] Successfully converged (iter=1, dm_tol = 0.0001)\u001b[0m\n"
     ]
    },
    {
     "name": "stderr",
     "output_type": "stream",
     "text": [
      "2025-03-10 09:53:52  magnum.np:INFO \u001b[1;37;32m[MinimizerBB] Successfully converged (iter=8, dm_tol = 0.0001)\u001b[0m\n"
     ]
    },
    {
     "name": "stderr",
     "output_type": "stream",
     "text": [
      "\r",
      " 86%|████████▌ | 86/100 [02:30<00:00, 16.99it/s]"
     ]
    },
    {
     "name": "stderr",
     "output_type": "stream",
     "text": [
      "2025-03-10 09:53:52  magnum.np:INFO \u001b[1;37;32m[MinimizerBB] Successfully converged (iter=2, dm_tol = 0.0001)\u001b[0m\n"
     ]
    },
    {
     "name": "stderr",
     "output_type": "stream",
     "text": [
      "2025-03-10 09:53:52  magnum.np:INFO \u001b[1;37;32m[MinimizerBB] Successfully converged (iter=0, dm_tol = 0.0001)\u001b[0m\n"
     ]
    },
    {
     "name": "stderr",
     "output_type": "stream",
     "text": [
      "2025-03-10 09:53:52  magnum.np:INFO \u001b[1;37;32m[MinimizerBB] Successfully converged (iter=0, dm_tol = 0.0001)\u001b[0m\n"
     ]
    },
    {
     "name": "stderr",
     "output_type": "stream",
     "text": [
      "2025-03-10 09:53:52  magnum.np:INFO \u001b[1;37;32m[MinimizerBB] Successfully converged (iter=0, dm_tol = 0.0001)\u001b[0m\n"
     ]
    },
    {
     "name": "stderr",
     "output_type": "stream",
     "text": [
      "2025-03-10 09:53:52  magnum.np:INFO \u001b[1;37;32m[MinimizerBB] Successfully converged (iter=0, dm_tol = 0.0001)\u001b[0m\n"
     ]
    },
    {
     "name": "stderr",
     "output_type": "stream",
     "text": [
      "2025-03-10 09:53:52  magnum.np:INFO \u001b[1;37;32m[MinimizerBB] Successfully converged (iter=0, dm_tol = 0.0001)\u001b[0m\n"
     ]
    },
    {
     "name": "stderr",
     "output_type": "stream",
     "text": [
      "2025-03-10 09:53:52  magnum.np:INFO \u001b[1;37;32m[MinimizerBB] Successfully converged (iter=0, dm_tol = 0.0001)\u001b[0m\n"
     ]
    },
    {
     "name": "stderr",
     "output_type": "stream",
     "text": [
      "2025-03-10 09:53:52  magnum.np:INFO \u001b[1;37;32m[MinimizerBB] Successfully converged (iter=0, dm_tol = 0.0001)\u001b[0m\n"
     ]
    },
    {
     "name": "stderr",
     "output_type": "stream",
     "text": [
      "2025-03-10 09:53:52  magnum.np:INFO \u001b[1;37;32m[MinimizerBB] Successfully converged (iter=6, dm_tol = 0.0001)\u001b[0m\n"
     ]
    },
    {
     "name": "stderr",
     "output_type": "stream",
     "text": [
      "\r",
      " 95%|█████████▌| 95/100 [02:30<00:00, 26.99it/s]"
     ]
    },
    {
     "name": "stderr",
     "output_type": "stream",
     "text": [
      "2025-03-10 09:53:52  magnum.np:INFO \u001b[1;37;32m[MinimizerBB] Successfully converged (iter=0, dm_tol = 0.0001)\u001b[0m\n"
     ]
    },
    {
     "name": "stderr",
     "output_type": "stream",
     "text": [
      "2025-03-10 09:53:52  magnum.np:INFO \u001b[1;37;32m[MinimizerBB] Successfully converged (iter=6, dm_tol = 0.0001)\u001b[0m\n"
     ]
    },
    {
     "name": "stderr",
     "output_type": "stream",
     "text": [
      "2025-03-10 09:53:52  magnum.np:INFO \u001b[1;37;32m[MinimizerBB] Successfully converged (iter=0, dm_tol = 0.0001)\u001b[0m\n"
     ]
    },
    {
     "name": "stderr",
     "output_type": "stream",
     "text": [
      "2025-03-10 09:53:52  magnum.np:INFO \u001b[1;37;32m[MinimizerBB] Successfully converged (iter=0, dm_tol = 0.0001)\u001b[0m\n"
     ]
    },
    {
     "name": "stderr",
     "output_type": "stream",
     "text": [
      "2025-03-10 09:53:52  magnum.np:INFO \u001b[1;37;32m[MinimizerBB] Successfully converged (iter=0, dm_tol = 0.0001)\u001b[0m\n"
     ]
    },
    {
     "name": "stderr",
     "output_type": "stream",
     "text": [
      "\r",
      "100%|██████████| 100/100 [02:30<00:00,  1.50s/it]"
     ]
    },
    {
     "name": "stdout",
     "output_type": "stream",
     "text": [
      "\n",
      "===============================================================================\n",
      "TIMER REPORT\n",
      "===============================================================================\n",
      "Operation                        No of calls    Avg time [ms]    Total time [s]\n",
      "-----------------------------  -------------  ---------------  ----------------\n",
      "MinimizerBB.minimize                     100     1498.86           149.886\n",
      "    UniaxialAnisotropyField.h          54480        0.255019        13.8934\n",
      "    ExchangeField.h                   108960        0.792308        86.3298\n",
      "    RKKYField.h                        54480        0.174202         9.49051\n",
      "    ExternalField.h                    54480        0.0132831        0.723666\n",
      "ExternalField.h                          100        0.0217353        0.00217353\n",
      "-----------------------------  -------------  ---------------  ----------------\n",
      "Total                                                              150.359\n",
      "Missing                                                              0.470811\n",
      "===============================================================================\n",
      "\n"
     ]
    },
    {
     "name": "stderr",
     "output_type": "stream",
     "text": [
      "\n"
     ]
    }
   ],
   "source": [
    "from magnumnp import *\n",
    "import torch\n",
    "import numpy as np\n",
    "import pathlib\n",
    "from tqdm import tqdm\n",
    "\n",
    "set_log_level(25) # show info_green, but hide info_blue\n",
    "Timer.enable()\n",
    "try:\n",
    "    this_dir = pathlib.Path(__file__).resolve().parent\n",
    "except:\n",
    "    this_dir = pathlib.Path().resolve()\n",
    "\n",
    "A = 1e-11\n",
    "Js = 1.0\n",
    "Ms = Js/constants.mu_0\n",
    "Ku = 1e5\n",
    "tfinal = 20e-9\n",
    "J_rkky = -2.0e-3\n",
    "Hxmin = 4.8 * 2*Ku/Js\n",
    "Hxmax = 5.0 * 2*Ku/Js\n",
    "\n",
    "# initialize mesh\n",
    "n  = (1, 1, 400)\n",
    "dx = (2e-9, 2e-9, 2e-9)\n",
    "mesh = Mesh(n, dx)\n",
    "state = State(mesh)\n",
    "\n",
    "state.material.set({\n",
    "        \"Ms\": Ms,\n",
    "        \"A\": A,\n",
    "        \"Ku\": Ku,\n",
    "        \"Ku_axis\": [0,1,0],\n",
    "        \"alpha\": 1.0\n",
    "        })\n",
    "\n",
    "domain1 = state.Constant(False, dtype=torch.bool)\n",
    "domain1[:,:,n[2]//2:] = True\n",
    "\n",
    "domain2 = state.Constant(False, dtype=torch.bool)\n",
    "domain2[:,:,:-n[2]//2] = True\n",
    "\n",
    "# Set initial magnetization\n",
    "state.m = state.Constant([0., 0., 0.])\n",
    "state.m[domain1] = torch.tensor([0., -1., 0.])\n",
    "state.m[domain2] = torch.tensor([0., 1., 0.])\n",
    "\n",
    "# define field terms\n",
    "exchange1 = ExchangeField(domain1) # Two seperate exchange regions are required,\n",
    "exchange2 = ExchangeField(domain2) # so that at the RKKY interface the bulk exchange is zero\n",
    "rkky      = RKKYField(J_rkky, \"z\", n[2]//2-1, n[2]//2, order=2)\n",
    "aniso     = UniaxialAnisotropyField()\n",
    "zeeman    = ExternalField(state.Constant([0, 0, Hxmin]))\n",
    "\n",
    "minimizer = MinimizerBB([aniso, exchange1, exchange2, rkky, zeeman])\n",
    "logger = Logger(this_dir / \"data\", ['t', 'm', zeeman.h], ['m'], fields_every = 100)\n",
    "for h in tqdm(torch.linspace(Hxmin, Hxmax, steps=100)):\n",
    "    zeeman.h = state.Constant([0, 0, h])\n",
    "    minimizer.minimize(state, dm_tol=1e-4)\n",
    "    logger << state\n",
    "\n",
    "Timer.print_report()"
   ]
  },
  {
   "cell_type": "markdown",
   "id": "d8db5f1b",
   "metadata": {},
   "source": [
    "## Plot Results"
   ]
  },
  {
   "cell_type": "code",
   "execution_count": 3,
   "id": "d58b6d30",
   "metadata": {
    "execution": {
     "iopub.execute_input": "2025-03-10T09:53:52.684427Z",
     "iopub.status.busy": "2025-03-10T09:53:52.683662Z",
     "iopub.status.idle": "2025-03-10T09:53:53.075419Z",
     "shell.execute_reply": "2025-03-10T09:53:53.074514Z"
    }
   },
   "outputs": [
    {
     "data": {
      "image/png": "[encoded data removed]",
      "text/plain": [
       "<Figure size 1500x500 with 1 Axes>"
      ]
     },
     "metadata": {},
     "output_type": "display_data"
    }
   ],
   "source": [
    "import numpy as np\n",
    "import matplotlib.pyplot as plt\n",
    "import warnings\n",
    "warnings.filterwarnings('ignore')\n",
    "\n",
    "data = np.loadtxt(\"data/log.dat\")\n",
    "ref = np.loadtxt(\"ref/log.dat\")\n",
    "\n",
    "Hk = 2 * 1e5 / 1.\n",
    "\n",
    "fig, ax = plt.subplots(figsize=(15,5))\n",
    "cycle = plt.rcParams['axes.prop_cycle'].by_key()['color']\n",
    "\n",
    "ax.plot(data[:,6]/Hk, data[:,3], '-', color = cycle[2], label = \"magnum.np\")\n",
    "ax.plot(ref[:,6]/Hk, ref[:,3], '-', color = cycle[2], linewidth = 6, alpha = 0.4, label = \"reference\")\n",
    "\n",
    "ax.set_xlim([4.82,5.0])\n",
    "ax.set_ylim([0.99994,1.000001])\n",
    "ax.set_yticklabels(['0.99994', '0.99995', '0.99996', '0.99997', '0.99998', '0.99999', '1.00000'])\n",
    "ax.set_title(\"RKKY Standard Problem\")\n",
    "ax.set_xlabel(\"External Field H$_{ext}$ / H$_k$ [1]\")\n",
    "ax.set_ylabel(\"Magnetization m\")\n",
    "ax.legend(ncol=3)\n",
    "ax.grid()\n",
    "fig.savefig(\"data/results.png\")"
   ]
  }
 ],
 "metadata": {
  "accelerator": "GPU",
  "colab": {
   "gpuType": "T4"
  },
  "jupytext": {
   "notebook_metadata_filter": "colab,accelerator"
  },
  "kernelspec": {
   "display_name": "Python 3 (ipykernel)",
   "language": "python",
   "name": "python3"
  },
  "language_info": {
   "codemirror_mode": {
    "name": "ipython",
    "version": 3
   },
   "file_extension": ".py",
   "mimetype": "text/x-python",
   "name": "python",
   "nbconvert_exporter": "python",
   "pygments_lexer": "ipython3",
   "version": "3.10.16"
  }
 },
 "nbformat": 4,
 "nbformat_minor": 5
}
