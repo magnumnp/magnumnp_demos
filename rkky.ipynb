{
  "cells": [
    {
      "cell_type": "markdown",
      "id": "d27b9b0f",
      "metadata": {},
      "source": [
        "This jupyter-notebook has be created with 'jupytext'.\n",
        "\n",
        "Use this [Link](https://colab.research.google.com/github/magnumnp/magnumnp_demos/blob/main/rkky.ipynb) to directly open the Notebook in Google Colab."
      ]
    },
    {
      "cell_type": "markdown",
      "id": "413d11ba",
      "metadata": {},
      "source": [
        "## Install magnum.np and fetch reference data (required for Colab)"
      ]
    },
    {
      "cell_type": "code",
      "execution_count": 1,
      "id": "0a2781cc",
      "metadata": {
        "execution": {
          "iopub.execute_input": "2024-11-05T13:21:26.834741Z",
          "iopub.status.busy": "2024-11-05T13:21:26.834184Z",
          "iopub.status.idle": "2024-11-05T13:21:27.932582Z",
          "shell.execute_reply": "2024-11-05T13:21:27.931611Z"
        },
        "lines_to_next_cell": 0
      },
      "outputs": [
        {
          "name": "stdout",
          "output_type": "stream",
          "text": [
            "\u001b[33mWARNING: Running pip as the 'root' user can result in broken permissions and conflicting behaviour with the system package manager, possibly rendering your system unusable.It is recommended to use a virtual environment instead: https://pip.pypa.io/warnings/venv. Use the --root-user-action option if you know what you are doing and want to suppress this warning.\u001b[0m\u001b[33m\r\n",
            "\u001b[0m"
          ]
        }
      ],
      "source": [
        "!pip install -q triton magnumnp\n",
        "from os import path\n",
        "if not path.isdir(\"ref\"):\n",
        "    !mkdir ref\n",
        "    !wget -P ref https://gitlab.com/magnum.np/magnum.np/raw/main/demos/rkky/ref/m.dat &> /dev/null"
      ]
    },
    {
      "cell_type": "markdown",
      "id": "fa4e9482",
      "metadata": {},
      "source": [
        "# RKKY Example and benchmark problem\n",
        "\n",
        "\"Accurate finite-difference micromagnetics of magnets including RKKY interaction\",\n",
        "Suess, Dieter, et al.,  arXiv preprint arXiv:2206.11063 (2022).\n",
        "\n",
        "The analytical saturation field Hx = 5*Hk"
      ]
    },
    {
      "cell_type": "markdown",
      "id": "cbebec8d",
      "metadata": {},
      "source": [
        "## Run Simulation"
      ]
    },
    {
      "cell_type": "code",
      "execution_count": 2,
      "id": "4942a445",
      "metadata": {
        "execution": {
          "iopub.execute_input": "2024-11-05T13:21:27.935931Z",
          "iopub.status.busy": "2024-11-05T13:21:27.935631Z",
          "iopub.status.idle": "2024-11-05T13:24:23.078277Z",
          "shell.execute_reply": "2024-11-05T13:24:23.077380Z"
        },
        "lines_to_next_cell": 0
      },
      "outputs": [
        {
          "name": "stderr",
          "output_type": "stream",
          "text": [
            "2024-11-05 13:21:32  magnum.np:INFO \u001b[1;37;32mmagnum.np 2.0.1\u001b[0m\n"
          ]
        },
        {
          "name": "stderr",
          "output_type": "stream",
          "text": [
            "2024-11-05 13:21:32  magnum.np:INFO \u001b[1;37;32m[State] running on device: cpu (dtype = float64)\u001b[0m\n"
          ]
        },
        {
          "name": "stderr",
          "output_type": "stream",
          "text": [
            "2024-11-05 13:21:32  magnum.np:INFO \u001b[1;37;32m[Mesh] 1x1x400 (dx= 2e-09 x 2e-09 x 2e-09)\u001b[0m\n"
          ]
        },
        {
          "name": "stderr",
          "output_type": "stream",
          "text": [
            "\r",
            "  0%|          | 0/100 [00:00<?, ?it/s]"
          ]
        },
        {
          "name": "stderr",
          "output_type": "stream",
          "text": [
            "\r",
            "  1%|          | 1/100 [00:24<40:25, 24.50s/it]"
          ]
        },
        {
          "name": "stderr",
          "output_type": "stream",
          "text": [
            "\r",
            "  2%|\u258f         | 2/100 [00:25<17:19, 10.61s/it]"
          ]
        },
        {
          "name": "stderr",
          "output_type": "stream",
          "text": [
            "\r",
            "  3%|\u258e         | 3/100 [00:26<10:00,  6.19s/it]"
          ]
        },
        {
          "name": "stderr",
          "output_type": "stream",
          "text": [
            "\r",
            "  4%|\u258d         | 4/100 [00:27<06:35,  4.12s/it]"
          ]
        },
        {
          "name": "stderr",
          "output_type": "stream",
          "text": [
            "\r",
            "  5%|\u258c         | 5/100 [00:28<04:39,  2.95s/it]"
          ]
        },
        {
          "name": "stderr",
          "output_type": "stream",
          "text": [
            "\r",
            "  6%|\u258c         | 6/100 [00:29<03:31,  2.25s/it]"
          ]
        },
        {
          "name": "stderr",
          "output_type": "stream",
          "text": [
            "\r",
            "  7%|\u258b         | 7/100 [00:29<02:50,  1.83s/it]"
          ]
        },
        {
          "name": "stderr",
          "output_type": "stream",
          "text": [
            "\r",
            "  8%|\u258a         | 8/100 [00:30<02:23,  1.56s/it]"
          ]
        },
        {
          "name": "stderr",
          "output_type": "stream",
          "text": [
            "\r",
            "  9%|\u2589         | 9/100 [00:31<02:06,  1.39s/it]"
          ]
        },
        {
          "name": "stderr",
          "output_type": "stream",
          "text": [
            "\r",
            " 10%|\u2588         | 10/100 [00:33<01:54,  1.27s/it]"
          ]
        },
        {
          "name": "stderr",
          "output_type": "stream",
          "text": [
            "\r",
            " 11%|\u2588         | 11/100 [00:34<01:48,  1.22s/it]"
          ]
        },
        {
          "name": "stderr",
          "output_type": "stream",
          "text": [
            "\r",
            " 12%|\u2588\u258f        | 12/100 [00:35<01:44,  1.18s/it]"
          ]
        },
        {
          "name": "stderr",
          "output_type": "stream",
          "text": [
            "\r",
            " 13%|\u2588\u258e        | 13/100 [00:36<01:39,  1.15s/it]"
          ]
        },
        {
          "name": "stderr",
          "output_type": "stream",
          "text": [
            "\r",
            " 14%|\u2588\u258d        | 14/100 [00:37<01:37,  1.13s/it]"
          ]
        },
        {
          "name": "stderr",
          "output_type": "stream",
          "text": [
            "\r",
            " 15%|\u2588\u258c        | 15/100 [00:38<01:35,  1.13s/it]"
          ]
        },
        {
          "name": "stderr",
          "output_type": "stream",
          "text": [
            "\r",
            " 16%|\u2588\u258c        | 16/100 [00:39<01:35,  1.14s/it]"
          ]
        },
        {
          "name": "stderr",
          "output_type": "stream",
          "text": [
            "\r",
            " 17%|\u2588\u258b        | 17/100 [00:40<01:37,  1.17s/it]"
          ]
        },
        {
          "name": "stderr",
          "output_type": "stream",
          "text": [
            "\r",
            " 18%|\u2588\u258a        | 18/100 [00:42<01:36,  1.18s/it]"
          ]
        },
        {
          "name": "stderr",
          "output_type": "stream",
          "text": [
            "\r",
            " 19%|\u2588\u2589        | 19/100 [00:43<01:38,  1.22s/it]"
          ]
        },
        {
          "name": "stderr",
          "output_type": "stream",
          "text": [
            "\r",
            " 20%|\u2588\u2588        | 20/100 [00:44<01:40,  1.26s/it]"
          ]
        },
        {
          "name": "stderr",
          "output_type": "stream",
          "text": [
            "\r",
            " 21%|\u2588\u2588        | 21/100 [00:46<01:41,  1.28s/it]"
          ]
        },
        {
          "name": "stderr",
          "output_type": "stream",
          "text": [
            "\r",
            " 22%|\u2588\u2588\u258f       | 22/100 [00:47<01:44,  1.34s/it]"
          ]
        },
        {
          "name": "stderr",
          "output_type": "stream",
          "text": [
            "\r",
            " 23%|\u2588\u2588\u258e       | 23/100 [00:49<01:46,  1.39s/it]"
          ]
        },
        {
          "name": "stderr",
          "output_type": "stream",
          "text": [
            "\r",
            " 24%|\u2588\u2588\u258d       | 24/100 [00:50<01:50,  1.45s/it]"
          ]
        },
        {
          "name": "stderr",
          "output_type": "stream",
          "text": [
            "\r",
            " 25%|\u2588\u2588\u258c       | 25/100 [00:52<01:49,  1.46s/it]"
          ]
        },
        {
          "name": "stderr",
          "output_type": "stream",
          "text": [
            "\r",
            " 26%|\u2588\u2588\u258c       | 26/100 [00:53<01:52,  1.52s/it]"
          ]
        },
        {
          "name": "stderr",
          "output_type": "stream",
          "text": [
            "\r",
            " 27%|\u2588\u2588\u258b       | 27/100 [00:55<01:54,  1.56s/it]"
          ]
        },
        {
          "name": "stderr",
          "output_type": "stream",
          "text": [
            "\r",
            " 28%|\u2588\u2588\u258a       | 28/100 [00:57<01:56,  1.62s/it]"
          ]
        },
        {
          "name": "stderr",
          "output_type": "stream",
          "text": [
            "\r",
            " 29%|\u2588\u2588\u2589       | 29/100 [00:59<02:00,  1.70s/it]"
          ]
        },
        {
          "name": "stderr",
          "output_type": "stream",
          "text": [
            "\r",
            " 30%|\u2588\u2588\u2588       | 30/100 [01:01<02:05,  1.80s/it]"
          ]
        },
        {
          "name": "stderr",
          "output_type": "stream",
          "text": [
            "\r",
            " 31%|\u2588\u2588\u2588       | 31/100 [01:03<02:08,  1.86s/it]"
          ]
        },
        {
          "name": "stderr",
          "output_type": "stream",
          "text": [
            "\r",
            " 32%|\u2588\u2588\u2588\u258f      | 32/100 [01:05<02:11,  1.93s/it]"
          ]
        },
        {
          "name": "stderr",
          "output_type": "stream",
          "text": [
            "\r",
            " 33%|\u2588\u2588\u2588\u258e      | 33/100 [01:07<02:14,  2.00s/it]"
          ]
        },
        {
          "name": "stderr",
          "output_type": "stream",
          "text": [
            "\r",
            " 34%|\u2588\u2588\u2588\u258d      | 34/100 [01:09<02:16,  2.07s/it]"
          ]
        },
        {
          "name": "stderr",
          "output_type": "stream",
          "text": [
            "\r",
            " 35%|\u2588\u2588\u2588\u258c      | 35/100 [01:11<02:19,  2.15s/it]"
          ]
        },
        {
          "name": "stderr",
          "output_type": "stream",
          "text": [
            "\r",
            " 36%|\u2588\u2588\u2588\u258c      | 36/100 [01:14<02:25,  2.27s/it]"
          ]
        },
        {
          "name": "stderr",
          "output_type": "stream",
          "text": [
            "\r",
            " 37%|\u2588\u2588\u2588\u258b      | 37/100 [01:17<02:32,  2.41s/it]"
          ]
        },
        {
          "name": "stderr",
          "output_type": "stream",
          "text": [
            "\r",
            " 38%|\u2588\u2588\u2588\u258a      | 38/100 [01:20<02:39,  2.58s/it]"
          ]
        },
        {
          "name": "stderr",
          "output_type": "stream",
          "text": [
            "\r",
            " 39%|\u2588\u2588\u2588\u2589      | 39/100 [01:23<02:46,  2.73s/it]"
          ]
        },
        {
          "name": "stderr",
          "output_type": "stream",
          "text": [
            "\r",
            " 40%|\u2588\u2588\u2588\u2588      | 40/100 [01:26<02:53,  2.90s/it]"
          ]
        },
        {
          "name": "stderr",
          "output_type": "stream",
          "text": [
            "\r",
            " 41%|\u2588\u2588\u2588\u2588      | 41/100 [01:30<03:04,  3.12s/it]"
          ]
        },
        {
          "name": "stderr",
          "output_type": "stream",
          "text": [
            "\r",
            " 42%|\u2588\u2588\u2588\u2588\u258f     | 42/100 [01:34<03:16,  3.38s/it]"
          ]
        },
        {
          "name": "stderr",
          "output_type": "stream",
          "text": [
            "\r",
            " 43%|\u2588\u2588\u2588\u2588\u258e     | 43/100 [01:38<03:27,  3.65s/it]"
          ]
        },
        {
          "name": "stderr",
          "output_type": "stream",
          "text": [
            "\r",
            " 44%|\u2588\u2588\u2588\u2588\u258d     | 44/100 [01:43<03:48,  4.07s/it]"
          ]
        },
        {
          "name": "stderr",
          "output_type": "stream",
          "text": [
            "\r",
            " 45%|\u2588\u2588\u2588\u2588\u258c     | 45/100 [01:48<04:04,  4.45s/it]"
          ]
        },
        {
          "name": "stderr",
          "output_type": "stream",
          "text": [
            "\r",
            " 46%|\u2588\u2588\u2588\u2588\u258c     | 46/100 [01:54<04:13,  4.70s/it]"
          ]
        },
        {
          "name": "stderr",
          "output_type": "stream",
          "text": [
            "\r",
            " 47%|\u2588\u2588\u2588\u2588\u258b     | 47/100 [01:59<04:18,  4.87s/it]"
          ]
        },
        {
          "name": "stderr",
          "output_type": "stream",
          "text": [
            "\r",
            " 48%|\u2588\u2588\u2588\u2588\u258a     | 48/100 [02:04<04:20,  5.01s/it]"
          ]
        },
        {
          "name": "stderr",
          "output_type": "stream",
          "text": [
            "\r",
            " 49%|\u2588\u2588\u2588\u2588\u2589     | 49/100 [02:10<04:20,  5.11s/it]"
          ]
        },
        {
          "name": "stderr",
          "output_type": "stream",
          "text": [
            "\r",
            " 50%|\u2588\u2588\u2588\u2588\u2588     | 50/100 [02:15<04:19,  5.19s/it]"
          ]
        },
        {
          "name": "stderr",
          "output_type": "stream",
          "text": [
            "\r",
            " 51%|\u2588\u2588\u2588\u2588\u2588     | 51/100 [02:20<04:17,  5.25s/it]"
          ]
        },
        {
          "name": "stderr",
          "output_type": "stream",
          "text": [
            "\r",
            " 52%|\u2588\u2588\u2588\u2588\u2588\u258f    | 52/100 [02:26<04:14,  5.30s/it]"
          ]
        },
        {
          "name": "stderr",
          "output_type": "stream",
          "text": [
            "\r",
            " 53%|\u2588\u2588\u2588\u2588\u2588\u258e    | 53/100 [02:31<04:09,  5.30s/it]"
          ]
        },
        {
          "name": "stderr",
          "output_type": "stream",
          "text": [
            "\r",
            " 54%|\u2588\u2588\u2588\u2588\u2588\u258d    | 54/100 [02:36<04:04,  5.31s/it]"
          ]
        },
        {
          "name": "stderr",
          "output_type": "stream",
          "text": [
            "\r",
            " 55%|\u2588\u2588\u2588\u2588\u2588\u258c    | 55/100 [02:42<03:58,  5.30s/it]"
          ]
        },
        {
          "name": "stderr",
          "output_type": "stream",
          "text": [
            "\r",
            " 56%|\u2588\u2588\u2588\u2588\u2588\u258c    | 56/100 [02:47<03:53,  5.30s/it]"
          ]
        },
        {
          "name": "stderr",
          "output_type": "stream",
          "text": [
            "\r",
            " 57%|\u2588\u2588\u2588\u2588\u2588\u258b    | 57/100 [02:48<02:55,  4.08s/it]"
          ]
        },
        {
          "name": "stderr",
          "output_type": "stream",
          "text": [
            "\r",
            " 58%|\u2588\u2588\u2588\u2588\u2588\u258a    | 58/100 [02:48<02:02,  2.91s/it]"
          ]
        },
        {
          "name": "stderr",
          "output_type": "stream",
          "text": [
            "\r",
            " 59%|\u2588\u2588\u2588\u2588\u2588\u2589    | 59/100 [02:49<01:25,  2.08s/it]"
          ]
        },
        {
          "name": "stderr",
          "output_type": "stream",
          "text": [
            "\r",
            " 61%|\u2588\u2588\u2588\u2588\u2588\u2588    | 61/100 [02:49<00:45,  1.16s/it]"
          ]
        },
        {
          "name": "stderr",
          "output_type": "stream",
          "text": [
            "\r",
            " 63%|\u2588\u2588\u2588\u2588\u2588\u2588\u258e   | 63/100 [02:49<00:26,  1.38it/s]"
          ]
        },
        {
          "name": "stderr",
          "output_type": "stream",
          "text": [
            "\r",
            " 65%|\u2588\u2588\u2588\u2588\u2588\u2588\u258c   | 65/100 [02:49<00:16,  2.07it/s]"
          ]
        },
        {
          "name": "stderr",
          "output_type": "stream",
          "text": [
            "\r",
            " 70%|\u2588\u2588\u2588\u2588\u2588\u2588\u2588   | 70/100 [02:49<00:06,  4.43it/s]"
          ]
        },
        {
          "name": "stderr",
          "output_type": "stream",
          "text": [
            "\r",
            " 74%|\u2588\u2588\u2588\u2588\u2588\u2588\u2588\u258d  | 74/100 [02:49<00:03,  6.76it/s]"
          ]
        },
        {
          "name": "stderr",
          "output_type": "stream",
          "text": [
            "\r",
            " 79%|\u2588\u2588\u2588\u2588\u2588\u2588\u2588\u2589  | 79/100 [02:49<00:02, 10.44it/s]"
          ]
        },
        {
          "name": "stderr",
          "output_type": "stream",
          "text": [
            "\r",
            " 85%|\u2588\u2588\u2588\u2588\u2588\u2588\u2588\u2588\u258c | 85/100 [02:49<00:00, 15.78it/s]"
          ]
        },
        {
          "name": "stderr",
          "output_type": "stream",
          "text": [
            "\r",
            " 93%|\u2588\u2588\u2588\u2588\u2588\u2588\u2588\u2588\u2588\u258e| 93/100 [02:50<00:00, 24.35it/s]"
          ]
        },
        {
          "name": "stderr",
          "output_type": "stream",
          "text": [
            "\r",
            "100%|\u2588\u2588\u2588\u2588\u2588\u2588\u2588\u2588\u2588\u2588| 100/100 [02:50<00:00, 31.50it/s]"
          ]
        },
        {
          "name": "stderr",
          "output_type": "stream",
          "text": [
            "\r",
            "100%|\u2588\u2588\u2588\u2588\u2588\u2588\u2588\u2588\u2588\u2588| 100/100 [02:50<00:00,  1.70s/it]"
          ]
        },
        {
          "name": "stdout",
          "output_type": "stream",
          "text": [
            "\n",
            "===============================================================================\n",
            "TIMER REPORT\n",
            "===============================================================================\n",
            "Operation                        No of calls    Avg time [ms]    Total time [s]\n",
            "-----------------------------  -------------  ---------------  ----------------\n",
            "MinimizerBB.minimize                     100     1696.39           169.639\n",
            "    UniaxialAnisotropyField.h          54480        0.468732        25.5365\n",
            "    ExchangeField.h                   108960        0.843761        91.9362\n",
            "    RKKYField.h                        54480        0.162236         8.8386\n",
            "    ExternalField.h                    54480        0.0175631        0.956838\n",
            "ExternalField.h                          100        0.0149104        0.00149104\n",
            "-----------------------------  -------------  ---------------  ----------------\n",
            "Total                                                              170.195\n",
            "Missing                                                              0.553836\n",
            "===============================================================================\n",
            "\n"
          ]
        },
        {
          "name": "stderr",
          "output_type": "stream",
          "text": [
            "\n"
          ]
        }
      ],
      "source": [
        "from magnumnp import *\n",
        "import torch\n",
        "import numpy as np\n",
        "import pathlib\n",
        "from tqdm import tqdm\n",
        "\n",
        "set_log_level(25) # show info_green, but hide info_blue\n",
        "Timer.enable()\n",
        "try:\n",
        "    this_dir = pathlib.Path(__file__).resolve().parent\n",
        "except:\n",
        "    this_dir = pathlib.Path().resolve()\n",
        "\n",
        "A = 1e-11\n",
        "Js = 1.0\n",
        "Ms = Js/constants.mu_0\n",
        "Ku = 1e5\n",
        "tfinal = 20e-9\n",
        "J_rkky = -2.0e-3\n",
        "Hxmin = 4.8 * 2*Ku/Js\n",
        "Hxmax = 5.0 * 2*Ku/Js\n",
        "\n",
        "# initialize mesh\n",
        "n  = (1, 1, 400)\n",
        "dx = (2e-9, 2e-9, 2e-9)\n",
        "mesh = Mesh(n, dx)\n",
        "state = State(mesh)\n",
        "\n",
        "state.material.set({\n",
        "        \"Ms\": Ms,\n",
        "        \"A\": A,\n",
        "        \"Ku\": Ku,\n",
        "        \"Ku_axis\": [0,1,0],\n",
        "        \"alpha\": 1.0\n",
        "        })\n",
        "\n",
        "domain1 = state.Constant(False, dtype=torch.bool)\n",
        "domain1[:,:,n[2]//2:] = True\n",
        "\n",
        "domain2 = state.Constant(False, dtype=torch.bool)\n",
        "domain2[:,:,:-n[2]//2] = True\n",
        "\n",
        "# Set initial magnetization\n",
        "state.m = state.Constant([0., 0., 0.])\n",
        "state.m[domain1] = torch.tensor([0., -1., 0.])\n",
        "state.m[domain2] = torch.tensor([0., 1., 0.])\n",
        "\n",
        "# define field terms\n",
        "exchange1 = ExchangeField(domain1) # Two seperate exchange regions are required,\n",
        "exchange2 = ExchangeField(domain2) # so that at the RKKY interface the bulk exchange is zero\n",
        "rkky      = RKKYField(J_rkky, \"z\", n[2]//2-1, n[2]//2, order=2)\n",
        "aniso     = UniaxialAnisotropyField()\n",
        "zeeman    = ExternalField(state.Constant([0, 0, Hxmin]))\n",
        "\n",
        "minimizer = MinimizerBB([aniso, exchange1, exchange2, rkky, zeeman])\n",
        "logger = Logger(this_dir / \"data\", ['t', 'm', zeeman.h], ['m'], fields_every = 100)\n",
        "for h in tqdm(torch.linspace(Hxmin, Hxmax, steps=100)):\n",
        "    zeeman.h = state.Constant([0, 0, h])\n",
        "    minimizer.minimize(state, dm_tol=1e-4)\n",
        "    logger << state\n",
        "\n",
        "Timer.print_report()"
      ]
    },
    {
      "cell_type": "markdown",
      "id": "ca870936",
      "metadata": {},
      "source": [
        "## Plot Results"
      ]
    },
    {
      "cell_type": "code",
      "execution_count": 3,
      "id": "4523133c",
      "metadata": {
        "execution": {
          "iopub.execute_input": "2024-11-05T13:24:23.081410Z",
          "iopub.status.busy": "2024-11-05T13:24:23.080623Z",
          "iopub.status.idle": "2024-11-05T13:24:23.466115Z",
          "shell.execute_reply": "2024-11-05T13:24:23.465167Z"
        }
      },
      "outputs": [
        {
          "data": {
            "image/png": "[encoded data removed]",
            "text/plain": [
              "<Figure size 1500x500 with 1 Axes>"
            ]
          },
          "metadata": {},
          "output_type": "display_data"
        }
      ],
      "source": [
        "import numpy as np\n",
        "import matplotlib.pyplot as plt\n",
        "import warnings\n",
        "warnings.filterwarnings('ignore')\n",
        "\n",
        "data = np.loadtxt(\"data/log.dat\")\n",
        "ref = np.loadtxt(\"ref/log.dat\")\n",
        "\n",
        "Hk = 2 * 1e5 / 1.\n",
        "\n",
        "fig, ax = plt.subplots(figsize=(15,5))\n",
        "cycle = plt.rcParams['axes.prop_cycle'].by_key()['color']\n",
        "\n",
        "ax.plot(data[:,6]/Hk, data[:,3], '-', color = cycle[2], label = \"magnum.np\")\n",
        "ax.plot(ref[:,6]/Hk, ref[:,3], '-', color = cycle[2], linewidth = 6, alpha = 0.4, label = \"reference\")\n",
        "\n",
        "ax.set_xlim([4.82,5.0])\n",
        "ax.set_ylim([0.99994,1.000001])\n",
        "ax.set_yticklabels(['0.99994', '0.99995', '0.99996', '0.99997', '0.99998', '0.99999', '1.00000'])\n",
        "ax.set_title(\"RKKY Standard Problem\")\n",
        "ax.set_xlabel(\"External Field H$_{ext}$ / H$_k$ [1]\")\n",
        "ax.set_ylabel(\"Magnetization m\")\n",
        "ax.legend(ncol=3)\n",
        "ax.grid()\n",
        "fig.savefig(\"data/results.png\")"
      ]
    }
  ],
  "metadata": {
    "jupytext": {
      "cell_metadata_filter": "-all"
    },
    "kernelspec": {
      "display_name": "Python 3 (ipykernel)",
      "language": "python",
      "name": "python3"
    },
    "language_info": {
      "codemirror_mode": {
        "name": "ipython",
        "version": 3
      },
      "file_extension": ".py",
      "mimetype": "text/x-python",
      "name": "python",
      "nbconvert_exporter": "python",
      "pygments_lexer": "ipython3",
      "version": "3.10.15"
    },
    "colab": {
      "gpuType": "T4"
    },
    "accelerator": "GPU"
  },
  "nbformat": 4,
  "nbformat_minor": 5
}