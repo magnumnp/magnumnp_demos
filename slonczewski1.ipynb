{
 "cells": [
  {
   "cell_type": "markdown",
   "id": "54090051",
   "metadata": {},
   "source": [
    "This jupyter-notebook has be created with 'jupytext'.\n",
    "\n",
    "Use this [Link](https://colab.research.google.com/github/magnumnp/magnumnp_demos/blob/main/slonczewski1.ipynb) to directly open the Notebook in Google Colab."
   ]
  },
  {
   "cell_type": "markdown",
   "id": "409bc555",
   "metadata": {},
   "source": [
    "## Install magnum.np and fetch reference data (required for Colab)"
   ]
  },
  {
   "cell_type": "code",
   "execution_count": 1,
   "id": "e3d9f190",
   "metadata": {
    "execution": {
     "iopub.execute_input": "2025-03-27T21:47:56.770318Z",
     "iopub.status.busy": "2025-03-27T21:47:56.770043Z",
     "iopub.status.idle": "2025-03-27T21:47:57.733660Z",
     "shell.execute_reply": "2025-03-27T21:47:57.732701Z"
    },
    "lines_to_next_cell": 0
   },
   "outputs": [
    {
     "name": "stdout",
     "output_type": "stream",
     "text": [
      "\u001b[33mWARNING: Running pip as the 'root' user can result in broken permissions and conflicting behaviour with the system package manager, possibly rendering your system unusable. It is recommended to use a virtual environment instead: https://pip.pypa.io/warnings/venv. Use the --root-user-action option if you know what you are doing and want to suppress this warning.\u001b[0m\u001b[33m\r\n",
      "\u001b[0m"
     ]
    }
   ],
   "source": [
    "!pip install -q triton magnumnp\n",
    "from os import path\n",
    "if not path.isdir(\"ref\"):\n",
    "    !mkdir ref\n",
    "    !wget -P ref https://gitlab.com/magnum.np/magnum.np/raw/main/demos/slonczewski1/ref/m.dat &> /dev/null"
   ]
  },
  {
   "cell_type": "markdown",
   "id": "50d70c08",
   "metadata": {},
   "source": [
    "# Slonczewski STT Demo 1\n",
    "\n",
    "Example taken from the Mumax3 paper: Vansteenkiste, Arne, et al. \"The design and verification of MuMax3.\" AIP advances 4.10 (2014).\n",
    "The team compared the results of Mumax3 with the results from oommf of a 160nm x 80nm x 5nm permalloy film. Non-zero epislon prime is used.\n",
    "Implemented by Jed Cheng (jed.cheng@mag.ed.kyushu-u.ac.jp)"
   ]
  },
  {
   "cell_type": "markdown",
   "id": "508becb9",
   "metadata": {},
   "source": [
    "## Run Simulation"
   ]
  },
  {
   "cell_type": "code",
   "execution_count": 2,
   "id": "3c8f43d6",
   "metadata": {
    "execution": {
     "iopub.execute_input": "2025-03-27T21:47:57.736660Z",
     "iopub.status.busy": "2025-03-27T21:47:57.736409Z",
     "iopub.status.idle": "2025-03-27T21:48:28.604675Z",
     "shell.execute_reply": "2025-03-27T21:48:28.603855Z"
    },
    "lines_to_next_cell": 0
   },
   "outputs": [
    {
     "name": "stderr",
     "output_type": "stream",
     "text": [
      "2025-03-27 21:48:02  magnum.np:INFO \u001b[1;37;32mmagnum.np 2.0.2 (/usr/local/lib/python3.10/site-packages/ipykernel_launcher.py -f /tmp/tmpdldau7ft.json --HistoryManager.hist_file=:memory:)\u001b[0m\n"
     ]
    },
    {
     "name": "stderr",
     "output_type": "stream",
     "text": [
      "2025-03-27 21:48:02  magnum.np:INFO \u001b[1;37;32m[State] running on device: cpu (dtype = float64)\u001b[0m\n"
     ]
    },
    {
     "name": "stderr",
     "output_type": "stream",
     "text": [
      "2025-03-27 21:48:02  magnum.np:INFO \u001b[1;37;32m[Mesh] 64x32x1 (dx= 2.5e-09 x 2.5e-09 x 5e-09)\u001b[0m\n"
     ]
    },
    {
     "name": "stderr",
     "output_type": "stream",
     "text": [
      "2025-03-27 21:48:02  magnum.np:INFO \u001b[1;37;32m[LLGSolver] using RKF45 solver (atol = 1e-05)\u001b[0m\n"
     ]
    },
    {
     "name": "stdout",
     "output_type": "stream",
     "text": [
      "/builds/magnum.np/magnum.np/demos/slonczewski1\n"
     ]
    },
    {
     "name": "stderr",
     "output_type": "stream",
     "text": [
      "\r",
      "  0%|          | 0/101 [00:00<?, ?it/s]"
     ]
    },
    {
     "name": "stderr",
     "output_type": "stream",
     "text": [
      "\r",
      "  1%|          | 1/101 [00:12<20:43, 12.43s/it]"
     ]
    },
    {
     "name": "stderr",
     "output_type": "stream",
     "text": [
      "\r",
      "  2%|▏         | 2/101 [00:12<08:33,  5.19s/it]"
     ]
    },
    {
     "name": "stderr",
     "output_type": "stream",
     "text": [
      "\r",
      "  3%|▎         | 3/101 [00:12<04:41,  2.87s/it]"
     ]
    },
    {
     "name": "stderr",
     "output_type": "stream",
     "text": [
      "\r",
      "  5%|▍         | 5/101 [00:12<02:06,  1.31s/it]"
     ]
    },
    {
     "name": "stderr",
     "output_type": "stream",
     "text": [
      "\r",
      "  6%|▌         | 6/101 [00:13<01:33,  1.02it/s]"
     ]
    },
    {
     "name": "stderr",
     "output_type": "stream",
     "text": [
      "\r",
      "  7%|▋         | 7/101 [00:13<01:09,  1.36it/s]"
     ]
    },
    {
     "name": "stderr",
     "output_type": "stream",
     "text": [
      "\r",
      "  8%|▊         | 8/101 [00:13<00:51,  1.79it/s]"
     ]
    },
    {
     "name": "stderr",
     "output_type": "stream",
     "text": [
      "\r",
      "  9%|▉         | 9/101 [00:13<00:39,  2.31it/s]"
     ]
    },
    {
     "name": "stderr",
     "output_type": "stream",
     "text": [
      "\r",
      " 10%|▉         | 10/101 [00:13<00:31,  2.90it/s]"
     ]
    },
    {
     "name": "stderr",
     "output_type": "stream",
     "text": [
      "\r",
      " 11%|█         | 11/101 [00:13<00:25,  3.52it/s]"
     ]
    },
    {
     "name": "stderr",
     "output_type": "stream",
     "text": [
      "\r",
      " 12%|█▏        | 12/101 [00:13<00:21,  4.19it/s]"
     ]
    },
    {
     "name": "stderr",
     "output_type": "stream",
     "text": [
      "\r",
      " 13%|█▎        | 13/101 [00:14<00:18,  4.79it/s]"
     ]
    },
    {
     "name": "stderr",
     "output_type": "stream",
     "text": [
      "\r",
      " 14%|█▍        | 14/101 [00:14<00:16,  5.33it/s]"
     ]
    },
    {
     "name": "stderr",
     "output_type": "stream",
     "text": [
      "\r",
      " 15%|█▍        | 15/101 [00:14<00:14,  5.91it/s]"
     ]
    },
    {
     "name": "stderr",
     "output_type": "stream",
     "text": [
      "\r",
      " 16%|█▌        | 16/101 [00:14<00:13,  6.13it/s]"
     ]
    },
    {
     "name": "stderr",
     "output_type": "stream",
     "text": [
      "\r",
      " 17%|█▋        | 17/101 [00:14<00:12,  6.50it/s]"
     ]
    },
    {
     "name": "stderr",
     "output_type": "stream",
     "text": [
      "\r",
      " 18%|█▊        | 18/101 [00:14<00:12,  6.89it/s]"
     ]
    },
    {
     "name": "stderr",
     "output_type": "stream",
     "text": [
      "\r",
      " 19%|█▉        | 19/101 [00:14<00:11,  7.19it/s]"
     ]
    },
    {
     "name": "stderr",
     "output_type": "stream",
     "text": [
      "\r",
      " 20%|█▉        | 20/101 [00:14<00:11,  7.18it/s]"
     ]
    },
    {
     "name": "stderr",
     "output_type": "stream",
     "text": [
      "\r",
      " 21%|██        | 21/101 [00:15<00:11,  7.13it/s]"
     ]
    },
    {
     "name": "stderr",
     "output_type": "stream",
     "text": [
      "\r",
      " 22%|██▏       | 22/101 [00:15<00:10,  7.46it/s]"
     ]
    },
    {
     "name": "stderr",
     "output_type": "stream",
     "text": [
      "\r",
      " 23%|██▎       | 23/101 [00:15<00:10,  7.73it/s]"
     ]
    },
    {
     "name": "stderr",
     "output_type": "stream",
     "text": [
      "\r",
      " 24%|██▍       | 24/101 [00:15<00:10,  7.55it/s]"
     ]
    },
    {
     "name": "stderr",
     "output_type": "stream",
     "text": [
      "\r",
      " 25%|██▍       | 25/101 [00:15<00:10,  7.44it/s]"
     ]
    },
    {
     "name": "stderr",
     "output_type": "stream",
     "text": [
      "\r",
      " 26%|██▌       | 26/101 [00:15<00:10,  7.37it/s]"
     ]
    },
    {
     "name": "stderr",
     "output_type": "stream",
     "text": [
      "\r",
      " 27%|██▋       | 27/101 [00:15<00:09,  7.70it/s]"
     ]
    },
    {
     "name": "stderr",
     "output_type": "stream",
     "text": [
      "\r",
      " 28%|██▊       | 28/101 [00:16<00:09,  7.57it/s]"
     ]
    },
    {
     "name": "stderr",
     "output_type": "stream",
     "text": [
      "\r",
      " 29%|██▊       | 29/101 [00:16<00:09,  7.35it/s]"
     ]
    },
    {
     "name": "stderr",
     "output_type": "stream",
     "text": [
      "\r",
      " 30%|██▉       | 30/101 [00:16<00:09,  7.15it/s]"
     ]
    },
    {
     "name": "stderr",
     "output_type": "stream",
     "text": [
      "\r",
      " 31%|███       | 31/101 [00:16<00:09,  7.17it/s]"
     ]
    },
    {
     "name": "stderr",
     "output_type": "stream",
     "text": [
      "\r",
      " 32%|███▏      | 32/101 [00:16<00:09,  7.15it/s]"
     ]
    },
    {
     "name": "stderr",
     "output_type": "stream",
     "text": [
      "\r",
      " 33%|███▎      | 33/101 [00:16<00:09,  7.19it/s]"
     ]
    },
    {
     "name": "stderr",
     "output_type": "stream",
     "text": [
      "\r",
      " 34%|███▎      | 34/101 [00:16<00:09,  7.09it/s]"
     ]
    },
    {
     "name": "stderr",
     "output_type": "stream",
     "text": [
      "\r",
      " 35%|███▍      | 35/101 [00:16<00:09,  7.11it/s]"
     ]
    },
    {
     "name": "stderr",
     "output_type": "stream",
     "text": [
      "\r",
      " 36%|███▌      | 36/101 [00:17<00:09,  7.20it/s]"
     ]
    },
    {
     "name": "stderr",
     "output_type": "stream",
     "text": [
      "\r",
      " 37%|███▋      | 37/101 [00:17<00:09,  7.00it/s]"
     ]
    },
    {
     "name": "stderr",
     "output_type": "stream",
     "text": [
      "\r",
      " 38%|███▊      | 38/101 [00:17<00:08,  7.14it/s]"
     ]
    },
    {
     "name": "stderr",
     "output_type": "stream",
     "text": [
      "\r",
      " 39%|███▊      | 39/101 [00:17<00:08,  7.42it/s]"
     ]
    },
    {
     "name": "stderr",
     "output_type": "stream",
     "text": [
      "\r",
      " 40%|███▉      | 40/101 [00:17<00:08,  7.49it/s]"
     ]
    },
    {
     "name": "stderr",
     "output_type": "stream",
     "text": [
      "\r",
      " 41%|████      | 41/101 [00:17<00:08,  7.47it/s]"
     ]
    },
    {
     "name": "stderr",
     "output_type": "stream",
     "text": [
      "\r",
      " 42%|████▏     | 42/101 [00:17<00:07,  7.53it/s]"
     ]
    },
    {
     "name": "stderr",
     "output_type": "stream",
     "text": [
      "\r",
      " 43%|████▎     | 43/101 [00:18<00:07,  7.50it/s]"
     ]
    },
    {
     "name": "stderr",
     "output_type": "stream",
     "text": [
      "\r",
      " 44%|████▎     | 44/101 [00:18<00:07,  7.43it/s]"
     ]
    },
    {
     "name": "stderr",
     "output_type": "stream",
     "text": [
      "\r",
      " 45%|████▍     | 45/101 [00:18<00:07,  7.15it/s]"
     ]
    },
    {
     "name": "stderr",
     "output_type": "stream",
     "text": [
      "\r",
      " 46%|████▌     | 46/101 [00:18<00:07,  7.07it/s]"
     ]
    },
    {
     "name": "stderr",
     "output_type": "stream",
     "text": [
      "\r",
      " 47%|████▋     | 47/101 [00:18<00:07,  7.25it/s]"
     ]
    },
    {
     "name": "stderr",
     "output_type": "stream",
     "text": [
      "\r",
      " 48%|████▊     | 48/101 [00:18<00:07,  7.33it/s]"
     ]
    },
    {
     "name": "stderr",
     "output_type": "stream",
     "text": [
      "\r",
      " 49%|████▊     | 49/101 [00:18<00:07,  7.14it/s]"
     ]
    },
    {
     "name": "stderr",
     "output_type": "stream",
     "text": [
      "\r",
      " 50%|████▉     | 50/101 [00:19<00:07,  7.21it/s]"
     ]
    },
    {
     "name": "stderr",
     "output_type": "stream",
     "text": [
      "\r",
      " 50%|█████     | 51/101 [00:19<00:07,  7.11it/s]"
     ]
    },
    {
     "name": "stderr",
     "output_type": "stream",
     "text": [
      "\r",
      " 51%|█████▏    | 52/101 [00:19<00:06,  7.07it/s]"
     ]
    },
    {
     "name": "stderr",
     "output_type": "stream",
     "text": [
      "\r",
      " 52%|█████▏    | 53/101 [00:19<00:06,  7.22it/s]"
     ]
    },
    {
     "name": "stderr",
     "output_type": "stream",
     "text": [
      "\r",
      " 53%|█████▎    | 54/101 [00:19<00:06,  7.20it/s]"
     ]
    },
    {
     "name": "stderr",
     "output_type": "stream",
     "text": [
      "\r",
      " 54%|█████▍    | 55/101 [00:19<00:06,  7.17it/s]"
     ]
    },
    {
     "name": "stderr",
     "output_type": "stream",
     "text": [
      "\r",
      " 55%|█████▌    | 56/101 [00:19<00:06,  7.20it/s]"
     ]
    },
    {
     "name": "stderr",
     "output_type": "stream",
     "text": [
      "\r",
      " 56%|█████▋    | 57/101 [00:20<00:05,  7.48it/s]"
     ]
    },
    {
     "name": "stderr",
     "output_type": "stream",
     "text": [
      "\r",
      " 57%|█████▋    | 58/101 [00:20<00:05,  7.62it/s]"
     ]
    },
    {
     "name": "stderr",
     "output_type": "stream",
     "text": [
      "\r",
      " 58%|█████▊    | 59/101 [00:20<00:05,  7.45it/s]"
     ]
    },
    {
     "name": "stderr",
     "output_type": "stream",
     "text": [
      "\r",
      " 59%|█████▉    | 60/101 [00:20<00:05,  7.49it/s]"
     ]
    },
    {
     "name": "stderr",
     "output_type": "stream",
     "text": [
      "\r",
      " 60%|██████    | 61/101 [00:20<00:05,  7.42it/s]"
     ]
    },
    {
     "name": "stderr",
     "output_type": "stream",
     "text": [
      "\r",
      " 61%|██████▏   | 62/101 [00:20<00:05,  7.23it/s]"
     ]
    },
    {
     "name": "stderr",
     "output_type": "stream",
     "text": [
      "\r",
      " 62%|██████▏   | 63/101 [00:20<00:05,  7.18it/s]"
     ]
    },
    {
     "name": "stderr",
     "output_type": "stream",
     "text": [
      "\r",
      " 63%|██████▎   | 64/101 [00:20<00:05,  7.20it/s]"
     ]
    },
    {
     "name": "stderr",
     "output_type": "stream",
     "text": [
      "\r",
      " 64%|██████▍   | 65/101 [00:21<00:04,  7.24it/s]"
     ]
    },
    {
     "name": "stderr",
     "output_type": "stream",
     "text": [
      "\r",
      " 65%|██████▌   | 66/101 [00:21<00:04,  7.09it/s]"
     ]
    },
    {
     "name": "stderr",
     "output_type": "stream",
     "text": [
      "\r",
      " 66%|██████▋   | 67/101 [00:21<00:04,  7.12it/s]"
     ]
    },
    {
     "name": "stderr",
     "output_type": "stream",
     "text": [
      "\r",
      " 67%|██████▋   | 68/101 [00:21<00:04,  7.15it/s]"
     ]
    },
    {
     "name": "stderr",
     "output_type": "stream",
     "text": [
      "\r",
      " 68%|██████▊   | 69/101 [00:21<00:04,  7.04it/s]"
     ]
    },
    {
     "name": "stderr",
     "output_type": "stream",
     "text": [
      "\r",
      " 69%|██████▉   | 70/101 [00:21<00:04,  7.15it/s]"
     ]
    },
    {
     "name": "stderr",
     "output_type": "stream",
     "text": [
      "\r",
      " 70%|███████   | 71/101 [00:21<00:04,  7.00it/s]"
     ]
    },
    {
     "name": "stderr",
     "output_type": "stream",
     "text": [
      "\r",
      " 71%|███████▏  | 72/101 [00:22<00:04,  7.12it/s]"
     ]
    },
    {
     "name": "stderr",
     "output_type": "stream",
     "text": [
      "\r",
      " 72%|███████▏  | 73/101 [00:22<00:03,  7.21it/s]"
     ]
    },
    {
     "name": "stderr",
     "output_type": "stream",
     "text": [
      "\r",
      " 73%|███████▎  | 74/101 [00:22<00:03,  7.15it/s]"
     ]
    },
    {
     "name": "stderr",
     "output_type": "stream",
     "text": [
      "\r",
      " 74%|███████▍  | 75/101 [00:22<00:03,  7.24it/s]"
     ]
    },
    {
     "name": "stderr",
     "output_type": "stream",
     "text": [
      "\r",
      " 75%|███████▌  | 76/101 [00:22<00:03,  7.28it/s]"
     ]
    },
    {
     "name": "stderr",
     "output_type": "stream",
     "text": [
      "\r",
      " 76%|███████▌  | 77/101 [00:22<00:03,  7.31it/s]"
     ]
    },
    {
     "name": "stderr",
     "output_type": "stream",
     "text": [
      "\r",
      " 77%|███████▋  | 78/101 [00:22<00:03,  7.36it/s]"
     ]
    },
    {
     "name": "stderr",
     "output_type": "stream",
     "text": [
      "\r",
      " 78%|███████▊  | 79/101 [00:23<00:02,  7.34it/s]"
     ]
    },
    {
     "name": "stderr",
     "output_type": "stream",
     "text": [
      "\r",
      " 79%|███████▉  | 80/101 [00:23<00:02,  7.40it/s]"
     ]
    },
    {
     "name": "stderr",
     "output_type": "stream",
     "text": [
      "\r",
      " 80%|████████  | 81/101 [00:23<00:02,  7.21it/s]"
     ]
    },
    {
     "name": "stderr",
     "output_type": "stream",
     "text": [
      "\r",
      " 81%|████████  | 82/101 [00:23<00:02,  7.02it/s]"
     ]
    },
    {
     "name": "stderr",
     "output_type": "stream",
     "text": [
      "\r",
      " 82%|████████▏ | 83/101 [00:23<00:02,  7.12it/s]"
     ]
    },
    {
     "name": "stderr",
     "output_type": "stream",
     "text": [
      "\r",
      " 83%|████████▎ | 84/101 [00:23<00:02,  7.05it/s]"
     ]
    },
    {
     "name": "stderr",
     "output_type": "stream",
     "text": [
      "\r",
      " 84%|████████▍ | 85/101 [00:23<00:02,  7.20it/s]"
     ]
    },
    {
     "name": "stderr",
     "output_type": "stream",
     "text": [
      "\r",
      " 85%|████████▌ | 86/101 [00:24<00:02,  7.09it/s]"
     ]
    },
    {
     "name": "stderr",
     "output_type": "stream",
     "text": [
      "\r",
      " 86%|████████▌ | 87/101 [00:24<00:01,  7.46it/s]"
     ]
    },
    {
     "name": "stderr",
     "output_type": "stream",
     "text": [
      "\r",
      " 87%|████████▋ | 88/101 [00:24<00:01,  7.54it/s]"
     ]
    },
    {
     "name": "stderr",
     "output_type": "stream",
     "text": [
      "\r",
      " 88%|████████▊ | 89/101 [00:24<00:01,  7.36it/s]"
     ]
    },
    {
     "name": "stderr",
     "output_type": "stream",
     "text": [
      "\r",
      " 89%|████████▉ | 90/101 [00:24<00:01,  7.38it/s]"
     ]
    },
    {
     "name": "stderr",
     "output_type": "stream",
     "text": [
      "\r",
      " 90%|█████████ | 91/101 [00:24<00:01,  7.37it/s]"
     ]
    },
    {
     "name": "stderr",
     "output_type": "stream",
     "text": [
      "\r",
      " 91%|█████████ | 92/101 [00:24<00:01,  7.28it/s]"
     ]
    },
    {
     "name": "stderr",
     "output_type": "stream",
     "text": [
      "\r",
      " 92%|█████████▏| 93/101 [00:24<00:01,  7.38it/s]"
     ]
    },
    {
     "name": "stderr",
     "output_type": "stream",
     "text": [
      "\r",
      " 93%|█████████▎| 94/101 [00:25<00:00,  7.46it/s]"
     ]
    },
    {
     "name": "stderr",
     "output_type": "stream",
     "text": [
      "\r",
      " 94%|█████████▍| 95/101 [00:25<00:00,  7.50it/s]"
     ]
    },
    {
     "name": "stderr",
     "output_type": "stream",
     "text": [
      "\r",
      " 95%|█████████▌| 96/101 [00:25<00:00,  7.48it/s]"
     ]
    },
    {
     "name": "stderr",
     "output_type": "stream",
     "text": [
      "\r",
      " 96%|█████████▌| 97/101 [00:25<00:00,  7.52it/s]"
     ]
    },
    {
     "name": "stderr",
     "output_type": "stream",
     "text": [
      "\r",
      " 97%|█████████▋| 98/101 [00:25<00:00,  7.56it/s]"
     ]
    },
    {
     "name": "stderr",
     "output_type": "stream",
     "text": [
      "\r",
      " 98%|█████████▊| 99/101 [00:25<00:00,  7.42it/s]"
     ]
    },
    {
     "name": "stderr",
     "output_type": "stream",
     "text": [
      "\r",
      " 99%|█████████▉| 100/101 [00:25<00:00,  7.38it/s]"
     ]
    },
    {
     "name": "stderr",
     "output_type": "stream",
     "text": [
      "\r",
      "100%|██████████| 101/101 [00:26<00:00,  7.10it/s]"
     ]
    },
    {
     "name": "stderr",
     "output_type": "stream",
     "text": [
      "\r",
      "100%|██████████| 101/101 [00:26<00:00,  3.87it/s]"
     ]
    },
    {
     "name": "stdout",
     "output_type": "stream",
     "text": [
      "\n",
      "=============================================================================\n",
      "TIMER REPORT\n",
      "=============================================================================\n",
      "Operation                      No of calls    Avg time [ms]    Total time [s]\n",
      "---------------------------  -------------  ---------------  ----------------\n",
      "LLGSolver.step                         101       253.733             25.6271\n",
      "    DemagField.h                      8424         0.990131           8.34086\n",
      "    ExchangeField.h                   8424         1.1917            10.0388\n",
      "    SpinTorqueSlonczewski.h           8424         0.497248           4.18882\n",
      "---------------------------  -------------  ---------------  ----------------\n",
      "Total                                                                26.0818\n",
      "Missing                                                               0.45469\n",
      "=============================================================================\n",
      "\n"
     ]
    },
    {
     "name": "stderr",
     "output_type": "stream",
     "text": [
      "\n"
     ]
    }
   ],
   "source": [
    "from magnumnp import *\n",
    "import torch\n",
    "import numpy as np\n",
    "import pathlib\n",
    "from tqdm import tqdm\n",
    "\n",
    "set_log_level(25) # show info_green, but hide info_blue\n",
    "Timer.enable()\n",
    "try:\n",
    "    this_dir = pathlib.Path(__file__).resolve().parent\n",
    "except:\n",
    "    this_dir = pathlib.Path().resolve()\n",
    "\n",
    "print(this_dir)\n",
    "\n",
    "# initialize state\n",
    "dt = 5e-12\n",
    "n = (64, 32, 1)\n",
    "dx = (2.5e-9, 2.5e-9, 5e-9)\n",
    "L = (n[0]*dx[0], n[1]*dx[1], n[2]*dx[2])\n",
    "mesh = Mesh(n, dx)\n",
    "\n",
    "state = State(mesh)\n",
    "state.material = {\n",
    "    \"Ms\": 8e5,\n",
    "    \"A\": 1.3e-11,\n",
    "    \"alpha\": 0.01,\n",
    "    \"P\": 0.5669,\n",
    "    \"Lambda\": 2,\n",
    "    \"epsilon_prime\": 1,\n",
    "    \"mp\": [np.cos(np.radians(20)), np.sin(np.radians(20)), 0],\n",
    "    \"d\": L[2],\n",
    "    \"J\": -4e11,\n",
    "    }\n",
    "state.m = state.Constant([1,0,0])\n",
    "\n",
    "# initialize field terms\n",
    "demag    = DemagField()\n",
    "exchange = ExchangeField()\n",
    "torque   = SpinTorqueSlonczewski()\n",
    "\n",
    "# perform integration with spin torque\n",
    "llg = LLGSolver([demag, exchange, torque])\n",
    "logger = Logger(this_dir / \"data\", ['t', 'm'], [\"m\"], fields_every = 10)\n",
    "\n",
    "for i in tqdm(torch.arange(0, 0.5e-9, dt)):\n",
    "    llg.step(state, dt)\n",
    "    logger << state\n",
    "\n",
    "Timer.print_report()"
   ]
  },
  {
   "cell_type": "markdown",
   "id": "873ddd23",
   "metadata": {},
   "source": [
    "## Plot Results"
   ]
  },
  {
   "cell_type": "code",
   "execution_count": 3,
   "id": "4dffb8e8",
   "metadata": {
    "execution": {
     "iopub.execute_input": "2025-03-27T21:48:28.608359Z",
     "iopub.status.busy": "2025-03-27T21:48:28.607906Z",
     "iopub.status.idle": "2025-03-27T21:48:28.980832Z",
     "shell.execute_reply": "2025-03-27T21:48:28.979875Z"
    }
   },
   "outputs": [
    {
     "data": {
      "image/png": "[encoded data removed]",
      "text/plain": [
       "<Figure size 1500x500 with 1 Axes>"
      ]
     },
     "metadata": {},
     "output_type": "display_data"
    }
   ],
   "source": [
    "import numpy as np\n",
    "import matplotlib.pyplot as plt\n",
    "\n",
    "data = np.loadtxt(\"data/log.dat\")\n",
    "ref = np.load(\"ref/M_mx3_1.npy\")\n",
    "#ref = np.load(\"ref/M_oommf_1.npy\") # OOMMF and mumax3 perfectly agree\n",
    "\n",
    "fig, ax = plt.subplots(figsize=(15,5))\n",
    "cycle = plt.rcParams['axes.prop_cycle'].by_key()['color']\n",
    "\n",
    "ax.plot(data[:,0]*1e9, data[:,1], '-', color = cycle[0], label = \"magnum.np - x\")\n",
    "ax.plot(ref[0]*1e9, ref[1], '-', color = cycle[0], linewidth = 6, alpha = 0.4, label = \"reference - x\")\n",
    "\n",
    "ax.plot(data[:,0]*1e9, data[:,2], '-', color = cycle[1], label = \"magnum.np - y\")\n",
    "ax.plot(ref[0]*1e9, ref[2], '-', color = cycle[1], linewidth = 6, alpha = 0.4, label = \"reference - y\")\n",
    "\n",
    "ax.plot(data[:,0]*1e9, data[:,3], '-', color = cycle[2], label = \"magnum.np - z\")\n",
    "ax.plot(ref[0]*1e9, ref[3], '-', color = cycle[2], linewidth = 6, alpha = 0.4, label = \"reference - z\")\n",
    "\n",
    "ax.set_xlabel(\"Time t[ns]\")\n",
    "ax.set_ylabel(\"Magnetization $m$\")\n",
    "ax.legend(ncol=3)\n",
    "ax.grid()\n",
    "fig.savefig(\"data/results.png\")"
   ]
  }
 ],
 "metadata": {
  "accelerator": "GPU",
  "colab": {
   "gpuType": "T4"
  },
  "jupytext": {
   "notebook_metadata_filter": "colab,accelerator"
  },
  "kernelspec": {
   "display_name": "Python 3 (ipykernel)",
   "language": "python",
   "name": "python3"
  },
  "language_info": {
   "codemirror_mode": {
    "name": "ipython",
    "version": 3
   },
   "file_extension": ".py",
   "mimetype": "text/x-python",
   "name": "python",
   "nbconvert_exporter": "python",
   "pygments_lexer": "ipython3",
   "version": "3.10.16"
  }
 },
 "nbformat": 4,
 "nbformat_minor": 5
}
