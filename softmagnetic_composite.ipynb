{
 "cells": [
  {
   "cell_type": "markdown",
   "id": "769bcebe",
   "metadata": {},
   "source": [
    "This jupyter-notebook has be created with 'jupytext'.\n",
    "\n",
    "Use this [Link](https://colab.research.google.com/github/magnumnp/magnumnp_demos/blob/main/softmagnetic_composite.ipynb) to directly open the Notebook in Google Colab."
   ]
  },
  {
   "cell_type": "markdown",
   "id": "af2aa76a",
   "metadata": {},
   "source": [
    "## Install magnum.np and fetch reference data (required for Colab)"
   ]
  },
  {
   "cell_type": "code",
   "execution_count": 1,
   "id": "d658f5ed",
   "metadata": {
    "execution": {
     "iopub.execute_input": "2025-02-05T14:16:19.856415Z",
     "iopub.status.busy": "2025-02-05T14:16:19.855566Z",
     "iopub.status.idle": "2025-02-05T14:16:21.051953Z",
     "shell.execute_reply": "2025-02-05T14:16:21.051024Z"
    },
    "lines_to_next_cell": 0
   },
   "outputs": [
    {
     "name": "stdout",
     "output_type": "stream",
     "text": [
      "\u001b[33mWARNING: Running pip as the 'root' user can result in broken permissions and conflicting behaviour with the system package manager, possibly rendering your system unusable. It is recommended to use a virtual environment instead: https://pip.pypa.io/warnings/venv. Use the --root-user-action option if you know what you are doing and want to suppress this warning.\u001b[0m\u001b[33m\r\n",
      "\u001b[0m"
     ]
    }
   ],
   "source": [
    "!pip install -q triton magnumnp\n",
    "from os import path\n",
    "if not path.isdir(\"ref\"):\n",
    "    !mkdir ref\n",
    "    !wget -P ref https://gitlab.com/magnum.np/magnum.np/raw/main/demos/softmagnetic_composite/ref/m.dat &> /dev/null"
   ]
  },
  {
   "cell_type": "markdown",
   "id": "79e4ba3c",
   "metadata": {},
   "source": [
    "# Softmagnetic Composite Demo"
   ]
  },
  {
   "cell_type": "markdown",
   "id": "66e6dbfa",
   "metadata": {},
   "source": [
    "## Run Simulation"
   ]
  },
  {
   "cell_type": "code",
   "execution_count": 2,
   "id": "c7df47d2",
   "metadata": {
    "execution": {
     "iopub.execute_input": "2025-02-05T14:16:21.054976Z",
     "iopub.status.busy": "2025-02-05T14:16:21.054684Z",
     "iopub.status.idle": "2025-02-05T14:21:41.559682Z",
     "shell.execute_reply": "2025-02-05T14:21:41.558807Z"
    },
    "lines_to_next_cell": 0
   },
   "outputs": [
    {
     "name": "stderr",
     "output_type": "stream",
     "text": [
      "2025-02-05 14:16:26  magnum.np:INFO \u001b[1;37;32mmagnum.np 2.0.1\u001b[0m\n"
     ]
    },
    {
     "name": "stderr",
     "output_type": "stream",
     "text": [
      "2025-02-05 14:16:26  magnum.np:INFO \u001b[1;37;32m[State] running on device: cpu (dtype = float64)\u001b[0m\n"
     ]
    },
    {
     "name": "stderr",
     "output_type": "stream",
     "text": [
      "2025-02-05 14:16:26  magnum.np:INFO \u001b[1;37;32m[Mesh] 40x40x40 (dx= 2.30769e-08 x 2.30769e-08 x 2.30769e-08, pbc=[1,1,1])\u001b[0m\n"
     ]
    },
    {
     "name": "stderr",
     "output_type": "stream",
     "text": [
      "2025-02-05 14:16:26  magnum.np:INFO \u001b[1;37;32m[LLGSolver] using RKF45 solver (atol = 1e-05)\u001b[0m\n"
     ]
    },
    {
     "name": "stderr",
     "output_type": "stream",
     "text": [
      "\r",
      "  0%|          | 0/135 [00:00<?, ?it/s]"
     ]
    },
    {
     "name": "stderr",
     "output_type": "stream",
     "text": [
      "\r",
      "  1%|          | 1/135 [00:16<37:38, 16.86s/it]"
     ]
    },
    {
     "name": "stderr",
     "output_type": "stream",
     "text": [
      "\r",
      "  1%|▏         | 2/135 [00:18<16:54,  7.63s/it]"
     ]
    },
    {
     "name": "stderr",
     "output_type": "stream",
     "text": [
      "\r",
      "  2%|▏         | 3/135 [00:19<10:21,  4.70s/it]"
     ]
    },
    {
     "name": "stderr",
     "output_type": "stream",
     "text": [
      "\r",
      "  3%|▎         | 4/135 [00:20<07:12,  3.30s/it]"
     ]
    },
    {
     "name": "stderr",
     "output_type": "stream",
     "text": [
      "\r",
      "  4%|▎         | 5/135 [00:21<05:46,  2.67s/it]"
     ]
    },
    {
     "name": "stderr",
     "output_type": "stream",
     "text": [
      "\r",
      "  4%|▍         | 6/135 [00:23<04:55,  2.29s/it]"
     ]
    },
    {
     "name": "stderr",
     "output_type": "stream",
     "text": [
      "\r",
      "  5%|▌         | 7/135 [00:24<04:14,  1.99s/it]"
     ]
    },
    {
     "name": "stderr",
     "output_type": "stream",
     "text": [
      "\r",
      "  6%|▌         | 8/135 [00:26<03:49,  1.81s/it]"
     ]
    },
    {
     "name": "stderr",
     "output_type": "stream",
     "text": [
      "\r",
      "  7%|▋         | 9/135 [00:27<03:33,  1.70s/it]"
     ]
    },
    {
     "name": "stderr",
     "output_type": "stream",
     "text": [
      "\r",
      "  7%|▋         | 10/135 [00:28<03:14,  1.55s/it]"
     ]
    },
    {
     "name": "stderr",
     "output_type": "stream",
     "text": [
      "\r",
      "  8%|▊         | 11/135 [00:30<03:08,  1.52s/it]"
     ]
    },
    {
     "name": "stderr",
     "output_type": "stream",
     "text": [
      "\r",
      "  9%|▉         | 12/135 [00:31<02:56,  1.44s/it]"
     ]
    },
    {
     "name": "stderr",
     "output_type": "stream",
     "text": [
      "\r",
      " 10%|▉         | 13/135 [00:32<02:41,  1.32s/it]"
     ]
    },
    {
     "name": "stderr",
     "output_type": "stream",
     "text": [
      "\r",
      " 10%|█         | 14/135 [00:34<02:59,  1.48s/it]"
     ]
    },
    {
     "name": "stderr",
     "output_type": "stream",
     "text": [
      "\r",
      " 11%|█         | 15/135 [00:36<03:11,  1.59s/it]"
     ]
    },
    {
     "name": "stderr",
     "output_type": "stream",
     "text": [
      "\r",
      " 12%|█▏        | 16/135 [00:38<03:17,  1.66s/it]"
     ]
    },
    {
     "name": "stderr",
     "output_type": "stream",
     "text": [
      "\r",
      " 13%|█▎        | 17/135 [00:39<03:17,  1.67s/it]"
     ]
    },
    {
     "name": "stderr",
     "output_type": "stream",
     "text": [
      "\r",
      " 13%|█▎        | 18/135 [00:41<03:20,  1.71s/it]"
     ]
    },
    {
     "name": "stderr",
     "output_type": "stream",
     "text": [
      "\r",
      " 14%|█▍        | 19/135 [00:43<03:26,  1.78s/it]"
     ]
    },
    {
     "name": "stderr",
     "output_type": "stream",
     "text": [
      "\r",
      " 15%|█▍        | 20/135 [00:46<03:51,  2.01s/it]"
     ]
    },
    {
     "name": "stderr",
     "output_type": "stream",
     "text": [
      "\r",
      " 16%|█▌        | 21/135 [00:48<03:46,  1.99s/it]"
     ]
    },
    {
     "name": "stderr",
     "output_type": "stream",
     "text": [
      "\r",
      " 16%|█▋        | 22/135 [00:50<03:43,  1.98s/it]"
     ]
    },
    {
     "name": "stderr",
     "output_type": "stream",
     "text": [
      "\r",
      " 17%|█▋        | 23/135 [00:52<03:44,  2.01s/it]"
     ]
    },
    {
     "name": "stderr",
     "output_type": "stream",
     "text": [
      "\r",
      " 18%|█▊        | 24/135 [00:54<03:51,  2.08s/it]"
     ]
    },
    {
     "name": "stderr",
     "output_type": "stream",
     "text": [
      "\r",
      " 19%|█▊        | 25/135 [00:56<03:52,  2.11s/it]"
     ]
    },
    {
     "name": "stderr",
     "output_type": "stream",
     "text": [
      "\r",
      " 19%|█▉        | 26/135 [00:58<03:55,  2.16s/it]"
     ]
    },
    {
     "name": "stderr",
     "output_type": "stream",
     "text": [
      "\r",
      " 20%|██        | 27/135 [01:01<04:02,  2.25s/it]"
     ]
    },
    {
     "name": "stderr",
     "output_type": "stream",
     "text": [
      "\r",
      " 21%|██        | 28/135 [01:03<04:04,  2.28s/it]"
     ]
    },
    {
     "name": "stderr",
     "output_type": "stream",
     "text": [
      "\r",
      " 21%|██▏       | 29/135 [01:05<03:53,  2.21s/it]"
     ]
    },
    {
     "name": "stderr",
     "output_type": "stream",
     "text": [
      "\r",
      " 22%|██▏       | 30/135 [01:07<03:42,  2.12s/it]"
     ]
    },
    {
     "name": "stderr",
     "output_type": "stream",
     "text": [
      "\r",
      " 23%|██▎       | 31/135 [01:09<03:43,  2.15s/it]"
     ]
    },
    {
     "name": "stderr",
     "output_type": "stream",
     "text": [
      "\r",
      " 24%|██▎       | 32/135 [01:11<03:36,  2.10s/it]"
     ]
    },
    {
     "name": "stderr",
     "output_type": "stream",
     "text": [
      "\r",
      " 24%|██▍       | 33/135 [01:14<03:36,  2.12s/it]"
     ]
    },
    {
     "name": "stderr",
     "output_type": "stream",
     "text": [
      "\r",
      " 25%|██▌       | 34/135 [01:19<05:00,  2.97s/it]"
     ]
    },
    {
     "name": "stderr",
     "output_type": "stream",
     "text": [
      "\r",
      " 26%|██▌       | 35/135 [01:21<04:36,  2.77s/it]"
     ]
    },
    {
     "name": "stderr",
     "output_type": "stream",
     "text": [
      "\r",
      " 27%|██▋       | 36/135 [01:23<04:21,  2.64s/it]"
     ]
    },
    {
     "name": "stderr",
     "output_type": "stream",
     "text": [
      "\r",
      " 27%|██▋       | 37/135 [01:26<04:15,  2.60s/it]"
     ]
    },
    {
     "name": "stderr",
     "output_type": "stream",
     "text": [
      "\r",
      " 28%|██▊       | 38/135 [01:28<04:09,  2.57s/it]"
     ]
    },
    {
     "name": "stderr",
     "output_type": "stream",
     "text": [
      "\r",
      " 29%|██▉       | 39/135 [01:30<03:59,  2.49s/it]"
     ]
    },
    {
     "name": "stderr",
     "output_type": "stream",
     "text": [
      "\r",
      " 30%|██▉       | 40/135 [01:33<03:57,  2.50s/it]"
     ]
    },
    {
     "name": "stderr",
     "output_type": "stream",
     "text": [
      "\r",
      " 30%|███       | 41/135 [01:35<03:50,  2.45s/it]"
     ]
    },
    {
     "name": "stderr",
     "output_type": "stream",
     "text": [
      "\r",
      " 31%|███       | 42/135 [01:38<03:53,  2.51s/it]"
     ]
    },
    {
     "name": "stderr",
     "output_type": "stream",
     "text": [
      "\r",
      " 32%|███▏      | 43/135 [01:41<03:52,  2.52s/it]"
     ]
    },
    {
     "name": "stderr",
     "output_type": "stream",
     "text": [
      "\r",
      " 33%|███▎      | 44/135 [01:43<03:52,  2.55s/it]"
     ]
    },
    {
     "name": "stderr",
     "output_type": "stream",
     "text": [
      "\r",
      " 33%|███▎      | 45/135 [01:45<03:36,  2.40s/it]"
     ]
    },
    {
     "name": "stderr",
     "output_type": "stream",
     "text": [
      "\r",
      " 34%|███▍      | 46/135 [01:47<03:29,  2.36s/it]"
     ]
    },
    {
     "name": "stderr",
     "output_type": "stream",
     "text": [
      "\r",
      " 35%|███▍      | 47/135 [01:50<03:28,  2.37s/it]"
     ]
    },
    {
     "name": "stderr",
     "output_type": "stream",
     "text": [
      "\r",
      " 36%|███▌      | 48/135 [01:52<03:27,  2.39s/it]"
     ]
    },
    {
     "name": "stderr",
     "output_type": "stream",
     "text": [
      "\r",
      " 36%|███▋      | 49/135 [01:55<03:39,  2.55s/it]"
     ]
    },
    {
     "name": "stderr",
     "output_type": "stream",
     "text": [
      "\r",
      " 37%|███▋      | 50/135 [01:57<03:28,  2.46s/it]"
     ]
    },
    {
     "name": "stderr",
     "output_type": "stream",
     "text": [
      "\r",
      " 38%|███▊      | 51/135 [02:00<03:21,  2.40s/it]"
     ]
    },
    {
     "name": "stderr",
     "output_type": "stream",
     "text": [
      "\r",
      " 39%|███▊      | 52/135 [02:02<03:16,  2.37s/it]"
     ]
    },
    {
     "name": "stderr",
     "output_type": "stream",
     "text": [
      "\r",
      " 39%|███▉      | 53/135 [02:04<03:15,  2.39s/it]"
     ]
    },
    {
     "name": "stderr",
     "output_type": "stream",
     "text": [
      "\r",
      " 40%|████      | 54/135 [02:07<03:16,  2.43s/it]"
     ]
    },
    {
     "name": "stderr",
     "output_type": "stream",
     "text": [
      "\r",
      " 41%|████      | 55/135 [02:10<03:18,  2.48s/it]"
     ]
    },
    {
     "name": "stderr",
     "output_type": "stream",
     "text": [
      "\r",
      " 41%|████▏     | 56/135 [02:12<03:07,  2.38s/it]"
     ]
    },
    {
     "name": "stderr",
     "output_type": "stream",
     "text": [
      "\r",
      " 42%|████▏     | 57/135 [02:14<03:06,  2.39s/it]"
     ]
    },
    {
     "name": "stderr",
     "output_type": "stream",
     "text": [
      "\r",
      " 43%|████▎     | 58/135 [02:17<03:04,  2.40s/it]"
     ]
    },
    {
     "name": "stderr",
     "output_type": "stream",
     "text": [
      "\r",
      " 44%|████▎     | 59/135 [02:19<03:09,  2.49s/it]"
     ]
    },
    {
     "name": "stderr",
     "output_type": "stream",
     "text": [
      "\r",
      " 44%|████▍     | 60/135 [02:22<03:14,  2.59s/it]"
     ]
    },
    {
     "name": "stderr",
     "output_type": "stream",
     "text": [
      "\r",
      " 45%|████▌     | 61/135 [02:25<03:21,  2.72s/it]"
     ]
    },
    {
     "name": "stderr",
     "output_type": "stream",
     "text": [
      "\r",
      " 46%|████▌     | 62/135 [02:28<03:17,  2.70s/it]"
     ]
    },
    {
     "name": "stderr",
     "output_type": "stream",
     "text": [
      "\r",
      " 47%|████▋     | 63/135 [02:31<03:23,  2.83s/it]"
     ]
    },
    {
     "name": "stderr",
     "output_type": "stream",
     "text": [
      "\r",
      " 47%|████▋     | 64/135 [02:33<03:06,  2.63s/it]"
     ]
    },
    {
     "name": "stderr",
     "output_type": "stream",
     "text": [
      "\r",
      " 48%|████▊     | 65/135 [02:35<02:42,  2.33s/it]"
     ]
    },
    {
     "name": "stderr",
     "output_type": "stream",
     "text": [
      "\r",
      " 49%|████▉     | 66/135 [02:37<02:33,  2.22s/it]"
     ]
    },
    {
     "name": "stderr",
     "output_type": "stream",
     "text": [
      "\r",
      " 50%|████▉     | 67/135 [02:39<02:28,  2.18s/it]"
     ]
    },
    {
     "name": "stderr",
     "output_type": "stream",
     "text": [
      "\r",
      " 50%|█████     | 68/135 [02:41<02:23,  2.13s/it]"
     ]
    },
    {
     "name": "stderr",
     "output_type": "stream",
     "text": [
      "\r",
      " 51%|█████     | 69/135 [02:43<02:18,  2.09s/it]"
     ]
    },
    {
     "name": "stderr",
     "output_type": "stream",
     "text": [
      "\r",
      " 52%|█████▏    | 70/135 [02:45<02:13,  2.06s/it]"
     ]
    },
    {
     "name": "stderr",
     "output_type": "stream",
     "text": [
      "\r",
      " 53%|█████▎    | 71/135 [02:47<02:12,  2.07s/it]"
     ]
    },
    {
     "name": "stderr",
     "output_type": "stream",
     "text": [
      "\r",
      " 53%|█████▎    | 72/135 [02:49<02:14,  2.14s/it]"
     ]
    },
    {
     "name": "stderr",
     "output_type": "stream",
     "text": [
      "\r",
      " 54%|█████▍    | 73/135 [02:51<02:12,  2.14s/it]"
     ]
    },
    {
     "name": "stderr",
     "output_type": "stream",
     "text": [
      "\r",
      " 55%|█████▍    | 74/135 [02:54<02:13,  2.19s/it]"
     ]
    },
    {
     "name": "stderr",
     "output_type": "stream",
     "text": [
      "\r",
      " 56%|█████▌    | 75/135 [02:56<02:10,  2.17s/it]"
     ]
    },
    {
     "name": "stderr",
     "output_type": "stream",
     "text": [
      "\r",
      " 56%|█████▋    | 76/135 [02:58<02:06,  2.14s/it]"
     ]
    },
    {
     "name": "stderr",
     "output_type": "stream",
     "text": [
      "\r",
      " 57%|█████▋    | 77/135 [03:00<02:04,  2.14s/it]"
     ]
    },
    {
     "name": "stderr",
     "output_type": "stream",
     "text": [
      "\r",
      " 58%|█████▊    | 78/135 [03:02<02:04,  2.19s/it]"
     ]
    },
    {
     "name": "stderr",
     "output_type": "stream",
     "text": [
      "\r",
      " 59%|█████▊    | 79/135 [03:05<02:04,  2.22s/it]"
     ]
    },
    {
     "name": "stderr",
     "output_type": "stream",
     "text": [
      "\r",
      " 59%|█████▉    | 80/135 [03:06<01:55,  2.10s/it]"
     ]
    },
    {
     "name": "stderr",
     "output_type": "stream",
     "text": [
      "\r",
      " 60%|██████    | 81/135 [03:08<01:49,  2.03s/it]"
     ]
    },
    {
     "name": "stderr",
     "output_type": "stream",
     "text": [
      "\r",
      " 61%|██████    | 82/135 [03:10<01:45,  1.99s/it]"
     ]
    },
    {
     "name": "stderr",
     "output_type": "stream",
     "text": [
      "\r",
      " 61%|██████▏   | 83/135 [03:12<01:37,  1.88s/it]"
     ]
    },
    {
     "name": "stderr",
     "output_type": "stream",
     "text": [
      "\r",
      " 62%|██████▏   | 84/135 [03:14<01:39,  1.95s/it]"
     ]
    },
    {
     "name": "stderr",
     "output_type": "stream",
     "text": [
      "\r",
      " 63%|██████▎   | 85/135 [03:16<01:34,  1.89s/it]"
     ]
    },
    {
     "name": "stderr",
     "output_type": "stream",
     "text": [
      "\r",
      " 64%|██████▎   | 86/135 [03:17<01:32,  1.90s/it]"
     ]
    },
    {
     "name": "stderr",
     "output_type": "stream",
     "text": [
      "\r",
      " 64%|██████▍   | 87/135 [03:19<01:30,  1.88s/it]"
     ]
    },
    {
     "name": "stderr",
     "output_type": "stream",
     "text": [
      "\r",
      " 65%|██████▌   | 88/135 [03:21<01:30,  1.92s/it]"
     ]
    },
    {
     "name": "stderr",
     "output_type": "stream",
     "text": [
      "\r",
      " 66%|██████▌   | 89/135 [03:23<01:18,  1.70s/it]"
     ]
    },
    {
     "name": "stderr",
     "output_type": "stream",
     "text": [
      "\r",
      " 67%|██████▋   | 90/135 [03:24<01:09,  1.55s/it]"
     ]
    },
    {
     "name": "stderr",
     "output_type": "stream",
     "text": [
      "\r",
      " 67%|██████▋   | 91/135 [03:26<01:11,  1.62s/it]"
     ]
    },
    {
     "name": "stderr",
     "output_type": "stream",
     "text": [
      "\r",
      " 68%|██████▊   | 92/135 [03:27<01:02,  1.45s/it]"
     ]
    },
    {
     "name": "stderr",
     "output_type": "stream",
     "text": [
      "\r",
      " 69%|██████▉   | 93/135 [03:27<00:52,  1.26s/it]"
     ]
    },
    {
     "name": "stderr",
     "output_type": "stream",
     "text": [
      "\r",
      " 70%|██████▉   | 94/135 [03:29<00:52,  1.27s/it]"
     ]
    },
    {
     "name": "stderr",
     "output_type": "stream",
     "text": [
      "\r",
      " 70%|███████   | 95/135 [03:30<00:57,  1.43s/it]"
     ]
    },
    {
     "name": "stderr",
     "output_type": "stream",
     "text": [
      "\r",
      " 71%|███████   | 96/135 [03:32<00:51,  1.33s/it]"
     ]
    },
    {
     "name": "stderr",
     "output_type": "stream",
     "text": [
      "\r",
      " 72%|███████▏  | 97/135 [03:32<00:43,  1.15s/it]"
     ]
    },
    {
     "name": "stderr",
     "output_type": "stream",
     "text": [
      "\r",
      " 73%|███████▎  | 98/135 [03:33<00:40,  1.09s/it]"
     ]
    },
    {
     "name": "stderr",
     "output_type": "stream",
     "text": [
      "\r",
      " 73%|███████▎  | 99/135 [03:35<00:41,  1.15s/it]"
     ]
    },
    {
     "name": "stderr",
     "output_type": "stream",
     "text": [
      "\r",
      " 74%|███████▍  | 100/135 [03:36<00:40,  1.16s/it]"
     ]
    },
    {
     "name": "stderr",
     "output_type": "stream",
     "text": [
      "\r",
      " 75%|███████▍  | 101/135 [03:37<00:39,  1.15s/it]"
     ]
    },
    {
     "name": "stderr",
     "output_type": "stream",
     "text": [
      "\r",
      " 76%|███████▌  | 102/135 [03:38<00:38,  1.17s/it]"
     ]
    },
    {
     "name": "stderr",
     "output_type": "stream",
     "text": [
      "\r",
      " 76%|███████▋  | 103/135 [03:39<00:37,  1.18s/it]"
     ]
    },
    {
     "name": "stderr",
     "output_type": "stream",
     "text": [
      "\r",
      " 77%|███████▋  | 104/135 [03:40<00:35,  1.13s/it]"
     ]
    },
    {
     "name": "stderr",
     "output_type": "stream",
     "text": [
      "\r",
      " 78%|███████▊  | 105/135 [03:41<00:34,  1.14s/it]"
     ]
    },
    {
     "name": "stderr",
     "output_type": "stream",
     "text": [
      "\r",
      " 79%|███████▊  | 106/135 [03:42<00:32,  1.11s/it]"
     ]
    },
    {
     "name": "stderr",
     "output_type": "stream",
     "text": [
      "\r",
      " 79%|███████▉  | 107/135 [03:44<00:32,  1.15s/it]"
     ]
    },
    {
     "name": "stderr",
     "output_type": "stream",
     "text": [
      "\r",
      " 80%|████████  | 108/135 [03:45<00:30,  1.15s/it]"
     ]
    },
    {
     "name": "stderr",
     "output_type": "stream",
     "text": [
      "\r",
      " 81%|████████  | 109/135 [03:46<00:32,  1.24s/it]"
     ]
    },
    {
     "name": "stderr",
     "output_type": "stream",
     "text": [
      "\r",
      " 81%|████████▏ | 110/135 [03:48<00:30,  1.23s/it]"
     ]
    },
    {
     "name": "stderr",
     "output_type": "stream",
     "text": [
      "\r",
      " 82%|████████▏ | 111/135 [03:49<00:28,  1.20s/it]"
     ]
    },
    {
     "name": "stderr",
     "output_type": "stream",
     "text": [
      "\r",
      " 83%|████████▎ | 112/135 [03:50<00:27,  1.18s/it]"
     ]
    },
    {
     "name": "stderr",
     "output_type": "stream",
     "text": [
      "\r",
      " 84%|████████▎ | 113/135 [03:51<00:26,  1.22s/it]"
     ]
    },
    {
     "name": "stderr",
     "output_type": "stream",
     "text": [
      "\r",
      " 84%|████████▍ | 114/135 [03:52<00:26,  1.27s/it]"
     ]
    },
    {
     "name": "stderr",
     "output_type": "stream",
     "text": [
      "\r",
      " 85%|████████▌ | 115/135 [03:54<00:28,  1.43s/it]"
     ]
    },
    {
     "name": "stderr",
     "output_type": "stream",
     "text": [
      "\r",
      " 86%|████████▌ | 116/135 [03:56<00:31,  1.64s/it]"
     ]
    },
    {
     "name": "stderr",
     "output_type": "stream",
     "text": [
      "\r",
      " 87%|████████▋ | 117/135 [04:00<00:40,  2.28s/it]"
     ]
    },
    {
     "name": "stderr",
     "output_type": "stream",
     "text": [
      "\r",
      " 87%|████████▋ | 118/135 [04:04<00:48,  2.87s/it]"
     ]
    },
    {
     "name": "stderr",
     "output_type": "stream",
     "text": [
      "\r",
      " 88%|████████▊ | 119/135 [04:09<00:53,  3.32s/it]"
     ]
    },
    {
     "name": "stderr",
     "output_type": "stream",
     "text": [
      "\r",
      " 89%|████████▉ | 120/135 [04:13<00:55,  3.69s/it]"
     ]
    },
    {
     "name": "stderr",
     "output_type": "stream",
     "text": [
      "\r",
      " 90%|████████▉ | 121/135 [04:17<00:52,  3.78s/it]"
     ]
    },
    {
     "name": "stderr",
     "output_type": "stream",
     "text": [
      "\r",
      " 90%|█████████ | 122/135 [04:21<00:49,  3.85s/it]"
     ]
    },
    {
     "name": "stderr",
     "output_type": "stream",
     "text": [
      "\r",
      " 91%|█████████ | 123/135 [04:26<00:48,  4.08s/it]"
     ]
    },
    {
     "name": "stderr",
     "output_type": "stream",
     "text": [
      "\r",
      " 92%|█████████▏| 124/135 [04:31<00:47,  4.30s/it]"
     ]
    },
    {
     "name": "stderr",
     "output_type": "stream",
     "text": [
      "\r",
      " 93%|█████████▎| 125/135 [04:36<00:44,  4.48s/it]"
     ]
    },
    {
     "name": "stderr",
     "output_type": "stream",
     "text": [
      "\r",
      " 93%|█████████▎| 126/135 [04:41<00:42,  4.76s/it]"
     ]
    },
    {
     "name": "stderr",
     "output_type": "stream",
     "text": [
      "\r",
      " 94%|█████████▍| 127/135 [04:46<00:38,  4.78s/it]"
     ]
    },
    {
     "name": "stderr",
     "output_type": "stream",
     "text": [
      "\r",
      " 95%|█████████▍| 128/135 [04:50<00:32,  4.70s/it]"
     ]
    },
    {
     "name": "stderr",
     "output_type": "stream",
     "text": [
      "\r",
      " 96%|█████████▌| 129/135 [04:55<00:28,  4.68s/it]"
     ]
    },
    {
     "name": "stderr",
     "output_type": "stream",
     "text": [
      "\r",
      " 96%|█████████▋| 130/135 [04:59<00:22,  4.46s/it]"
     ]
    },
    {
     "name": "stderr",
     "output_type": "stream",
     "text": [
      "\r",
      " 97%|█████████▋| 131/135 [05:03<00:17,  4.36s/it]"
     ]
    },
    {
     "name": "stderr",
     "output_type": "stream",
     "text": [
      "\r",
      " 98%|█████████▊| 132/135 [05:07<00:12,  4.23s/it]"
     ]
    },
    {
     "name": "stderr",
     "output_type": "stream",
     "text": [
      "\r",
      " 99%|█████████▊| 133/135 [05:10<00:07,  3.94s/it]"
     ]
    },
    {
     "name": "stderr",
     "output_type": "stream",
     "text": [
      "\r",
      " 99%|█████████▉| 134/135 [05:12<00:03,  3.36s/it]"
     ]
    },
    {
     "name": "stderr",
     "output_type": "stream",
     "text": [
      "\r",
      "100%|██████████| 135/135 [05:14<00:00,  2.90s/it]"
     ]
    },
    {
     "name": "stderr",
     "output_type": "stream",
     "text": [
      "\r",
      "100%|██████████| 135/135 [05:14<00:00,  2.33s/it]"
     ]
    },
    {
     "name": "stdout",
     "output_type": "stream",
     "text": [
      "\n",
      "===============================================================================\n",
      "TIMER REPORT\n",
      "===============================================================================\n",
      "Operation                        No of calls    Avg time [ms]    Total time [s]\n",
      "-----------------------------  -------------  ---------------  ----------------\n",
      "LLGSolver.step                           135      2324.81            313.849\n",
      "    DemagFieldPBC.h                    10332         9.21254          95.1839\n",
      "    ExchangeField.h                    10332         7.89504          81.5715\n",
      "    UniaxialAnisotropyField.h          10332         1.94299          20.075\n",
      "    ExternalField.h                    10332         1.14238          11.8031\n",
      "ExternalField.h                          135         0.980373          0.13235\n",
      "-----------------------------  -------------  ---------------  ----------------\n",
      "Total                                                                314.773\n",
      "Missing                                                                0.791071\n",
      "===============================================================================\n",
      "\n"
     ]
    },
    {
     "name": "stderr",
     "output_type": "stream",
     "text": [
      "\n"
     ]
    }
   ],
   "source": [
    "from magnumnp import *\n",
    "import torch\n",
    "import pathlib\n",
    "from tqdm import tqdm\n",
    "\n",
    "#SIZE_CUBE = 900e-9\n",
    "#gap = 23.08 14.29 9.09 6.98 4.35\n",
    "#Ni = 13 21 33 43 69\n",
    "#N = 3*Ni + 1 = 40 64 100 130 208\n",
    "\n",
    "N = 40\n",
    "set_log_level(25) # show info_green, but hide info_blue\n",
    "Timer.enable()\n",
    "try:\n",
    "    this_dir = pathlib.Path(__file__).resolve().parent\n",
    "except:\n",
    "    this_dir = pathlib.Path().resolve()\n",
    "\n",
    "# initialize state\n",
    "dt = 1e-10\n",
    "Nx, Ny, Nz = 3, 3, 3\n",
    "nx, ny, nz = N, N, N\n",
    "dx, dy, dz = 900e-9 / (N-1), 900e-9 / (N-1), 900e-9 / (N-1)\n",
    "\n",
    "mesh = Mesh((nx,ny,nz), (dx,dy,dz), pbc = (1,1,1))\n",
    "state = State(mesh)\n",
    "state.m = state.Constant([0,0,1])\n",
    "state.material = {\"alpha\": 1.0}\n",
    "\n",
    "state.material[\"Ms\"] = state.Constant([0.0001/constants.mu_0])\n",
    "state.material[\"Ms\"][nx%Nx:,ny%Ny:,nz%Nz:] = 1.5/constants.mu_0\n",
    "\n",
    "state.material[\"A\"] = state.Constant([0.])\n",
    "state.material[\"A\"][nx%Nx:,ny%Ny:,nz%Nz:] = 10e-12\n",
    "\n",
    "state.material[\"Ku\"] = state.Constant([0.])\n",
    "state.material[\"Ku\"][nx%Nx:,ny%Ny:,nz%Nz:] = 8e3\n",
    "\n",
    "k_dir = torch.tensor(((1.688281290426342229e-01, -7.18775080428410873e-01, 6.744326850020654351e-01),\n",
    "                      (-1.24488794472133734e-02, 8.827421556265807601e-01, 4.696927847862328309e-01),\n",
    "                      (4.360199027887372986e-02, 9.960452028850761419e-01, -7.74133079860866157e-02),\n",
    "                      (3.749512630383480816e-01, 6.881354883832631053e-01, -6.21193287128471327e-01),\n",
    "                      (8.860065554198717219e-01, 2.300892602270045995e-01, -4.02555978816864223e-01),\n",
    "                      (-7.89116308031293234e-02, -7.44290764462179010e-01, -6.63177361239280949e-01),\n",
    "                      (1.534426618908853179e-01, 6.661409155280296757e-01, 7.298709681658244186e-01),\n",
    "                      (3.629777351625293469e-02, 7.384491837339980380e-01, 6.733314745950575997e-01),\n",
    "                      (-6.22338299750334056e-01, -4.54495719851937984e-01, -6.37282261874698607e-01),\n",
    "                      (5.091810893444697061e-01, -7.86185846048253700e-01, 3.502091285608797122e-01),\n",
    "                      (-7.42309465286212555e-01, 5.245654409560085440e-01, 4.169025736321682052e-01),\n",
    "                      (2.976579786344664136e-01, 5.698206235530806074e-01, -7.65966177274703174e-01),\n",
    "                      (6.783747177775549531e-02, -5.13898942407917780e-01, 8.551642850440059895e-01),\n",
    "                      (-4.09811740153190107e-01, -6.51000036118079772e-01, -6.38947017057653221e-01),\n",
    "                      (-4.35391566957816666e-01, 7.000228998401875069e-01, -5.66040743340399221e-01),\n",
    "                      (-3.67275369838029608e-01, -9.06849357668608080e-01, -2.06719726214920074e-01),\n",
    "                      (-7.24876157150795674e-01, 2.752762585295002173e-01, -6.31488351661607993e-01),\n",
    "                      (7.999944917638109887e-01, -5.94809366836661745e-01, -7.88075521186358679e-02),\n",
    "                      (-6.38660840611896762e-01, -7.30613237722315789e-01, -2.41488359002706959e-01),\n",
    "                      (5.978837032381554284e-01, -9.09378167932159697e-02, 7.964078043810925989e-01),\n",
    "                      (-9.29805720633694821e-01, -3.57570345696486047e-01, 8.720533100304592167e-02),\n",
    "                      (4.682836169203208332e-01, -6.07627185281937154e-01, -6.41482390896564447e-01),\n",
    "                      (7.309975652323822404e-01, 1.317784064962062851e-01, -6.69534921572915164e-01),\n",
    "                      (-1.26449163913964823e-01, -9.90975538690972102e-01, -4.44757311530326326e-02),\n",
    "                      (4.076648517742982869e-01, 5.753823407754260488e-01, 7.090448015123099745e-01),\n",
    "                      (3.803260297965609382e-01, 9.217214425940288836e-01, 7.603744683751342825e-02),\n",
    "                      (-7.25468075571367832e-01, 2.563257490022778362e-01, -6.38743439672923241e-01))).reshape(3,3,3,3)\n",
    "k_dir = k_dir.repeat_interleave(nx//Nx,0).repeat_interleave(ny//Ny,1).repeat_interleave(nz//Nz,2)\n",
    "\n",
    "state.material[\"Ku_axis\"] = state.Constant([1,1,1])\n",
    "state.material[\"Ku_axis\"][nx%Nx:,ny%Ny:,nz%Nz:,:] = k_dir\n",
    "\n",
    "write_vti(state.material, \"data/material.vti\", state)\n",
    "\n",
    "# initialize field terms\n",
    "demag    = DemagFieldPBC()\n",
    "exchange = ExchangeField()\n",
    "aniso    = UniaxialAnisotropyField()\n",
    "external = ExternalField(TimeInterpolator(state, {0.0e-9: [0.0, 0.0, 0.0],\n",
    "                                                  1.0e-9: [0.0, 0.0, 0.0],\n",
    "                                                  3.5e-9: [0.1/constants.mu_0, 0.0, 0.0],\n",
    "                                                  8.5e-9: [-0.1/constants.mu_0, 0.0, 0.0],\n",
    "                                                 13.5e-9: [0.1/constants.mu_0, 0.0, 0.0]}))\n",
    "\n",
    "# perform integration\n",
    "llg = LLGSolver([demag, exchange, aniso, external])\n",
    "logger = ScalarLogger(this_dir / \"data\" / \"m.dat\", ['t', external.h, 'm'])\n",
    "\n",
    "for i in tqdm(torch.arange(0, 13.5e-9, dt)):\n",
    "    llg.step(state, dt)\n",
    "    logger << state\n",
    "\n",
    "Timer.print_report()"
   ]
  },
  {
   "cell_type": "markdown",
   "id": "f8c258d9",
   "metadata": {},
   "source": [
    "## Plot Results"
   ]
  },
  {
   "cell_type": "code",
   "execution_count": 3,
   "id": "52160fca",
   "metadata": {
    "execution": {
     "iopub.execute_input": "2025-02-05T14:21:41.562428Z",
     "iopub.status.busy": "2025-02-05T14:21:41.562052Z",
     "iopub.status.idle": "2025-02-05T14:21:41.999849Z",
     "shell.execute_reply": "2025-02-05T14:21:41.998903Z"
    }
   },
   "outputs": [
    {
     "data": {
      "image/png": "[encoded data removed]",
      "text/plain": [
       "<Figure size 1500x500 with 1 Axes>"
      ]
     },
     "metadata": {},
     "output_type": "display_data"
    }
   ],
   "source": [
    "import numpy as np\n",
    "import matplotlib.pyplot as plt\n",
    "\n",
    "data = np.loadtxt(\"data/m.dat\")\n",
    "ref = np.loadtxt(\"ref/m_ref.dat\")\n",
    "\n",
    "fig, ax = plt.subplots(figsize=(15,5))\n",
    "cycle = plt.rcParams['axes.prop_cycle'].by_key()['color']\n",
    "\n",
    "ax.plot(data[:,1]*4*np.pi*1e-7, data[:,4], '-', color = cycle[2], label = \"magnum.np\")\n",
    "ax.plot(ref[:,1]*4*np.pi*1e-7, ref[:,4], '-', color = cycle[2], linewidth = 6, alpha = 0.4, label = \"magnum.af\")\n",
    "\n",
    "ax.set_xlim([-0.1,0.1])\n",
    "ax.set_ylim([-1,1])\n",
    "ax.set_title(\"SMC Demo\")\n",
    "ax.set_xlabel(\"External Field $\\mu$$_0$ H$^{ext}$$_x$ [T]\")\n",
    "ax.set_ylabel(\"Reduced Magnetization m [1]\")\n",
    "ax.legend(ncol=3)\n",
    "ax.grid()\n",
    "fig.savefig(\"data/results.png\")"
   ]
  }
 ],
 "metadata": {
  "accelerator": "GPU",
  "colab": {
   "gpuType": "T4"
  },
  "jupytext": {
   "notebook_metadata_filter": "colab,accelerator"
  },
  "kernelspec": {
   "display_name": "Python 3 (ipykernel)",
   "language": "python",
   "name": "python3"
  },
  "language_info": {
   "codemirror_mode": {
    "name": "ipython",
    "version": 3
   },
   "file_extension": ".py",
   "mimetype": "text/x-python",
   "name": "python",
   "nbconvert_exporter": "python",
   "pygments_lexer": "ipython3",
   "version": "3.10.16"
  }
 },
 "nbformat": 4,
 "nbformat_minor": 5
}
