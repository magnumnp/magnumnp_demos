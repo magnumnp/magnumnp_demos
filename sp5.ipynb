{
  "cells": [
    {
      "cell_type": "markdown",
      "id": "d676d215",
      "metadata": {},
      "source": [
        "This jupyter-notebook has be created with 'jupytext'.\n",
        "\n",
        "Use this [Link](https://colab.research.google.com/github/magnumnp/magnumnp_demos/blob/main/sp5.ipynb) to directly open the Notebook in Google Colab."
      ]
    },
    {
      "cell_type": "markdown",
      "id": "b765bcca",
      "metadata": {},
      "source": [
        "## Install magnum.np and fetch reference data (required for Colab)"
      ]
    },
    {
      "cell_type": "code",
      "execution_count": 1,
      "id": "bc2d5056",
      "metadata": {
        "execution": {
          "iopub.execute_input": "2024-11-06T13:50:49.843395Z",
          "iopub.status.busy": "2024-11-06T13:50:49.842857Z",
          "iopub.status.idle": "2024-11-06T13:50:50.882457Z",
          "shell.execute_reply": "2024-11-06T13:50:50.881320Z"
        },
        "lines_to_next_cell": 0
      },
      "outputs": [
        {
          "name": "stdout",
          "output_type": "stream",
          "text": [
            "\u001b[33mWARNING: Running pip as the 'root' user can result in broken permissions and conflicting behaviour with the system package manager, possibly rendering your system unusable.It is recommended to use a virtual environment instead: https://pip.pypa.io/warnings/venv. Use the --root-user-action option if you know what you are doing and want to suppress this warning.\u001b[0m\u001b[33m\r\n",
            "\u001b[0m"
          ]
        }
      ],
      "source": [
        "!pip install -q triton magnumnp\n",
        "from os import path\n",
        "if not path.isdir(\"ref\"):\n",
        "    !mkdir ref\n",
        "    !wget -P ref https://gitlab.com/magnum.np/magnum.np/raw/main/demos/sp5/ref/m.dat &> /dev/null"
      ]
    },
    {
      "cell_type": "markdown",
      "id": "08423a97",
      "metadata": {},
      "source": [
        "# MuMag Standard Problem #5"
      ]
    },
    {
      "cell_type": "markdown",
      "id": "94ba3ab1",
      "metadata": {},
      "source": [
        "## Run Simulation"
      ]
    },
    {
      "cell_type": "code",
      "execution_count": 2,
      "id": "70dd5ded",
      "metadata": {
        "execution": {
          "iopub.execute_input": "2024-11-06T13:50:50.885847Z",
          "iopub.status.busy": "2024-11-06T13:50:50.885520Z",
          "iopub.status.idle": "2024-11-06T13:53:11.914400Z",
          "shell.execute_reply": "2024-11-06T13:53:11.913537Z"
        },
        "lines_to_next_cell": 0
      },
      "outputs": [
        {
          "name": "stderr",
          "output_type": "stream",
          "text": [
            "2024-11-06 13:50:55  magnum.np:INFO \u001b[1;37;32mmagnum.np 2.0.1\u001b[0m\n"
          ]
        },
        {
          "name": "stderr",
          "output_type": "stream",
          "text": [
            "2024-11-06 13:50:55  magnum.np:INFO \u001b[1;37;32m[State] running on device: cpu (dtype = float64)\u001b[0m\n"
          ]
        },
        {
          "name": "stderr",
          "output_type": "stream",
          "text": [
            "2024-11-06 13:50:55  magnum.np:INFO \u001b[1;37;32m[Mesh] 40x40x1 (dx= 2.5e-09 x 2.5e-09 x 1e-08)\u001b[0m\n"
          ]
        },
        {
          "name": "stderr",
          "output_type": "stream",
          "text": [
            "2024-11-06 13:51:05  magnum.np:INFO \u001b[1;37;32m[LLGSolver] using RKF45 solver (atol = 1e-05)\u001b[0m\n"
          ]
        },
        {
          "name": "stderr",
          "output_type": "stream",
          "text": [
            "\r",
            "  0%|          | 0/501 [00:00<?, ?it/s]"
          ]
        },
        {
          "name": "stderr",
          "output_type": "stream",
          "text": [
            "\r",
            "  0%|          | 1/501 [00:04<41:18,  4.96s/it]"
          ]
        },
        {
          "name": "stderr",
          "output_type": "stream",
          "text": [
            "\r",
            "  0%|          | 2/501 [00:05<18:11,  2.19s/it]"
          ]
        },
        {
          "name": "stderr",
          "output_type": "stream",
          "text": [
            "\r",
            "  1%|          | 3/501 [00:05<10:48,  1.30s/it]"
          ]
        },
        {
          "name": "stderr",
          "output_type": "stream",
          "text": [
            "\r",
            "  1%|          | 4/501 [00:05<07:21,  1.13it/s]"
          ]
        },
        {
          "name": "stderr",
          "output_type": "stream",
          "text": [
            "\r",
            "  1%|          | 5/501 [00:05<05:23,  1.53it/s]"
          ]
        },
        {
          "name": "stderr",
          "output_type": "stream",
          "text": [
            "\r",
            "  1%|          | 6/501 [00:06<04:14,  1.95it/s]"
          ]
        },
        {
          "name": "stderr",
          "output_type": "stream",
          "text": [
            "\r",
            "  1%|\u258f         | 7/501 [00:06<03:31,  2.34it/s]"
          ]
        },
        {
          "name": "stderr",
          "output_type": "stream",
          "text": [
            "\r",
            "  2%|\u258f         | 8/501 [00:06<03:03,  2.68it/s]"
          ]
        },
        {
          "name": "stderr",
          "output_type": "stream",
          "text": [
            "\r",
            "  2%|\u258f         | 9/501 [00:06<02:45,  2.97it/s]"
          ]
        },
        {
          "name": "stderr",
          "output_type": "stream",
          "text": [
            "\r",
            "  2%|\u258f         | 10/501 [00:07<02:33,  3.20it/s]"
          ]
        },
        {
          "name": "stderr",
          "output_type": "stream",
          "text": [
            "\r",
            "  2%|\u258f         | 11/501 [00:07<02:22,  3.44it/s]"
          ]
        },
        {
          "name": "stderr",
          "output_type": "stream",
          "text": [
            "\r",
            "  2%|\u258f         | 12/501 [00:07<02:13,  3.65it/s]"
          ]
        },
        {
          "name": "stderr",
          "output_type": "stream",
          "text": [
            "\r",
            "  3%|\u258e         | 13/501 [00:07<02:10,  3.75it/s]"
          ]
        },
        {
          "name": "stderr",
          "output_type": "stream",
          "text": [
            "\r",
            "  3%|\u258e         | 14/501 [00:08<02:03,  3.95it/s]"
          ]
        },
        {
          "name": "stderr",
          "output_type": "stream",
          "text": [
            "\r",
            "  3%|\u258e         | 15/501 [00:08<02:01,  4.01it/s]"
          ]
        },
        {
          "name": "stderr",
          "output_type": "stream",
          "text": [
            "\r",
            "  3%|\u258e         | 16/501 [00:08<01:59,  4.06it/s]"
          ]
        },
        {
          "name": "stderr",
          "output_type": "stream",
          "text": [
            "\r",
            "  3%|\u258e         | 17/501 [00:08<01:59,  4.04it/s]"
          ]
        },
        {
          "name": "stderr",
          "output_type": "stream",
          "text": [
            "\r",
            "  4%|\u258e         | 18/501 [00:09<02:01,  3.98it/s]"
          ]
        },
        {
          "name": "stderr",
          "output_type": "stream",
          "text": [
            "\r",
            "  4%|\u258d         | 19/501 [00:09<01:58,  4.07it/s]"
          ]
        },
        {
          "name": "stderr",
          "output_type": "stream",
          "text": [
            "\r",
            "  4%|\u258d         | 20/501 [00:09<01:55,  4.17it/s]"
          ]
        },
        {
          "name": "stderr",
          "output_type": "stream",
          "text": [
            "\r",
            "  4%|\u258d         | 21/501 [00:09<01:54,  4.20it/s]"
          ]
        },
        {
          "name": "stderr",
          "output_type": "stream",
          "text": [
            "\r",
            "  4%|\u258d         | 22/501 [00:10<01:54,  4.19it/s]"
          ]
        },
        {
          "name": "stderr",
          "output_type": "stream",
          "text": [
            "\r",
            "  5%|\u258d         | 23/501 [00:10<01:57,  4.08it/s]"
          ]
        },
        {
          "name": "stderr",
          "output_type": "stream",
          "text": [
            "\r",
            "  5%|\u258d         | 24/501 [00:10<01:53,  4.20it/s]"
          ]
        },
        {
          "name": "stderr",
          "output_type": "stream",
          "text": [
            "\r",
            "  5%|\u258d         | 25/501 [00:10<01:54,  4.14it/s]"
          ]
        },
        {
          "name": "stderr",
          "output_type": "stream",
          "text": [
            "\r",
            "  5%|\u258c         | 26/501 [00:11<01:55,  4.13it/s]"
          ]
        },
        {
          "name": "stderr",
          "output_type": "stream",
          "text": [
            "\r",
            "  5%|\u258c         | 27/501 [00:11<01:54,  4.16it/s]"
          ]
        },
        {
          "name": "stderr",
          "output_type": "stream",
          "text": [
            "\r",
            "  6%|\u258c         | 28/501 [00:11<01:52,  4.21it/s]"
          ]
        },
        {
          "name": "stderr",
          "output_type": "stream",
          "text": [
            "\r",
            "  6%|\u258c         | 29/501 [00:11<01:53,  4.15it/s]"
          ]
        },
        {
          "name": "stderr",
          "output_type": "stream",
          "text": [
            "\r",
            "  6%|\u258c         | 30/501 [00:12<01:51,  4.21it/s]"
          ]
        },
        {
          "name": "stderr",
          "output_type": "stream",
          "text": [
            "\r",
            "  6%|\u258c         | 31/501 [00:12<01:52,  4.19it/s]"
          ]
        },
        {
          "name": "stderr",
          "output_type": "stream",
          "text": [
            "\r",
            "  6%|\u258b         | 32/501 [00:12<01:51,  4.22it/s]"
          ]
        },
        {
          "name": "stderr",
          "output_type": "stream",
          "text": [
            "\r",
            "  7%|\u258b         | 33/501 [00:12<01:50,  4.23it/s]"
          ]
        },
        {
          "name": "stderr",
          "output_type": "stream",
          "text": [
            "\r",
            "  7%|\u258b         | 34/501 [00:12<01:51,  4.17it/s]"
          ]
        },
        {
          "name": "stderr",
          "output_type": "stream",
          "text": [
            "\r",
            "  7%|\u258b         | 35/501 [00:13<01:49,  4.27it/s]"
          ]
        },
        {
          "name": "stderr",
          "output_type": "stream",
          "text": [
            "\r",
            "  7%|\u258b         | 36/501 [00:13<01:50,  4.20it/s]"
          ]
        },
        {
          "name": "stderr",
          "output_type": "stream",
          "text": [
            "\r",
            "  7%|\u258b         | 37/501 [00:13<01:49,  4.23it/s]"
          ]
        },
        {
          "name": "stderr",
          "output_type": "stream",
          "text": [
            "\r",
            "  8%|\u258a         | 38/501 [00:13<01:50,  4.20it/s]"
          ]
        },
        {
          "name": "stderr",
          "output_type": "stream",
          "text": [
            "\r",
            "  8%|\u258a         | 39/501 [00:14<01:49,  4.24it/s]"
          ]
        },
        {
          "name": "stderr",
          "output_type": "stream",
          "text": [
            "\r",
            "  8%|\u258a         | 40/501 [00:14<01:47,  4.27it/s]"
          ]
        },
        {
          "name": "stderr",
          "output_type": "stream",
          "text": [
            "\r",
            "  8%|\u258a         | 41/501 [00:14<01:48,  4.25it/s]"
          ]
        },
        {
          "name": "stderr",
          "output_type": "stream",
          "text": [
            "\r",
            "  8%|\u258a         | 42/501 [00:14<01:45,  4.36it/s]"
          ]
        },
        {
          "name": "stderr",
          "output_type": "stream",
          "text": [
            "\r",
            "  9%|\u258a         | 43/501 [00:15<01:45,  4.35it/s]"
          ]
        },
        {
          "name": "stderr",
          "output_type": "stream",
          "text": [
            "\r",
            "  9%|\u2589         | 44/501 [00:15<01:47,  4.27it/s]"
          ]
        },
        {
          "name": "stderr",
          "output_type": "stream",
          "text": [
            "\r",
            "  9%|\u2589         | 45/501 [00:15<01:48,  4.22it/s]"
          ]
        },
        {
          "name": "stderr",
          "output_type": "stream",
          "text": [
            "\r",
            "  9%|\u2589         | 46/501 [00:15<01:49,  4.14it/s]"
          ]
        },
        {
          "name": "stderr",
          "output_type": "stream",
          "text": [
            "\r",
            "  9%|\u2589         | 47/501 [00:16<01:47,  4.21it/s]"
          ]
        },
        {
          "name": "stderr",
          "output_type": "stream",
          "text": [
            "\r",
            " 10%|\u2589         | 48/501 [00:16<01:44,  4.32it/s]"
          ]
        },
        {
          "name": "stderr",
          "output_type": "stream",
          "text": [
            "\r",
            " 10%|\u2589         | 49/501 [00:16<01:46,  4.23it/s]"
          ]
        },
        {
          "name": "stderr",
          "output_type": "stream",
          "text": [
            "\r",
            " 10%|\u2589         | 50/501 [00:16<01:45,  4.26it/s]"
          ]
        },
        {
          "name": "stderr",
          "output_type": "stream",
          "text": [
            "\r",
            " 10%|\u2588         | 51/501 [00:16<01:46,  4.22it/s]"
          ]
        },
        {
          "name": "stderr",
          "output_type": "stream",
          "text": [
            "\r",
            " 10%|\u2588         | 52/501 [00:17<01:49,  4.10it/s]"
          ]
        },
        {
          "name": "stderr",
          "output_type": "stream",
          "text": [
            "\r",
            " 11%|\u2588         | 53/501 [00:17<01:49,  4.09it/s]"
          ]
        },
        {
          "name": "stderr",
          "output_type": "stream",
          "text": [
            "\r",
            " 11%|\u2588         | 54/501 [00:17<01:50,  4.03it/s]"
          ]
        },
        {
          "name": "stderr",
          "output_type": "stream",
          "text": [
            "\r",
            " 11%|\u2588         | 55/501 [00:17<01:50,  4.04it/s]"
          ]
        },
        {
          "name": "stderr",
          "output_type": "stream",
          "text": [
            "\r",
            " 11%|\u2588         | 56/501 [00:18<01:47,  4.13it/s]"
          ]
        },
        {
          "name": "stderr",
          "output_type": "stream",
          "text": [
            "\r",
            " 11%|\u2588\u258f        | 57/501 [00:18<01:48,  4.10it/s]"
          ]
        },
        {
          "name": "stderr",
          "output_type": "stream",
          "text": [
            "\r",
            " 12%|\u2588\u258f        | 58/501 [00:18<01:48,  4.07it/s]"
          ]
        },
        {
          "name": "stderr",
          "output_type": "stream",
          "text": [
            "\r",
            " 12%|\u2588\u258f        | 59/501 [00:18<01:48,  4.07it/s]"
          ]
        },
        {
          "name": "stderr",
          "output_type": "stream",
          "text": [
            "\r",
            " 12%|\u2588\u258f        | 60/501 [00:19<01:49,  4.02it/s]"
          ]
        },
        {
          "name": "stderr",
          "output_type": "stream",
          "text": [
            "\r",
            " 12%|\u2588\u258f        | 61/501 [00:19<01:47,  4.09it/s]"
          ]
        },
        {
          "name": "stderr",
          "output_type": "stream",
          "text": [
            "\r",
            " 12%|\u2588\u258f        | 62/501 [00:19<01:45,  4.17it/s]"
          ]
        },
        {
          "name": "stderr",
          "output_type": "stream",
          "text": [
            "\r",
            " 13%|\u2588\u258e        | 63/501 [00:19<01:43,  4.23it/s]"
          ]
        },
        {
          "name": "stderr",
          "output_type": "stream",
          "text": [
            "\r",
            " 13%|\u2588\u258e        | 64/501 [00:20<01:43,  4.24it/s]"
          ]
        },
        {
          "name": "stderr",
          "output_type": "stream",
          "text": [
            "\r",
            " 13%|\u2588\u258e        | 65/501 [00:20<01:44,  4.16it/s]"
          ]
        },
        {
          "name": "stderr",
          "output_type": "stream",
          "text": [
            "\r",
            " 13%|\u2588\u258e        | 66/501 [00:20<01:44,  4.16it/s]"
          ]
        },
        {
          "name": "stderr",
          "output_type": "stream",
          "text": [
            "\r",
            " 13%|\u2588\u258e        | 67/501 [00:20<01:45,  4.13it/s]"
          ]
        },
        {
          "name": "stderr",
          "output_type": "stream",
          "text": [
            "\r",
            " 14%|\u2588\u258e        | 68/501 [00:21<01:42,  4.21it/s]"
          ]
        },
        {
          "name": "stderr",
          "output_type": "stream",
          "text": [
            "\r",
            " 14%|\u2588\u258d        | 69/501 [00:21<01:41,  4.26it/s]"
          ]
        },
        {
          "name": "stderr",
          "output_type": "stream",
          "text": [
            "\r",
            " 14%|\u2588\u258d        | 70/501 [00:21<01:41,  4.23it/s]"
          ]
        },
        {
          "name": "stderr",
          "output_type": "stream",
          "text": [
            "\r",
            " 14%|\u2588\u258d        | 71/501 [00:21<01:42,  4.21it/s]"
          ]
        },
        {
          "name": "stderr",
          "output_type": "stream",
          "text": [
            "\r",
            " 14%|\u2588\u258d        | 72/501 [00:22<01:42,  4.18it/s]"
          ]
        },
        {
          "name": "stderr",
          "output_type": "stream",
          "text": [
            "\r",
            " 15%|\u2588\u258d        | 73/501 [00:22<01:40,  4.25it/s]"
          ]
        },
        {
          "name": "stderr",
          "output_type": "stream",
          "text": [
            "\r",
            " 15%|\u2588\u258d        | 74/501 [00:22<01:41,  4.21it/s]"
          ]
        },
        {
          "name": "stderr",
          "output_type": "stream",
          "text": [
            "\r",
            " 15%|\u2588\u258d        | 75/501 [00:22<01:40,  4.26it/s]"
          ]
        },
        {
          "name": "stderr",
          "output_type": "stream",
          "text": [
            "\r",
            " 15%|\u2588\u258c        | 76/501 [00:22<01:40,  4.23it/s]"
          ]
        },
        {
          "name": "stderr",
          "output_type": "stream",
          "text": [
            "\r",
            " 15%|\u2588\u258c        | 77/501 [00:23<01:43,  4.11it/s]"
          ]
        },
        {
          "name": "stderr",
          "output_type": "stream",
          "text": [
            "\r",
            " 16%|\u2588\u258c        | 78/501 [00:23<01:41,  4.16it/s]"
          ]
        },
        {
          "name": "stderr",
          "output_type": "stream",
          "text": [
            "\r",
            " 16%|\u2588\u258c        | 79/501 [00:23<01:40,  4.19it/s]"
          ]
        },
        {
          "name": "stderr",
          "output_type": "stream",
          "text": [
            "\r",
            " 16%|\u2588\u258c        | 80/501 [00:23<01:40,  4.20it/s]"
          ]
        },
        {
          "name": "stderr",
          "output_type": "stream",
          "text": [
            "\r",
            " 16%|\u2588\u258c        | 81/501 [00:24<01:41,  4.15it/s]"
          ]
        },
        {
          "name": "stderr",
          "output_type": "stream",
          "text": [
            "\r",
            " 16%|\u2588\u258b        | 82/501 [00:24<01:41,  4.13it/s]"
          ]
        },
        {
          "name": "stderr",
          "output_type": "stream",
          "text": [
            "\r",
            " 17%|\u2588\u258b        | 83/501 [00:24<01:40,  4.15it/s]"
          ]
        },
        {
          "name": "stderr",
          "output_type": "stream",
          "text": [
            "\r",
            " 17%|\u2588\u258b        | 84/501 [00:24<01:42,  4.08it/s]"
          ]
        },
        {
          "name": "stderr",
          "output_type": "stream",
          "text": [
            "\r",
            " 17%|\u2588\u258b        | 85/501 [00:25<01:41,  4.12it/s]"
          ]
        },
        {
          "name": "stderr",
          "output_type": "stream",
          "text": [
            "\r",
            " 17%|\u2588\u258b        | 86/501 [00:25<01:41,  4.08it/s]"
          ]
        },
        {
          "name": "stderr",
          "output_type": "stream",
          "text": [
            "\r",
            " 17%|\u2588\u258b        | 87/501 [00:25<01:39,  4.16it/s]"
          ]
        },
        {
          "name": "stderr",
          "output_type": "stream",
          "text": [
            "\r",
            " 18%|\u2588\u258a        | 88/501 [00:25<01:39,  4.13it/s]"
          ]
        },
        {
          "name": "stderr",
          "output_type": "stream",
          "text": [
            "\r",
            " 18%|\u2588\u258a        | 89/501 [00:26<01:37,  4.23it/s]"
          ]
        },
        {
          "name": "stderr",
          "output_type": "stream",
          "text": [
            "\r",
            " 18%|\u2588\u258a        | 90/501 [00:26<01:36,  4.24it/s]"
          ]
        },
        {
          "name": "stderr",
          "output_type": "stream",
          "text": [
            "\r",
            " 18%|\u2588\u258a        | 91/501 [00:26<01:36,  4.26it/s]"
          ]
        },
        {
          "name": "stderr",
          "output_type": "stream",
          "text": [
            "\r",
            " 18%|\u2588\u258a        | 92/501 [00:26<01:35,  4.27it/s]"
          ]
        },
        {
          "name": "stderr",
          "output_type": "stream",
          "text": [
            "\r",
            " 19%|\u2588\u258a        | 93/501 [00:27<01:35,  4.27it/s]"
          ]
        },
        {
          "name": "stderr",
          "output_type": "stream",
          "text": [
            "\r",
            " 19%|\u2588\u2589        | 94/501 [00:27<01:34,  4.29it/s]"
          ]
        },
        {
          "name": "stderr",
          "output_type": "stream",
          "text": [
            "\r",
            " 19%|\u2588\u2589        | 95/501 [00:27<01:33,  4.32it/s]"
          ]
        },
        {
          "name": "stderr",
          "output_type": "stream",
          "text": [
            "\r",
            " 19%|\u2588\u2589        | 96/501 [00:27<01:35,  4.25it/s]"
          ]
        },
        {
          "name": "stderr",
          "output_type": "stream",
          "text": [
            "\r",
            " 19%|\u2588\u2589        | 97/501 [00:27<01:34,  4.26it/s]"
          ]
        },
        {
          "name": "stderr",
          "output_type": "stream",
          "text": [
            "\r",
            " 20%|\u2588\u2589        | 98/501 [00:28<01:33,  4.30it/s]"
          ]
        },
        {
          "name": "stderr",
          "output_type": "stream",
          "text": [
            "\r",
            " 20%|\u2588\u2589        | 99/501 [00:28<01:33,  4.29it/s]"
          ]
        },
        {
          "name": "stderr",
          "output_type": "stream",
          "text": [
            "\r",
            " 20%|\u2588\u2589        | 100/501 [00:28<01:33,  4.27it/s]"
          ]
        },
        {
          "name": "stderr",
          "output_type": "stream",
          "text": [
            "\r",
            " 20%|\u2588\u2588        | 101/501 [00:28<01:35,  4.20it/s]"
          ]
        },
        {
          "name": "stderr",
          "output_type": "stream",
          "text": [
            "\r",
            " 20%|\u2588\u2588        | 102/501 [00:29<01:36,  4.14it/s]"
          ]
        },
        {
          "name": "stderr",
          "output_type": "stream",
          "text": [
            "\r",
            " 21%|\u2588\u2588        | 103/501 [00:29<01:37,  4.10it/s]"
          ]
        },
        {
          "name": "stderr",
          "output_type": "stream",
          "text": [
            "\r",
            " 21%|\u2588\u2588        | 104/501 [00:29<01:38,  4.04it/s]"
          ]
        },
        {
          "name": "stderr",
          "output_type": "stream",
          "text": [
            "\r",
            " 21%|\u2588\u2588        | 105/501 [00:29<01:36,  4.08it/s]"
          ]
        },
        {
          "name": "stderr",
          "output_type": "stream",
          "text": [
            "\r",
            " 21%|\u2588\u2588        | 106/501 [00:30<01:36,  4.10it/s]"
          ]
        },
        {
          "name": "stderr",
          "output_type": "stream",
          "text": [
            "\r",
            " 21%|\u2588\u2588\u258f       | 107/501 [00:30<01:37,  4.06it/s]"
          ]
        },
        {
          "name": "stderr",
          "output_type": "stream",
          "text": [
            "\r",
            " 22%|\u2588\u2588\u258f       | 108/501 [00:30<01:36,  4.08it/s]"
          ]
        },
        {
          "name": "stderr",
          "output_type": "stream",
          "text": [
            "\r",
            " 22%|\u2588\u2588\u258f       | 109/501 [00:30<01:35,  4.12it/s]"
          ]
        },
        {
          "name": "stderr",
          "output_type": "stream",
          "text": [
            "\r",
            " 22%|\u2588\u2588\u258f       | 110/501 [00:31<01:34,  4.15it/s]"
          ]
        },
        {
          "name": "stderr",
          "output_type": "stream",
          "text": [
            "\r",
            " 22%|\u2588\u2588\u258f       | 111/501 [00:31<01:34,  4.15it/s]"
          ]
        },
        {
          "name": "stderr",
          "output_type": "stream",
          "text": [
            "\r",
            " 22%|\u2588\u2588\u258f       | 112/501 [00:31<01:33,  4.17it/s]"
          ]
        },
        {
          "name": "stderr",
          "output_type": "stream",
          "text": [
            "\r",
            " 23%|\u2588\u2588\u258e       | 113/501 [00:31<01:32,  4.18it/s]"
          ]
        },
        {
          "name": "stderr",
          "output_type": "stream",
          "text": [
            "\r",
            " 23%|\u2588\u2588\u258e       | 114/501 [00:32<01:34,  4.11it/s]"
          ]
        },
        {
          "name": "stderr",
          "output_type": "stream",
          "text": [
            "\r",
            " 23%|\u2588\u2588\u258e       | 115/501 [00:32<01:33,  4.14it/s]"
          ]
        },
        {
          "name": "stderr",
          "output_type": "stream",
          "text": [
            "\r",
            " 23%|\u2588\u2588\u258e       | 116/501 [00:32<01:33,  4.14it/s]"
          ]
        },
        {
          "name": "stderr",
          "output_type": "stream",
          "text": [
            "\r",
            " 23%|\u2588\u2588\u258e       | 117/501 [00:32<01:30,  4.24it/s]"
          ]
        },
        {
          "name": "stderr",
          "output_type": "stream",
          "text": [
            "\r",
            " 24%|\u2588\u2588\u258e       | 118/501 [00:33<01:32,  4.16it/s]"
          ]
        },
        {
          "name": "stderr",
          "output_type": "stream",
          "text": [
            "\r",
            " 24%|\u2588\u2588\u258d       | 119/501 [00:33<01:30,  4.24it/s]"
          ]
        },
        {
          "name": "stderr",
          "output_type": "stream",
          "text": [
            "\r",
            " 24%|\u2588\u2588\u258d       | 120/501 [00:33<01:29,  4.26it/s]"
          ]
        },
        {
          "name": "stderr",
          "output_type": "stream",
          "text": [
            "\r",
            " 24%|\u2588\u2588\u258d       | 121/501 [00:33<01:30,  4.21it/s]"
          ]
        },
        {
          "name": "stderr",
          "output_type": "stream",
          "text": [
            "\r",
            " 24%|\u2588\u2588\u258d       | 122/501 [00:33<01:30,  4.19it/s]"
          ]
        },
        {
          "name": "stderr",
          "output_type": "stream",
          "text": [
            "\r",
            " 25%|\u2588\u2588\u258d       | 123/501 [00:34<01:32,  4.07it/s]"
          ]
        },
        {
          "name": "stderr",
          "output_type": "stream",
          "text": [
            "\r",
            " 25%|\u2588\u2588\u258d       | 124/501 [00:34<01:34,  3.98it/s]"
          ]
        },
        {
          "name": "stderr",
          "output_type": "stream",
          "text": [
            "\r",
            " 25%|\u2588\u2588\u258d       | 125/501 [00:34<01:34,  3.99it/s]"
          ]
        },
        {
          "name": "stderr",
          "output_type": "stream",
          "text": [
            "\r",
            " 25%|\u2588\u2588\u258c       | 126/501 [00:34<01:31,  4.11it/s]"
          ]
        },
        {
          "name": "stderr",
          "output_type": "stream",
          "text": [
            "\r",
            " 25%|\u2588\u2588\u258c       | 127/501 [00:35<01:28,  4.20it/s]"
          ]
        },
        {
          "name": "stderr",
          "output_type": "stream",
          "text": [
            "\r",
            " 26%|\u2588\u2588\u258c       | 128/501 [00:35<01:28,  4.22it/s]"
          ]
        },
        {
          "name": "stderr",
          "output_type": "stream",
          "text": [
            "\r",
            " 26%|\u2588\u2588\u258c       | 129/501 [00:35<01:30,  4.10it/s]"
          ]
        },
        {
          "name": "stderr",
          "output_type": "stream",
          "text": [
            "\r",
            " 26%|\u2588\u2588\u258c       | 130/501 [00:35<01:30,  4.12it/s]"
          ]
        },
        {
          "name": "stderr",
          "output_type": "stream",
          "text": [
            "\r",
            " 26%|\u2588\u2588\u258c       | 131/501 [00:36<01:28,  4.16it/s]"
          ]
        },
        {
          "name": "stderr",
          "output_type": "stream",
          "text": [
            "\r",
            " 26%|\u2588\u2588\u258b       | 132/501 [00:36<01:28,  4.15it/s]"
          ]
        },
        {
          "name": "stderr",
          "output_type": "stream",
          "text": [
            "\r",
            " 27%|\u2588\u2588\u258b       | 133/501 [00:36<01:29,  4.10it/s]"
          ]
        },
        {
          "name": "stderr",
          "output_type": "stream",
          "text": [
            "\r",
            " 27%|\u2588\u2588\u258b       | 134/501 [00:36<01:29,  4.12it/s]"
          ]
        },
        {
          "name": "stderr",
          "output_type": "stream",
          "text": [
            "\r",
            " 27%|\u2588\u2588\u258b       | 135/501 [00:37<01:27,  4.17it/s]"
          ]
        },
        {
          "name": "stderr",
          "output_type": "stream",
          "text": [
            "\r",
            " 27%|\u2588\u2588\u258b       | 136/501 [00:37<01:27,  4.18it/s]"
          ]
        },
        {
          "name": "stderr",
          "output_type": "stream",
          "text": [
            "\r",
            " 27%|\u2588\u2588\u258b       | 137/501 [00:37<01:27,  4.16it/s]"
          ]
        },
        {
          "name": "stderr",
          "output_type": "stream",
          "text": [
            "\r",
            " 28%|\u2588\u2588\u258a       | 138/501 [00:37<01:25,  4.23it/s]"
          ]
        },
        {
          "name": "stderr",
          "output_type": "stream",
          "text": [
            "\r",
            " 28%|\u2588\u2588\u258a       | 139/501 [00:38<01:25,  4.23it/s]"
          ]
        },
        {
          "name": "stderr",
          "output_type": "stream",
          "text": [
            "\r",
            " 28%|\u2588\u2588\u258a       | 140/501 [00:38<01:25,  4.20it/s]"
          ]
        },
        {
          "name": "stderr",
          "output_type": "stream",
          "text": [
            "\r",
            " 28%|\u2588\u2588\u258a       | 141/501 [00:38<01:25,  4.21it/s]"
          ]
        },
        {
          "name": "stderr",
          "output_type": "stream",
          "text": [
            "\r",
            " 28%|\u2588\u2588\u258a       | 142/501 [00:38<01:25,  4.22it/s]"
          ]
        },
        {
          "name": "stderr",
          "output_type": "stream",
          "text": [
            "\r",
            " 29%|\u2588\u2588\u258a       | 143/501 [00:39<01:24,  4.24it/s]"
          ]
        },
        {
          "name": "stderr",
          "output_type": "stream",
          "text": [
            "\r",
            " 29%|\u2588\u2588\u258a       | 144/501 [00:39<01:25,  4.18it/s]"
          ]
        },
        {
          "name": "stderr",
          "output_type": "stream",
          "text": [
            "\r",
            " 29%|\u2588\u2588\u2589       | 145/501 [00:39<01:25,  4.15it/s]"
          ]
        },
        {
          "name": "stderr",
          "output_type": "stream",
          "text": [
            "\r",
            " 29%|\u2588\u2588\u2589       | 146/501 [00:39<01:24,  4.22it/s]"
          ]
        },
        {
          "name": "stderr",
          "output_type": "stream",
          "text": [
            "\r",
            " 29%|\u2588\u2588\u2589       | 147/501 [00:39<01:22,  4.27it/s]"
          ]
        },
        {
          "name": "stderr",
          "output_type": "stream",
          "text": [
            "\r",
            " 30%|\u2588\u2588\u2589       | 148/501 [00:40<01:23,  4.23it/s]"
          ]
        },
        {
          "name": "stderr",
          "output_type": "stream",
          "text": [
            "\r",
            " 30%|\u2588\u2588\u2589       | 149/501 [00:40<01:22,  4.29it/s]"
          ]
        },
        {
          "name": "stderr",
          "output_type": "stream",
          "text": [
            "\r",
            " 30%|\u2588\u2588\u2589       | 150/501 [00:40<01:21,  4.29it/s]"
          ]
        },
        {
          "name": "stderr",
          "output_type": "stream",
          "text": [
            "\r",
            " 30%|\u2588\u2588\u2588       | 151/501 [00:40<01:23,  4.21it/s]"
          ]
        },
        {
          "name": "stderr",
          "output_type": "stream",
          "text": [
            "\r",
            " 30%|\u2588\u2588\u2588       | 152/501 [00:41<01:22,  4.23it/s]"
          ]
        },
        {
          "name": "stderr",
          "output_type": "stream",
          "text": [
            "\r",
            " 31%|\u2588\u2588\u2588       | 153/501 [00:41<01:22,  4.23it/s]"
          ]
        },
        {
          "name": "stderr",
          "output_type": "stream",
          "text": [
            "\r",
            " 31%|\u2588\u2588\u2588       | 154/501 [00:41<01:22,  4.20it/s]"
          ]
        },
        {
          "name": "stderr",
          "output_type": "stream",
          "text": [
            "\r",
            " 31%|\u2588\u2588\u2588       | 155/501 [00:41<01:20,  4.27it/s]"
          ]
        },
        {
          "name": "stderr",
          "output_type": "stream",
          "text": [
            "\r",
            " 31%|\u2588\u2588\u2588       | 156/501 [00:42<01:21,  4.26it/s]"
          ]
        },
        {
          "name": "stderr",
          "output_type": "stream",
          "text": [
            "\r",
            " 31%|\u2588\u2588\u2588\u258f      | 157/501 [00:42<01:21,  4.24it/s]"
          ]
        },
        {
          "name": "stderr",
          "output_type": "stream",
          "text": [
            "\r",
            " 32%|\u2588\u2588\u2588\u258f      | 158/501 [00:42<01:21,  4.21it/s]"
          ]
        },
        {
          "name": "stderr",
          "output_type": "stream",
          "text": [
            "\r",
            " 32%|\u2588\u2588\u2588\u258f      | 159/501 [00:42<01:21,  4.20it/s]"
          ]
        },
        {
          "name": "stderr",
          "output_type": "stream",
          "text": [
            "\r",
            " 32%|\u2588\u2588\u2588\u258f      | 160/501 [00:43<01:21,  4.17it/s]"
          ]
        },
        {
          "name": "stderr",
          "output_type": "stream",
          "text": [
            "\r",
            " 32%|\u2588\u2588\u2588\u258f      | 161/501 [00:43<01:21,  4.15it/s]"
          ]
        },
        {
          "name": "stderr",
          "output_type": "stream",
          "text": [
            "\r",
            " 32%|\u2588\u2588\u2588\u258f      | 162/501 [00:43<01:21,  4.16it/s]"
          ]
        },
        {
          "name": "stderr",
          "output_type": "stream",
          "text": [
            "\r",
            " 33%|\u2588\u2588\u2588\u258e      | 163/501 [00:43<01:21,  4.14it/s]"
          ]
        },
        {
          "name": "stderr",
          "output_type": "stream",
          "text": [
            "\r",
            " 33%|\u2588\u2588\u2588\u258e      | 164/501 [00:44<01:20,  4.19it/s]"
          ]
        },
        {
          "name": "stderr",
          "output_type": "stream",
          "text": [
            "\r",
            " 33%|\u2588\u2588\u2588\u258e      | 165/501 [00:44<01:21,  4.10it/s]"
          ]
        },
        {
          "name": "stderr",
          "output_type": "stream",
          "text": [
            "\r",
            " 33%|\u2588\u2588\u2588\u258e      | 166/501 [00:44<01:22,  4.06it/s]"
          ]
        },
        {
          "name": "stderr",
          "output_type": "stream",
          "text": [
            "\r",
            " 33%|\u2588\u2588\u2588\u258e      | 167/501 [00:44<01:21,  4.11it/s]"
          ]
        },
        {
          "name": "stderr",
          "output_type": "stream",
          "text": [
            "\r",
            " 34%|\u2588\u2588\u2588\u258e      | 168/501 [00:45<01:21,  4.08it/s]"
          ]
        },
        {
          "name": "stderr",
          "output_type": "stream",
          "text": [
            "\r",
            " 34%|\u2588\u2588\u2588\u258e      | 169/501 [00:45<01:19,  4.19it/s]"
          ]
        },
        {
          "name": "stderr",
          "output_type": "stream",
          "text": [
            "\r",
            " 34%|\u2588\u2588\u2588\u258d      | 170/501 [00:45<01:18,  4.21it/s]"
          ]
        },
        {
          "name": "stderr",
          "output_type": "stream",
          "text": [
            "\r",
            " 34%|\u2588\u2588\u2588\u258d      | 171/501 [00:45<01:18,  4.19it/s]"
          ]
        },
        {
          "name": "stderr",
          "output_type": "stream",
          "text": [
            "\r",
            " 34%|\u2588\u2588\u2588\u258d      | 172/501 [00:45<01:18,  4.18it/s]"
          ]
        },
        {
          "name": "stderr",
          "output_type": "stream",
          "text": [
            "\r",
            " 35%|\u2588\u2588\u2588\u258d      | 173/501 [00:46<01:19,  4.14it/s]"
          ]
        },
        {
          "name": "stderr",
          "output_type": "stream",
          "text": [
            "\r",
            " 35%|\u2588\u2588\u2588\u258d      | 174/501 [00:46<01:17,  4.22it/s]"
          ]
        },
        {
          "name": "stderr",
          "output_type": "stream",
          "text": [
            "\r",
            " 35%|\u2588\u2588\u2588\u258d      | 175/501 [00:46<01:15,  4.32it/s]"
          ]
        },
        {
          "name": "stderr",
          "output_type": "stream",
          "text": [
            "\r",
            " 35%|\u2588\u2588\u2588\u258c      | 176/501 [00:46<01:15,  4.29it/s]"
          ]
        },
        {
          "name": "stderr",
          "output_type": "stream",
          "text": [
            "\r",
            " 35%|\u2588\u2588\u2588\u258c      | 177/501 [00:47<01:15,  4.31it/s]"
          ]
        },
        {
          "name": "stderr",
          "output_type": "stream",
          "text": [
            "\r",
            " 36%|\u2588\u2588\u2588\u258c      | 178/501 [00:47<01:13,  4.37it/s]"
          ]
        },
        {
          "name": "stderr",
          "output_type": "stream",
          "text": [
            "\r",
            " 36%|\u2588\u2588\u2588\u258c      | 179/501 [00:47<01:13,  4.41it/s]"
          ]
        },
        {
          "name": "stderr",
          "output_type": "stream",
          "text": [
            "\r",
            " 36%|\u2588\u2588\u2588\u258c      | 180/501 [00:47<01:14,  4.32it/s]"
          ]
        },
        {
          "name": "stderr",
          "output_type": "stream",
          "text": [
            "\r",
            " 36%|\u2588\u2588\u2588\u258c      | 181/501 [00:48<01:14,  4.28it/s]"
          ]
        },
        {
          "name": "stderr",
          "output_type": "stream",
          "text": [
            "\r",
            " 36%|\u2588\u2588\u2588\u258b      | 182/501 [00:48<01:15,  4.20it/s]"
          ]
        },
        {
          "name": "stderr",
          "output_type": "stream",
          "text": [
            "\r",
            " 37%|\u2588\u2588\u2588\u258b      | 183/501 [00:48<01:14,  4.25it/s]"
          ]
        },
        {
          "name": "stderr",
          "output_type": "stream",
          "text": [
            "\r",
            " 37%|\u2588\u2588\u2588\u258b      | 184/501 [00:48<01:17,  4.12it/s]"
          ]
        },
        {
          "name": "stderr",
          "output_type": "stream",
          "text": [
            "\r",
            " 37%|\u2588\u2588\u2588\u258b      | 185/501 [00:49<01:16,  4.15it/s]"
          ]
        },
        {
          "name": "stderr",
          "output_type": "stream",
          "text": [
            "\r",
            " 37%|\u2588\u2588\u2588\u258b      | 186/501 [00:49<01:13,  4.28it/s]"
          ]
        },
        {
          "name": "stderr",
          "output_type": "stream",
          "text": [
            "\r",
            " 37%|\u2588\u2588\u2588\u258b      | 187/501 [00:49<01:14,  4.24it/s]"
          ]
        },
        {
          "name": "stderr",
          "output_type": "stream",
          "text": [
            "\r",
            " 38%|\u2588\u2588\u2588\u258a      | 188/501 [00:49<01:15,  4.15it/s]"
          ]
        },
        {
          "name": "stderr",
          "output_type": "stream",
          "text": [
            "\r",
            " 38%|\u2588\u2588\u2588\u258a      | 189/501 [00:49<01:13,  4.23it/s]"
          ]
        },
        {
          "name": "stderr",
          "output_type": "stream",
          "text": [
            "\r",
            " 38%|\u2588\u2588\u2588\u258a      | 190/501 [00:50<01:11,  4.36it/s]"
          ]
        },
        {
          "name": "stderr",
          "output_type": "stream",
          "text": [
            "\r",
            " 38%|\u2588\u2588\u2588\u258a      | 191/501 [00:50<01:11,  4.32it/s]"
          ]
        },
        {
          "name": "stderr",
          "output_type": "stream",
          "text": [
            "\r",
            " 38%|\u2588\u2588\u2588\u258a      | 192/501 [00:50<01:12,  4.28it/s]"
          ]
        },
        {
          "name": "stderr",
          "output_type": "stream",
          "text": [
            "\r",
            " 39%|\u2588\u2588\u2588\u258a      | 193/501 [00:50<01:12,  4.23it/s]"
          ]
        },
        {
          "name": "stderr",
          "output_type": "stream",
          "text": [
            "\r",
            " 39%|\u2588\u2588\u2588\u258a      | 194/501 [00:51<01:11,  4.29it/s]"
          ]
        },
        {
          "name": "stderr",
          "output_type": "stream",
          "text": [
            "\r",
            " 39%|\u2588\u2588\u2588\u2589      | 195/501 [00:51<01:11,  4.27it/s]"
          ]
        },
        {
          "name": "stderr",
          "output_type": "stream",
          "text": [
            "\r",
            " 39%|\u2588\u2588\u2588\u2589      | 196/501 [00:51<01:10,  4.30it/s]"
          ]
        },
        {
          "name": "stderr",
          "output_type": "stream",
          "text": [
            "\r",
            " 39%|\u2588\u2588\u2588\u2589      | 197/501 [00:51<01:10,  4.31it/s]"
          ]
        },
        {
          "name": "stderr",
          "output_type": "stream",
          "text": [
            "\r",
            " 40%|\u2588\u2588\u2588\u2589      | 198/501 [00:52<01:10,  4.29it/s]"
          ]
        },
        {
          "name": "stderr",
          "output_type": "stream",
          "text": [
            "\r",
            " 40%|\u2588\u2588\u2588\u2589      | 199/501 [00:52<01:11,  4.23it/s]"
          ]
        },
        {
          "name": "stderr",
          "output_type": "stream",
          "text": [
            "\r",
            " 40%|\u2588\u2588\u2588\u2589      | 200/501 [00:52<01:10,  4.24it/s]"
          ]
        },
        {
          "name": "stderr",
          "output_type": "stream",
          "text": [
            "\r",
            " 40%|\u2588\u2588\u2588\u2588      | 201/501 [00:52<01:11,  4.20it/s]"
          ]
        },
        {
          "name": "stderr",
          "output_type": "stream",
          "text": [
            "\r",
            " 40%|\u2588\u2588\u2588\u2588      | 202/501 [00:53<01:12,  4.13it/s]"
          ]
        },
        {
          "name": "stderr",
          "output_type": "stream",
          "text": [
            "\r",
            " 41%|\u2588\u2588\u2588\u2588      | 203/501 [00:53<01:13,  4.08it/s]"
          ]
        },
        {
          "name": "stderr",
          "output_type": "stream",
          "text": [
            "\r",
            " 41%|\u2588\u2588\u2588\u2588      | 204/501 [00:53<01:11,  4.14it/s]"
          ]
        },
        {
          "name": "stderr",
          "output_type": "stream",
          "text": [
            "\r",
            " 41%|\u2588\u2588\u2588\u2588      | 205/501 [00:53<01:10,  4.19it/s]"
          ]
        },
        {
          "name": "stderr",
          "output_type": "stream",
          "text": [
            "\r",
            " 41%|\u2588\u2588\u2588\u2588      | 206/501 [00:53<01:08,  4.29it/s]"
          ]
        },
        {
          "name": "stderr",
          "output_type": "stream",
          "text": [
            "\r",
            " 41%|\u2588\u2588\u2588\u2588\u258f     | 207/501 [00:54<01:08,  4.30it/s]"
          ]
        },
        {
          "name": "stderr",
          "output_type": "stream",
          "text": [
            "\r",
            " 42%|\u2588\u2588\u2588\u2588\u258f     | 208/501 [00:54<01:08,  4.27it/s]"
          ]
        },
        {
          "name": "stderr",
          "output_type": "stream",
          "text": [
            "\r",
            " 42%|\u2588\u2588\u2588\u2588\u258f     | 209/501 [00:54<01:09,  4.17it/s]"
          ]
        },
        {
          "name": "stderr",
          "output_type": "stream",
          "text": [
            "\r",
            " 42%|\u2588\u2588\u2588\u2588\u258f     | 210/501 [00:54<01:11,  4.07it/s]"
          ]
        },
        {
          "name": "stderr",
          "output_type": "stream",
          "text": [
            "\r",
            " 42%|\u2588\u2588\u2588\u2588\u258f     | 211/501 [00:55<01:10,  4.09it/s]"
          ]
        },
        {
          "name": "stderr",
          "output_type": "stream",
          "text": [
            "\r",
            " 42%|\u2588\u2588\u2588\u2588\u258f     | 212/501 [00:55<01:09,  4.14it/s]"
          ]
        },
        {
          "name": "stderr",
          "output_type": "stream",
          "text": [
            "\r",
            " 43%|\u2588\u2588\u2588\u2588\u258e     | 213/501 [00:55<01:07,  4.24it/s]"
          ]
        },
        {
          "name": "stderr",
          "output_type": "stream",
          "text": [
            "\r",
            " 43%|\u2588\u2588\u2588\u2588\u258e     | 214/501 [00:55<01:06,  4.30it/s]"
          ]
        },
        {
          "name": "stderr",
          "output_type": "stream",
          "text": [
            "\r",
            " 43%|\u2588\u2588\u2588\u2588\u258e     | 215/501 [00:56<01:07,  4.24it/s]"
          ]
        },
        {
          "name": "stderr",
          "output_type": "stream",
          "text": [
            "\r",
            " 43%|\u2588\u2588\u2588\u2588\u258e     | 216/501 [00:56<01:06,  4.25it/s]"
          ]
        },
        {
          "name": "stderr",
          "output_type": "stream",
          "text": [
            "\r",
            " 43%|\u2588\u2588\u2588\u2588\u258e     | 217/501 [00:56<01:06,  4.25it/s]"
          ]
        },
        {
          "name": "stderr",
          "output_type": "stream",
          "text": [
            "\r",
            " 44%|\u2588\u2588\u2588\u2588\u258e     | 218/501 [00:56<01:06,  4.24it/s]"
          ]
        },
        {
          "name": "stderr",
          "output_type": "stream",
          "text": [
            "\r",
            " 44%|\u2588\u2588\u2588\u2588\u258e     | 219/501 [00:57<01:07,  4.16it/s]"
          ]
        },
        {
          "name": "stderr",
          "output_type": "stream",
          "text": [
            "\r",
            " 44%|\u2588\u2588\u2588\u2588\u258d     | 220/501 [00:57<01:08,  4.08it/s]"
          ]
        },
        {
          "name": "stderr",
          "output_type": "stream",
          "text": [
            "\r",
            " 44%|\u2588\u2588\u2588\u2588\u258d     | 221/501 [00:57<01:10,  3.99it/s]"
          ]
        },
        {
          "name": "stderr",
          "output_type": "stream",
          "text": [
            "\r",
            " 44%|\u2588\u2588\u2588\u2588\u258d     | 222/501 [00:57<01:07,  4.10it/s]"
          ]
        },
        {
          "name": "stderr",
          "output_type": "stream",
          "text": [
            "\r",
            " 45%|\u2588\u2588\u2588\u2588\u258d     | 223/501 [00:58<01:06,  4.18it/s]"
          ]
        },
        {
          "name": "stderr",
          "output_type": "stream",
          "text": [
            "\r",
            " 45%|\u2588\u2588\u2588\u2588\u258d     | 224/501 [00:58<01:05,  4.24it/s]"
          ]
        },
        {
          "name": "stderr",
          "output_type": "stream",
          "text": [
            "\r",
            " 45%|\u2588\u2588\u2588\u2588\u258d     | 225/501 [00:58<01:06,  4.17it/s]"
          ]
        },
        {
          "name": "stderr",
          "output_type": "stream",
          "text": [
            "\r",
            " 45%|\u2588\u2588\u2588\u2588\u258c     | 226/501 [00:58<01:05,  4.22it/s]"
          ]
        },
        {
          "name": "stderr",
          "output_type": "stream",
          "text": [
            "\r",
            " 45%|\u2588\u2588\u2588\u2588\u258c     | 227/501 [00:58<01:05,  4.20it/s]"
          ]
        },
        {
          "name": "stderr",
          "output_type": "stream",
          "text": [
            "\r",
            " 46%|\u2588\u2588\u2588\u2588\u258c     | 228/501 [00:59<01:05,  4.16it/s]"
          ]
        },
        {
          "name": "stderr",
          "output_type": "stream",
          "text": [
            "\r",
            " 46%|\u2588\u2588\u2588\u2588\u258c     | 229/501 [00:59<01:05,  4.13it/s]"
          ]
        },
        {
          "name": "stderr",
          "output_type": "stream",
          "text": [
            "\r",
            " 46%|\u2588\u2588\u2588\u2588\u258c     | 230/501 [00:59<01:05,  4.15it/s]"
          ]
        },
        {
          "name": "stderr",
          "output_type": "stream",
          "text": [
            "\r",
            " 46%|\u2588\u2588\u2588\u2588\u258c     | 231/501 [00:59<01:04,  4.16it/s]"
          ]
        },
        {
          "name": "stderr",
          "output_type": "stream",
          "text": [
            "\r",
            " 46%|\u2588\u2588\u2588\u2588\u258b     | 232/501 [01:00<01:02,  4.27it/s]"
          ]
        },
        {
          "name": "stderr",
          "output_type": "stream",
          "text": [
            "\r",
            " 47%|\u2588\u2588\u2588\u2588\u258b     | 233/501 [01:00<01:01,  4.34it/s]"
          ]
        },
        {
          "name": "stderr",
          "output_type": "stream",
          "text": [
            "\r",
            " 47%|\u2588\u2588\u2588\u2588\u258b     | 234/501 [01:00<01:03,  4.18it/s]"
          ]
        },
        {
          "name": "stderr",
          "output_type": "stream",
          "text": [
            "\r",
            " 47%|\u2588\u2588\u2588\u2588\u258b     | 235/501 [01:00<01:04,  4.11it/s]"
          ]
        },
        {
          "name": "stderr",
          "output_type": "stream",
          "text": [
            "\r",
            " 47%|\u2588\u2588\u2588\u2588\u258b     | 236/501 [01:01<01:05,  4.06it/s]"
          ]
        },
        {
          "name": "stderr",
          "output_type": "stream",
          "text": [
            "\r",
            " 47%|\u2588\u2588\u2588\u2588\u258b     | 237/501 [01:01<01:05,  4.01it/s]"
          ]
        },
        {
          "name": "stderr",
          "output_type": "stream",
          "text": [
            "\r",
            " 48%|\u2588\u2588\u2588\u2588\u258a     | 238/501 [01:01<01:03,  4.15it/s]"
          ]
        },
        {
          "name": "stderr",
          "output_type": "stream",
          "text": [
            "\r",
            " 48%|\u2588\u2588\u2588\u2588\u258a     | 239/501 [01:01<01:04,  4.07it/s]"
          ]
        },
        {
          "name": "stderr",
          "output_type": "stream",
          "text": [
            "\r",
            " 48%|\u2588\u2588\u2588\u2588\u258a     | 240/501 [01:02<01:03,  4.11it/s]"
          ]
        },
        {
          "name": "stderr",
          "output_type": "stream",
          "text": [
            "\r",
            " 48%|\u2588\u2588\u2588\u2588\u258a     | 241/501 [01:02<01:03,  4.11it/s]"
          ]
        },
        {
          "name": "stderr",
          "output_type": "stream",
          "text": [
            "\r",
            " 48%|\u2588\u2588\u2588\u2588\u258a     | 242/501 [01:02<01:03,  4.08it/s]"
          ]
        },
        {
          "name": "stderr",
          "output_type": "stream",
          "text": [
            "\r",
            " 49%|\u2588\u2588\u2588\u2588\u258a     | 243/501 [01:02<01:03,  4.05it/s]"
          ]
        },
        {
          "name": "stderr",
          "output_type": "stream",
          "text": [
            "\r",
            " 49%|\u2588\u2588\u2588\u2588\u258a     | 244/501 [01:03<01:02,  4.12it/s]"
          ]
        },
        {
          "name": "stderr",
          "output_type": "stream",
          "text": [
            "\r",
            " 49%|\u2588\u2588\u2588\u2588\u2589     | 245/501 [01:03<01:02,  4.11it/s]"
          ]
        },
        {
          "name": "stderr",
          "output_type": "stream",
          "text": [
            "\r",
            " 49%|\u2588\u2588\u2588\u2588\u2589     | 246/501 [01:03<01:02,  4.07it/s]"
          ]
        },
        {
          "name": "stderr",
          "output_type": "stream",
          "text": [
            "\r",
            " 49%|\u2588\u2588\u2588\u2588\u2589     | 247/501 [01:03<01:02,  4.07it/s]"
          ]
        },
        {
          "name": "stderr",
          "output_type": "stream",
          "text": [
            "\r",
            " 50%|\u2588\u2588\u2588\u2588\u2589     | 248/501 [01:04<01:02,  4.04it/s]"
          ]
        },
        {
          "name": "stderr",
          "output_type": "stream",
          "text": [
            "\r",
            " 50%|\u2588\u2588\u2588\u2588\u2589     | 249/501 [01:04<01:01,  4.09it/s]"
          ]
        },
        {
          "name": "stderr",
          "output_type": "stream",
          "text": [
            "\r",
            " 50%|\u2588\u2588\u2588\u2588\u2589     | 250/501 [01:04<01:00,  4.15it/s]"
          ]
        },
        {
          "name": "stderr",
          "output_type": "stream",
          "text": [
            "\r",
            " 50%|\u2588\u2588\u2588\u2588\u2588     | 251/501 [01:04<01:00,  4.14it/s]"
          ]
        },
        {
          "name": "stderr",
          "output_type": "stream",
          "text": [
            "\r",
            " 50%|\u2588\u2588\u2588\u2588\u2588     | 252/501 [01:05<01:00,  4.13it/s]"
          ]
        },
        {
          "name": "stderr",
          "output_type": "stream",
          "text": [
            "\r",
            " 50%|\u2588\u2588\u2588\u2588\u2588     | 253/501 [01:05<01:00,  4.09it/s]"
          ]
        },
        {
          "name": "stderr",
          "output_type": "stream",
          "text": [
            "\r",
            " 51%|\u2588\u2588\u2588\u2588\u2588     | 254/501 [01:05<01:00,  4.05it/s]"
          ]
        },
        {
          "name": "stderr",
          "output_type": "stream",
          "text": [
            "\r",
            " 51%|\u2588\u2588\u2588\u2588\u2588     | 255/501 [01:05<01:00,  4.05it/s]"
          ]
        },
        {
          "name": "stderr",
          "output_type": "stream",
          "text": [
            "\r",
            " 51%|\u2588\u2588\u2588\u2588\u2588     | 256/501 [01:06<01:01,  3.98it/s]"
          ]
        },
        {
          "name": "stderr",
          "output_type": "stream",
          "text": [
            "\r",
            " 51%|\u2588\u2588\u2588\u2588\u2588\u258f    | 257/501 [01:06<00:59,  4.08it/s]"
          ]
        },
        {
          "name": "stderr",
          "output_type": "stream",
          "text": [
            "\r",
            " 51%|\u2588\u2588\u2588\u2588\u2588\u258f    | 258/501 [01:06<00:58,  4.12it/s]"
          ]
        },
        {
          "name": "stderr",
          "output_type": "stream",
          "text": [
            "\r",
            " 52%|\u2588\u2588\u2588\u2588\u2588\u258f    | 259/501 [01:06<00:58,  4.11it/s]"
          ]
        },
        {
          "name": "stderr",
          "output_type": "stream",
          "text": [
            "\r",
            " 52%|\u2588\u2588\u2588\u2588\u2588\u258f    | 260/501 [01:07<00:58,  4.14it/s]"
          ]
        },
        {
          "name": "stderr",
          "output_type": "stream",
          "text": [
            "\r",
            " 52%|\u2588\u2588\u2588\u2588\u2588\u258f    | 261/501 [01:07<00:58,  4.07it/s]"
          ]
        },
        {
          "name": "stderr",
          "output_type": "stream",
          "text": [
            "\r",
            " 52%|\u2588\u2588\u2588\u2588\u2588\u258f    | 262/501 [01:07<00:58,  4.09it/s]"
          ]
        },
        {
          "name": "stderr",
          "output_type": "stream",
          "text": [
            "\r",
            " 52%|\u2588\u2588\u2588\u2588\u2588\u258f    | 263/501 [01:07<00:58,  4.10it/s]"
          ]
        },
        {
          "name": "stderr",
          "output_type": "stream",
          "text": [
            "\r",
            " 53%|\u2588\u2588\u2588\u2588\u2588\u258e    | 264/501 [01:08<00:58,  4.07it/s]"
          ]
        },
        {
          "name": "stderr",
          "output_type": "stream",
          "text": [
            "\r",
            " 53%|\u2588\u2588\u2588\u2588\u2588\u258e    | 265/501 [01:08<00:55,  4.22it/s]"
          ]
        },
        {
          "name": "stderr",
          "output_type": "stream",
          "text": [
            "\r",
            " 53%|\u2588\u2588\u2588\u2588\u2588\u258e    | 266/501 [01:08<00:55,  4.27it/s]"
          ]
        },
        {
          "name": "stderr",
          "output_type": "stream",
          "text": [
            "\r",
            " 53%|\u2588\u2588\u2588\u2588\u2588\u258e    | 267/501 [01:08<00:55,  4.20it/s]"
          ]
        },
        {
          "name": "stderr",
          "output_type": "stream",
          "text": [
            "\r",
            " 53%|\u2588\u2588\u2588\u2588\u2588\u258e    | 268/501 [01:08<00:54,  4.25it/s]"
          ]
        },
        {
          "name": "stderr",
          "output_type": "stream",
          "text": [
            "\r",
            " 54%|\u2588\u2588\u2588\u2588\u2588\u258e    | 269/501 [01:09<00:53,  4.34it/s]"
          ]
        },
        {
          "name": "stderr",
          "output_type": "stream",
          "text": [
            "\r",
            " 54%|\u2588\u2588\u2588\u2588\u2588\u258d    | 270/501 [01:09<00:54,  4.23it/s]"
          ]
        },
        {
          "name": "stderr",
          "output_type": "stream",
          "text": [
            "\r",
            " 54%|\u2588\u2588\u2588\u2588\u2588\u258d    | 271/501 [01:09<00:55,  4.16it/s]"
          ]
        },
        {
          "name": "stderr",
          "output_type": "stream",
          "text": [
            "\r",
            " 54%|\u2588\u2588\u2588\u2588\u2588\u258d    | 272/501 [01:09<00:55,  4.12it/s]"
          ]
        },
        {
          "name": "stderr",
          "output_type": "stream",
          "text": [
            "\r",
            " 54%|\u2588\u2588\u2588\u2588\u2588\u258d    | 273/501 [01:10<00:56,  4.06it/s]"
          ]
        },
        {
          "name": "stderr",
          "output_type": "stream",
          "text": [
            "\r",
            " 55%|\u2588\u2588\u2588\u2588\u2588\u258d    | 274/501 [01:10<00:54,  4.15it/s]"
          ]
        },
        {
          "name": "stderr",
          "output_type": "stream",
          "text": [
            "\r",
            " 55%|\u2588\u2588\u2588\u2588\u2588\u258d    | 275/501 [01:10<00:53,  4.21it/s]"
          ]
        },
        {
          "name": "stderr",
          "output_type": "stream",
          "text": [
            "\r",
            " 55%|\u2588\u2588\u2588\u2588\u2588\u258c    | 276/501 [01:10<00:53,  4.22it/s]"
          ]
        },
        {
          "name": "stderr",
          "output_type": "stream",
          "text": [
            "\r",
            " 55%|\u2588\u2588\u2588\u2588\u2588\u258c    | 277/501 [01:11<00:53,  4.15it/s]"
          ]
        },
        {
          "name": "stderr",
          "output_type": "stream",
          "text": [
            "\r",
            " 55%|\u2588\u2588\u2588\u2588\u2588\u258c    | 278/501 [01:11<00:53,  4.18it/s]"
          ]
        },
        {
          "name": "stderr",
          "output_type": "stream",
          "text": [
            "\r",
            " 56%|\u2588\u2588\u2588\u2588\u2588\u258c    | 279/501 [01:11<00:52,  4.19it/s]"
          ]
        },
        {
          "name": "stderr",
          "output_type": "stream",
          "text": [
            "\r",
            " 56%|\u2588\u2588\u2588\u2588\u2588\u258c    | 280/501 [01:11<00:52,  4.17it/s]"
          ]
        },
        {
          "name": "stderr",
          "output_type": "stream",
          "text": [
            "\r",
            " 56%|\u2588\u2588\u2588\u2588\u2588\u258c    | 281/501 [01:12<00:53,  4.15it/s]"
          ]
        },
        {
          "name": "stderr",
          "output_type": "stream",
          "text": [
            "\r",
            " 56%|\u2588\u2588\u2588\u2588\u2588\u258b    | 282/501 [01:12<00:52,  4.21it/s]"
          ]
        },
        {
          "name": "stderr",
          "output_type": "stream",
          "text": [
            "\r",
            " 56%|\u2588\u2588\u2588\u2588\u2588\u258b    | 283/501 [01:12<00:52,  4.18it/s]"
          ]
        },
        {
          "name": "stderr",
          "output_type": "stream",
          "text": [
            "\r",
            " 57%|\u2588\u2588\u2588\u2588\u2588\u258b    | 284/501 [01:12<00:52,  4.14it/s]"
          ]
        },
        {
          "name": "stderr",
          "output_type": "stream",
          "text": [
            "\r",
            " 57%|\u2588\u2588\u2588\u2588\u2588\u258b    | 285/501 [01:13<00:52,  4.09it/s]"
          ]
        },
        {
          "name": "stderr",
          "output_type": "stream",
          "text": [
            "\r",
            " 57%|\u2588\u2588\u2588\u2588\u2588\u258b    | 286/501 [01:13<00:52,  4.07it/s]"
          ]
        },
        {
          "name": "stderr",
          "output_type": "stream",
          "text": [
            "\r",
            " 57%|\u2588\u2588\u2588\u2588\u2588\u258b    | 287/501 [01:13<00:52,  4.08it/s]"
          ]
        },
        {
          "name": "stderr",
          "output_type": "stream",
          "text": [
            "\r",
            " 57%|\u2588\u2588\u2588\u2588\u2588\u258b    | 288/501 [01:13<00:51,  4.14it/s]"
          ]
        },
        {
          "name": "stderr",
          "output_type": "stream",
          "text": [
            "\r",
            " 58%|\u2588\u2588\u2588\u2588\u2588\u258a    | 289/501 [01:14<00:51,  4.13it/s]"
          ]
        },
        {
          "name": "stderr",
          "output_type": "stream",
          "text": [
            "\r",
            " 58%|\u2588\u2588\u2588\u2588\u2588\u258a    | 290/501 [01:14<00:49,  4.22it/s]"
          ]
        },
        {
          "name": "stderr",
          "output_type": "stream",
          "text": [
            "\r",
            " 58%|\u2588\u2588\u2588\u2588\u2588\u258a    | 291/501 [01:14<00:50,  4.18it/s]"
          ]
        },
        {
          "name": "stderr",
          "output_type": "stream",
          "text": [
            "\r",
            " 58%|\u2588\u2588\u2588\u2588\u2588\u258a    | 292/501 [01:14<00:49,  4.23it/s]"
          ]
        },
        {
          "name": "stderr",
          "output_type": "stream",
          "text": [
            "\r",
            " 58%|\u2588\u2588\u2588\u2588\u2588\u258a    | 293/501 [01:14<00:49,  4.19it/s]"
          ]
        },
        {
          "name": "stderr",
          "output_type": "stream",
          "text": [
            "\r",
            " 59%|\u2588\u2588\u2588\u2588\u2588\u258a    | 294/501 [01:15<00:49,  4.21it/s]"
          ]
        },
        {
          "name": "stderr",
          "output_type": "stream",
          "text": [
            "\r",
            " 59%|\u2588\u2588\u2588\u2588\u2588\u2589    | 295/501 [01:15<00:48,  4.23it/s]"
          ]
        },
        {
          "name": "stderr",
          "output_type": "stream",
          "text": [
            "\r",
            " 59%|\u2588\u2588\u2588\u2588\u2588\u2589    | 296/501 [01:15<00:48,  4.23it/s]"
          ]
        },
        {
          "name": "stderr",
          "output_type": "stream",
          "text": [
            "\r",
            " 59%|\u2588\u2588\u2588\u2588\u2588\u2589    | 297/501 [01:15<00:48,  4.21it/s]"
          ]
        },
        {
          "name": "stderr",
          "output_type": "stream",
          "text": [
            "\r",
            " 59%|\u2588\u2588\u2588\u2588\u2588\u2589    | 298/501 [01:16<00:47,  4.24it/s]"
          ]
        },
        {
          "name": "stderr",
          "output_type": "stream",
          "text": [
            "\r",
            " 60%|\u2588\u2588\u2588\u2588\u2588\u2589    | 299/501 [01:16<00:47,  4.24it/s]"
          ]
        },
        {
          "name": "stderr",
          "output_type": "stream",
          "text": [
            "\r",
            " 60%|\u2588\u2588\u2588\u2588\u2588\u2589    | 300/501 [01:16<00:47,  4.22it/s]"
          ]
        },
        {
          "name": "stderr",
          "output_type": "stream",
          "text": [
            "\r",
            " 60%|\u2588\u2588\u2588\u2588\u2588\u2588    | 301/501 [01:16<00:47,  4.17it/s]"
          ]
        },
        {
          "name": "stderr",
          "output_type": "stream",
          "text": [
            "\r",
            " 60%|\u2588\u2588\u2588\u2588\u2588\u2588    | 302/501 [01:17<00:47,  4.20it/s]"
          ]
        },
        {
          "name": "stderr",
          "output_type": "stream",
          "text": [
            "\r",
            " 60%|\u2588\u2588\u2588\u2588\u2588\u2588    | 303/501 [01:17<00:48,  4.06it/s]"
          ]
        },
        {
          "name": "stderr",
          "output_type": "stream",
          "text": [
            "\r",
            " 61%|\u2588\u2588\u2588\u2588\u2588\u2588    | 304/501 [01:17<00:46,  4.21it/s]"
          ]
        },
        {
          "name": "stderr",
          "output_type": "stream",
          "text": [
            "\r",
            " 61%|\u2588\u2588\u2588\u2588\u2588\u2588    | 305/501 [01:17<00:46,  4.22it/s]"
          ]
        },
        {
          "name": "stderr",
          "output_type": "stream",
          "text": [
            "\r",
            " 61%|\u2588\u2588\u2588\u2588\u2588\u2588    | 306/501 [01:18<00:47,  4.07it/s]"
          ]
        },
        {
          "name": "stderr",
          "output_type": "stream",
          "text": [
            "\r",
            " 61%|\u2588\u2588\u2588\u2588\u2588\u2588\u258f   | 307/501 [01:18<00:47,  4.05it/s]"
          ]
        },
        {
          "name": "stderr",
          "output_type": "stream",
          "text": [
            "\r",
            " 61%|\u2588\u2588\u2588\u2588\u2588\u2588\u258f   | 308/501 [01:18<00:48,  3.95it/s]"
          ]
        },
        {
          "name": "stderr",
          "output_type": "stream",
          "text": [
            "\r",
            " 62%|\u2588\u2588\u2588\u2588\u2588\u2588\u258f   | 309/501 [01:18<00:48,  3.93it/s]"
          ]
        },
        {
          "name": "stderr",
          "output_type": "stream",
          "text": [
            "\r",
            " 62%|\u2588\u2588\u2588\u2588\u2588\u2588\u258f   | 310/501 [01:19<00:48,  3.96it/s]"
          ]
        },
        {
          "name": "stderr",
          "output_type": "stream",
          "text": [
            "\r",
            " 62%|\u2588\u2588\u2588\u2588\u2588\u2588\u258f   | 311/501 [01:19<00:45,  4.17it/s]"
          ]
        },
        {
          "name": "stderr",
          "output_type": "stream",
          "text": [
            "\r",
            " 62%|\u2588\u2588\u2588\u2588\u2588\u2588\u258f   | 312/501 [01:19<00:44,  4.21it/s]"
          ]
        },
        {
          "name": "stderr",
          "output_type": "stream",
          "text": [
            "\r",
            " 62%|\u2588\u2588\u2588\u2588\u2588\u2588\u258f   | 313/501 [01:19<00:46,  4.09it/s]"
          ]
        },
        {
          "name": "stderr",
          "output_type": "stream",
          "text": [
            "\r",
            " 63%|\u2588\u2588\u2588\u2588\u2588\u2588\u258e   | 314/501 [01:20<00:45,  4.07it/s]"
          ]
        },
        {
          "name": "stderr",
          "output_type": "stream",
          "text": [
            "\r",
            " 63%|\u2588\u2588\u2588\u2588\u2588\u2588\u258e   | 315/501 [01:20<00:45,  4.09it/s]"
          ]
        },
        {
          "name": "stderr",
          "output_type": "stream",
          "text": [
            "\r",
            " 63%|\u2588\u2588\u2588\u2588\u2588\u2588\u258e   | 316/501 [01:20<00:45,  4.08it/s]"
          ]
        },
        {
          "name": "stderr",
          "output_type": "stream",
          "text": [
            "\r",
            " 63%|\u2588\u2588\u2588\u2588\u2588\u2588\u258e   | 317/501 [01:20<00:45,  4.09it/s]"
          ]
        },
        {
          "name": "stderr",
          "output_type": "stream",
          "text": [
            "\r",
            " 63%|\u2588\u2588\u2588\u2588\u2588\u2588\u258e   | 318/501 [01:21<00:44,  4.08it/s]"
          ]
        },
        {
          "name": "stderr",
          "output_type": "stream",
          "text": [
            "\r",
            " 64%|\u2588\u2588\u2588\u2588\u2588\u2588\u258e   | 319/501 [01:21<00:45,  4.04it/s]"
          ]
        },
        {
          "name": "stderr",
          "output_type": "stream",
          "text": [
            "\r",
            " 64%|\u2588\u2588\u2588\u2588\u2588\u2588\u258d   | 320/501 [01:21<00:44,  4.05it/s]"
          ]
        },
        {
          "name": "stderr",
          "output_type": "stream",
          "text": [
            "\r",
            " 64%|\u2588\u2588\u2588\u2588\u2588\u2588\u258d   | 321/501 [01:21<00:43,  4.13it/s]"
          ]
        },
        {
          "name": "stderr",
          "output_type": "stream",
          "text": [
            "\r",
            " 64%|\u2588\u2588\u2588\u2588\u2588\u2588\u258d   | 322/501 [01:21<00:42,  4.26it/s]"
          ]
        },
        {
          "name": "stderr",
          "output_type": "stream",
          "text": [
            "\r",
            " 64%|\u2588\u2588\u2588\u2588\u2588\u2588\u258d   | 323/501 [01:22<00:41,  4.32it/s]"
          ]
        },
        {
          "name": "stderr",
          "output_type": "stream",
          "text": [
            "\r",
            " 65%|\u2588\u2588\u2588\u2588\u2588\u2588\u258d   | 324/501 [01:22<00:42,  4.18it/s]"
          ]
        },
        {
          "name": "stderr",
          "output_type": "stream",
          "text": [
            "\r",
            " 65%|\u2588\u2588\u2588\u2588\u2588\u2588\u258d   | 325/501 [01:22<00:42,  4.11it/s]"
          ]
        },
        {
          "name": "stderr",
          "output_type": "stream",
          "text": [
            "\r",
            " 65%|\u2588\u2588\u2588\u2588\u2588\u2588\u258c   | 326/501 [01:22<00:43,  4.06it/s]"
          ]
        },
        {
          "name": "stderr",
          "output_type": "stream",
          "text": [
            "\r",
            " 65%|\u2588\u2588\u2588\u2588\u2588\u2588\u258c   | 327/501 [01:23<00:43,  4.02it/s]"
          ]
        },
        {
          "name": "stderr",
          "output_type": "stream",
          "text": [
            "\r",
            " 65%|\u2588\u2588\u2588\u2588\u2588\u2588\u258c   | 328/501 [01:23<00:42,  4.03it/s]"
          ]
        },
        {
          "name": "stderr",
          "output_type": "stream",
          "text": [
            "\r",
            " 66%|\u2588\u2588\u2588\u2588\u2588\u2588\u258c   | 329/501 [01:23<00:41,  4.10it/s]"
          ]
        },
        {
          "name": "stderr",
          "output_type": "stream",
          "text": [
            "\r",
            " 66%|\u2588\u2588\u2588\u2588\u2588\u2588\u258c   | 330/501 [01:23<00:40,  4.19it/s]"
          ]
        },
        {
          "name": "stderr",
          "output_type": "stream",
          "text": [
            "\r",
            " 66%|\u2588\u2588\u2588\u2588\u2588\u2588\u258c   | 331/501 [01:24<00:41,  4.14it/s]"
          ]
        },
        {
          "name": "stderr",
          "output_type": "stream",
          "text": [
            "\r",
            " 66%|\u2588\u2588\u2588\u2588\u2588\u2588\u258b   | 332/501 [01:24<00:41,  4.10it/s]"
          ]
        },
        {
          "name": "stderr",
          "output_type": "stream",
          "text": [
            "\r",
            " 66%|\u2588\u2588\u2588\u2588\u2588\u2588\u258b   | 333/501 [01:24<00:40,  4.14it/s]"
          ]
        },
        {
          "name": "stderr",
          "output_type": "stream",
          "text": [
            "\r",
            " 67%|\u2588\u2588\u2588\u2588\u2588\u2588\u258b   | 334/501 [01:24<00:40,  4.13it/s]"
          ]
        },
        {
          "name": "stderr",
          "output_type": "stream",
          "text": [
            "\r",
            " 67%|\u2588\u2588\u2588\u2588\u2588\u2588\u258b   | 335/501 [01:25<00:39,  4.19it/s]"
          ]
        },
        {
          "name": "stderr",
          "output_type": "stream",
          "text": [
            "\r",
            " 67%|\u2588\u2588\u2588\u2588\u2588\u2588\u258b   | 336/501 [01:25<00:38,  4.24it/s]"
          ]
        },
        {
          "name": "stderr",
          "output_type": "stream",
          "text": [
            "\r",
            " 67%|\u2588\u2588\u2588\u2588\u2588\u2588\u258b   | 337/501 [01:25<00:38,  4.26it/s]"
          ]
        },
        {
          "name": "stderr",
          "output_type": "stream",
          "text": [
            "\r",
            " 67%|\u2588\u2588\u2588\u2588\u2588\u2588\u258b   | 338/501 [01:25<00:39,  4.16it/s]"
          ]
        },
        {
          "name": "stderr",
          "output_type": "stream",
          "text": [
            "\r",
            " 68%|\u2588\u2588\u2588\u2588\u2588\u2588\u258a   | 339/501 [01:26<00:39,  4.12it/s]"
          ]
        },
        {
          "name": "stderr",
          "output_type": "stream",
          "text": [
            "\r",
            " 68%|\u2588\u2588\u2588\u2588\u2588\u2588\u258a   | 340/501 [01:26<00:39,  4.11it/s]"
          ]
        },
        {
          "name": "stderr",
          "output_type": "stream",
          "text": [
            "\r",
            " 68%|\u2588\u2588\u2588\u2588\u2588\u2588\u258a   | 341/501 [01:26<00:38,  4.14it/s]"
          ]
        },
        {
          "name": "stderr",
          "output_type": "stream",
          "text": [
            "\r",
            " 68%|\u2588\u2588\u2588\u2588\u2588\u2588\u258a   | 342/501 [01:26<00:38,  4.16it/s]"
          ]
        },
        {
          "name": "stderr",
          "output_type": "stream",
          "text": [
            "\r",
            " 68%|\u2588\u2588\u2588\u2588\u2588\u2588\u258a   | 343/501 [01:27<00:38,  4.14it/s]"
          ]
        },
        {
          "name": "stderr",
          "output_type": "stream",
          "text": [
            "\r",
            " 69%|\u2588\u2588\u2588\u2588\u2588\u2588\u258a   | 344/501 [01:27<00:38,  4.07it/s]"
          ]
        },
        {
          "name": "stderr",
          "output_type": "stream",
          "text": [
            "\r",
            " 69%|\u2588\u2588\u2588\u2588\u2588\u2588\u2589   | 345/501 [01:27<00:38,  4.01it/s]"
          ]
        },
        {
          "name": "stderr",
          "output_type": "stream",
          "text": [
            "\r",
            " 69%|\u2588\u2588\u2588\u2588\u2588\u2588\u2589   | 346/501 [01:27<00:39,  3.96it/s]"
          ]
        },
        {
          "name": "stderr",
          "output_type": "stream",
          "text": [
            "\r",
            " 69%|\u2588\u2588\u2588\u2588\u2588\u2588\u2589   | 347/501 [01:28<00:38,  4.00it/s]"
          ]
        },
        {
          "name": "stderr",
          "output_type": "stream",
          "text": [
            "\r",
            " 69%|\u2588\u2588\u2588\u2588\u2588\u2588\u2589   | 348/501 [01:28<00:38,  4.01it/s]"
          ]
        },
        {
          "name": "stderr",
          "output_type": "stream",
          "text": [
            "\r",
            " 70%|\u2588\u2588\u2588\u2588\u2588\u2588\u2589   | 349/501 [01:28<00:37,  4.07it/s]"
          ]
        },
        {
          "name": "stderr",
          "output_type": "stream",
          "text": [
            "\r",
            " 70%|\u2588\u2588\u2588\u2588\u2588\u2588\u2589   | 350/501 [01:28<00:37,  4.05it/s]"
          ]
        },
        {
          "name": "stderr",
          "output_type": "stream",
          "text": [
            "\r",
            " 70%|\u2588\u2588\u2588\u2588\u2588\u2588\u2588   | 351/501 [01:29<00:36,  4.07it/s]"
          ]
        },
        {
          "name": "stderr",
          "output_type": "stream",
          "text": [
            "\r",
            " 70%|\u2588\u2588\u2588\u2588\u2588\u2588\u2588   | 352/501 [01:29<00:36,  4.11it/s]"
          ]
        },
        {
          "name": "stderr",
          "output_type": "stream",
          "text": [
            "\r",
            " 70%|\u2588\u2588\u2588\u2588\u2588\u2588\u2588   | 353/501 [01:29<00:36,  4.07it/s]"
          ]
        },
        {
          "name": "stderr",
          "output_type": "stream",
          "text": [
            "\r",
            " 71%|\u2588\u2588\u2588\u2588\u2588\u2588\u2588   | 354/501 [01:29<00:35,  4.09it/s]"
          ]
        },
        {
          "name": "stderr",
          "output_type": "stream",
          "text": [
            "\r",
            " 71%|\u2588\u2588\u2588\u2588\u2588\u2588\u2588   | 355/501 [01:29<00:34,  4.21it/s]"
          ]
        },
        {
          "name": "stderr",
          "output_type": "stream",
          "text": [
            "\r",
            " 71%|\u2588\u2588\u2588\u2588\u2588\u2588\u2588   | 356/501 [01:30<00:35,  4.08it/s]"
          ]
        },
        {
          "name": "stderr",
          "output_type": "stream",
          "text": [
            "\r",
            " 71%|\u2588\u2588\u2588\u2588\u2588\u2588\u2588\u258f  | 357/501 [01:30<00:34,  4.13it/s]"
          ]
        },
        {
          "name": "stderr",
          "output_type": "stream",
          "text": [
            "\r",
            " 71%|\u2588\u2588\u2588\u2588\u2588\u2588\u2588\u258f  | 358/501 [01:30<00:33,  4.25it/s]"
          ]
        },
        {
          "name": "stderr",
          "output_type": "stream",
          "text": [
            "\r",
            " 72%|\u2588\u2588\u2588\u2588\u2588\u2588\u2588\u258f  | 359/501 [01:30<00:32,  4.30it/s]"
          ]
        },
        {
          "name": "stderr",
          "output_type": "stream",
          "text": [
            "\r",
            " 72%|\u2588\u2588\u2588\u2588\u2588\u2588\u2588\u258f  | 360/501 [01:31<00:33,  4.18it/s]"
          ]
        },
        {
          "name": "stderr",
          "output_type": "stream",
          "text": [
            "\r",
            " 72%|\u2588\u2588\u2588\u2588\u2588\u2588\u2588\u258f  | 361/501 [01:31<00:33,  4.20it/s]"
          ]
        },
        {
          "name": "stderr",
          "output_type": "stream",
          "text": [
            "\r",
            " 72%|\u2588\u2588\u2588\u2588\u2588\u2588\u2588\u258f  | 362/501 [01:31<00:33,  4.14it/s]"
          ]
        },
        {
          "name": "stderr",
          "output_type": "stream",
          "text": [
            "\r",
            " 72%|\u2588\u2588\u2588\u2588\u2588\u2588\u2588\u258f  | 363/501 [01:31<00:33,  4.07it/s]"
          ]
        },
        {
          "name": "stderr",
          "output_type": "stream",
          "text": [
            "\r",
            " 73%|\u2588\u2588\u2588\u2588\u2588\u2588\u2588\u258e  | 364/501 [01:32<00:33,  4.11it/s]"
          ]
        },
        {
          "name": "stderr",
          "output_type": "stream",
          "text": [
            "\r",
            " 73%|\u2588\u2588\u2588\u2588\u2588\u2588\u2588\u258e  | 365/501 [01:32<00:33,  4.03it/s]"
          ]
        },
        {
          "name": "stderr",
          "output_type": "stream",
          "text": [
            "\r",
            " 73%|\u2588\u2588\u2588\u2588\u2588\u2588\u2588\u258e  | 366/501 [01:32<00:33,  4.02it/s]"
          ]
        },
        {
          "name": "stderr",
          "output_type": "stream",
          "text": [
            "\r",
            " 73%|\u2588\u2588\u2588\u2588\u2588\u2588\u2588\u258e  | 367/501 [01:32<00:33,  4.01it/s]"
          ]
        },
        {
          "name": "stderr",
          "output_type": "stream",
          "text": [
            "\r",
            " 73%|\u2588\u2588\u2588\u2588\u2588\u2588\u2588\u258e  | 368/501 [01:33<00:33,  4.01it/s]"
          ]
        },
        {
          "name": "stderr",
          "output_type": "stream",
          "text": [
            "\r",
            " 74%|\u2588\u2588\u2588\u2588\u2588\u2588\u2588\u258e  | 369/501 [01:33<00:32,  4.06it/s]"
          ]
        },
        {
          "name": "stderr",
          "output_type": "stream",
          "text": [
            "\r",
            " 74%|\u2588\u2588\u2588\u2588\u2588\u2588\u2588\u258d  | 370/501 [01:33<00:31,  4.16it/s]"
          ]
        },
        {
          "name": "stderr",
          "output_type": "stream",
          "text": [
            "\r",
            " 74%|\u2588\u2588\u2588\u2588\u2588\u2588\u2588\u258d  | 371/501 [01:33<00:31,  4.12it/s]"
          ]
        },
        {
          "name": "stderr",
          "output_type": "stream",
          "text": [
            "\r",
            " 74%|\u2588\u2588\u2588\u2588\u2588\u2588\u2588\u258d  | 372/501 [01:34<00:31,  4.09it/s]"
          ]
        },
        {
          "name": "stderr",
          "output_type": "stream",
          "text": [
            "\r",
            " 74%|\u2588\u2588\u2588\u2588\u2588\u2588\u2588\u258d  | 373/501 [01:34<00:31,  4.02it/s]"
          ]
        },
        {
          "name": "stderr",
          "output_type": "stream",
          "text": [
            "\r",
            " 75%|\u2588\u2588\u2588\u2588\u2588\u2588\u2588\u258d  | 374/501 [01:34<00:31,  4.03it/s]"
          ]
        },
        {
          "name": "stderr",
          "output_type": "stream",
          "text": [
            "\r",
            " 75%|\u2588\u2588\u2588\u2588\u2588\u2588\u2588\u258d  | 375/501 [01:34<00:31,  4.04it/s]"
          ]
        },
        {
          "name": "stderr",
          "output_type": "stream",
          "text": [
            "\r",
            " 75%|\u2588\u2588\u2588\u2588\u2588\u2588\u2588\u258c  | 376/501 [01:35<00:30,  4.07it/s]"
          ]
        },
        {
          "name": "stderr",
          "output_type": "stream",
          "text": [
            "\r",
            " 75%|\u2588\u2588\u2588\u2588\u2588\u2588\u2588\u258c  | 377/501 [01:35<00:30,  4.08it/s]"
          ]
        },
        {
          "name": "stderr",
          "output_type": "stream",
          "text": [
            "\r",
            " 75%|\u2588\u2588\u2588\u2588\u2588\u2588\u2588\u258c  | 378/501 [01:35<00:30,  4.02it/s]"
          ]
        },
        {
          "name": "stderr",
          "output_type": "stream",
          "text": [
            "\r",
            " 76%|\u2588\u2588\u2588\u2588\u2588\u2588\u2588\u258c  | 379/501 [01:35<00:30,  4.00it/s]"
          ]
        },
        {
          "name": "stderr",
          "output_type": "stream",
          "text": [
            "\r",
            " 76%|\u2588\u2588\u2588\u2588\u2588\u2588\u2588\u258c  | 380/501 [01:36<00:30,  4.03it/s]"
          ]
        },
        {
          "name": "stderr",
          "output_type": "stream",
          "text": [
            "\r",
            " 76%|\u2588\u2588\u2588\u2588\u2588\u2588\u2588\u258c  | 381/501 [01:36<00:30,  3.95it/s]"
          ]
        },
        {
          "name": "stderr",
          "output_type": "stream",
          "text": [
            "\r",
            " 76%|\u2588\u2588\u2588\u2588\u2588\u2588\u2588\u258c  | 382/501 [01:36<00:30,  3.87it/s]"
          ]
        },
        {
          "name": "stderr",
          "output_type": "stream",
          "text": [
            "\r",
            " 76%|\u2588\u2588\u2588\u2588\u2588\u2588\u2588\u258b  | 383/501 [01:36<00:29,  3.94it/s]"
          ]
        },
        {
          "name": "stderr",
          "output_type": "stream",
          "text": [
            "\r",
            " 77%|\u2588\u2588\u2588\u2588\u2588\u2588\u2588\u258b  | 384/501 [01:37<00:29,  3.93it/s]"
          ]
        },
        {
          "name": "stderr",
          "output_type": "stream",
          "text": [
            "\r",
            " 77%|\u2588\u2588\u2588\u2588\u2588\u2588\u2588\u258b  | 385/501 [01:37<00:29,  3.91it/s]"
          ]
        },
        {
          "name": "stderr",
          "output_type": "stream",
          "text": [
            "\r",
            " 77%|\u2588\u2588\u2588\u2588\u2588\u2588\u2588\u258b  | 386/501 [01:37<00:29,  3.90it/s]"
          ]
        },
        {
          "name": "stderr",
          "output_type": "stream",
          "text": [
            "\r",
            " 77%|\u2588\u2588\u2588\u2588\u2588\u2588\u2588\u258b  | 387/501 [01:37<00:28,  3.96it/s]"
          ]
        },
        {
          "name": "stderr",
          "output_type": "stream",
          "text": [
            "\r",
            " 77%|\u2588\u2588\u2588\u2588\u2588\u2588\u2588\u258b  | 388/501 [01:38<00:27,  4.06it/s]"
          ]
        },
        {
          "name": "stderr",
          "output_type": "stream",
          "text": [
            "\r",
            " 78%|\u2588\u2588\u2588\u2588\u2588\u2588\u2588\u258a  | 389/501 [01:38<00:27,  4.02it/s]"
          ]
        },
        {
          "name": "stderr",
          "output_type": "stream",
          "text": [
            "\r",
            " 78%|\u2588\u2588\u2588\u2588\u2588\u2588\u2588\u258a  | 390/501 [01:38<00:27,  3.98it/s]"
          ]
        },
        {
          "name": "stderr",
          "output_type": "stream",
          "text": [
            "\r",
            " 78%|\u2588\u2588\u2588\u2588\u2588\u2588\u2588\u258a  | 391/501 [01:38<00:27,  3.98it/s]"
          ]
        },
        {
          "name": "stderr",
          "output_type": "stream",
          "text": [
            "\r",
            " 78%|\u2588\u2588\u2588\u2588\u2588\u2588\u2588\u258a  | 392/501 [01:39<00:27,  3.97it/s]"
          ]
        },
        {
          "name": "stderr",
          "output_type": "stream",
          "text": [
            "\r",
            " 78%|\u2588\u2588\u2588\u2588\u2588\u2588\u2588\u258a  | 393/501 [01:39<00:26,  4.00it/s]"
          ]
        },
        {
          "name": "stderr",
          "output_type": "stream",
          "text": [
            "\r",
            " 79%|\u2588\u2588\u2588\u2588\u2588\u2588\u2588\u258a  | 394/501 [01:39<00:26,  3.97it/s]"
          ]
        },
        {
          "name": "stderr",
          "output_type": "stream",
          "text": [
            "\r",
            " 79%|\u2588\u2588\u2588\u2588\u2588\u2588\u2588\u2589  | 395/501 [01:39<00:26,  3.98it/s]"
          ]
        },
        {
          "name": "stderr",
          "output_type": "stream",
          "text": [
            "\r",
            " 79%|\u2588\u2588\u2588\u2588\u2588\u2588\u2588\u2589  | 396/501 [01:40<00:25,  4.08it/s]"
          ]
        },
        {
          "name": "stderr",
          "output_type": "stream",
          "text": [
            "\r",
            " 79%|\u2588\u2588\u2588\u2588\u2588\u2588\u2588\u2589  | 397/501 [01:40<00:25,  4.05it/s]"
          ]
        },
        {
          "name": "stderr",
          "output_type": "stream",
          "text": [
            "\r",
            " 79%|\u2588\u2588\u2588\u2588\u2588\u2588\u2588\u2589  | 398/501 [01:40<00:25,  4.00it/s]"
          ]
        },
        {
          "name": "stderr",
          "output_type": "stream",
          "text": [
            "\r",
            " 80%|\u2588\u2588\u2588\u2588\u2588\u2588\u2588\u2589  | 399/501 [01:40<00:25,  3.98it/s]"
          ]
        },
        {
          "name": "stderr",
          "output_type": "stream",
          "text": [
            "\r",
            " 80%|\u2588\u2588\u2588\u2588\u2588\u2588\u2588\u2589  | 400/501 [01:41<00:25,  4.00it/s]"
          ]
        },
        {
          "name": "stderr",
          "output_type": "stream",
          "text": [
            "\r",
            " 80%|\u2588\u2588\u2588\u2588\u2588\u2588\u2588\u2588  | 401/501 [01:41<00:24,  4.03it/s]"
          ]
        },
        {
          "name": "stderr",
          "output_type": "stream",
          "text": [
            "\r",
            " 80%|\u2588\u2588\u2588\u2588\u2588\u2588\u2588\u2588  | 402/501 [01:41<00:24,  4.09it/s]"
          ]
        },
        {
          "name": "stderr",
          "output_type": "stream",
          "text": [
            "\r",
            " 80%|\u2588\u2588\u2588\u2588\u2588\u2588\u2588\u2588  | 403/501 [01:41<00:23,  4.13it/s]"
          ]
        },
        {
          "name": "stderr",
          "output_type": "stream",
          "text": [
            "\r",
            " 81%|\u2588\u2588\u2588\u2588\u2588\u2588\u2588\u2588  | 404/501 [01:42<00:24,  4.02it/s]"
          ]
        },
        {
          "name": "stderr",
          "output_type": "stream",
          "text": [
            "\r",
            " 81%|\u2588\u2588\u2588\u2588\u2588\u2588\u2588\u2588  | 405/501 [01:42<00:23,  4.05it/s]"
          ]
        },
        {
          "name": "stderr",
          "output_type": "stream",
          "text": [
            "\r",
            " 81%|\u2588\u2588\u2588\u2588\u2588\u2588\u2588\u2588  | 406/501 [01:42<00:23,  4.05it/s]"
          ]
        },
        {
          "name": "stderr",
          "output_type": "stream",
          "text": [
            "\r",
            " 81%|\u2588\u2588\u2588\u2588\u2588\u2588\u2588\u2588  | 407/501 [01:42<00:23,  4.08it/s]"
          ]
        },
        {
          "name": "stderr",
          "output_type": "stream",
          "text": [
            "\r",
            " 81%|\u2588\u2588\u2588\u2588\u2588\u2588\u2588\u2588\u258f | 408/501 [01:43<00:22,  4.04it/s]"
          ]
        },
        {
          "name": "stderr",
          "output_type": "stream",
          "text": [
            "\r",
            " 82%|\u2588\u2588\u2588\u2588\u2588\u2588\u2588\u2588\u258f | 409/501 [01:43<00:22,  4.06it/s]"
          ]
        },
        {
          "name": "stderr",
          "output_type": "stream",
          "text": [
            "\r",
            " 82%|\u2588\u2588\u2588\u2588\u2588\u2588\u2588\u2588\u258f | 410/501 [01:43<00:22,  4.11it/s]"
          ]
        },
        {
          "name": "stderr",
          "output_type": "stream",
          "text": [
            "\r",
            " 82%|\u2588\u2588\u2588\u2588\u2588\u2588\u2588\u2588\u258f | 411/501 [01:43<00:21,  4.22it/s]"
          ]
        },
        {
          "name": "stderr",
          "output_type": "stream",
          "text": [
            "\r",
            " 82%|\u2588\u2588\u2588\u2588\u2588\u2588\u2588\u2588\u258f | 412/501 [01:44<00:21,  4.16it/s]"
          ]
        },
        {
          "name": "stderr",
          "output_type": "stream",
          "text": [
            "\r",
            " 82%|\u2588\u2588\u2588\u2588\u2588\u2588\u2588\u2588\u258f | 413/501 [01:44<00:21,  4.10it/s]"
          ]
        },
        {
          "name": "stderr",
          "output_type": "stream",
          "text": [
            "\r",
            " 83%|\u2588\u2588\u2588\u2588\u2588\u2588\u2588\u2588\u258e | 414/501 [01:44<00:20,  4.18it/s]"
          ]
        },
        {
          "name": "stderr",
          "output_type": "stream",
          "text": [
            "\r",
            " 83%|\u2588\u2588\u2588\u2588\u2588\u2588\u2588\u2588\u258e | 415/501 [01:44<00:21,  4.06it/s]"
          ]
        },
        {
          "name": "stderr",
          "output_type": "stream",
          "text": [
            "\r",
            " 83%|\u2588\u2588\u2588\u2588\u2588\u2588\u2588\u2588\u258e | 416/501 [01:45<00:20,  4.07it/s]"
          ]
        },
        {
          "name": "stderr",
          "output_type": "stream",
          "text": [
            "\r",
            " 83%|\u2588\u2588\u2588\u2588\u2588\u2588\u2588\u2588\u258e | 417/501 [01:45<00:20,  4.08it/s]"
          ]
        },
        {
          "name": "stderr",
          "output_type": "stream",
          "text": [
            "\r",
            " 83%|\u2588\u2588\u2588\u2588\u2588\u2588\u2588\u2588\u258e | 418/501 [01:45<00:19,  4.19it/s]"
          ]
        },
        {
          "name": "stderr",
          "output_type": "stream",
          "text": [
            "\r",
            " 84%|\u2588\u2588\u2588\u2588\u2588\u2588\u2588\u2588\u258e | 419/501 [01:45<00:19,  4.20it/s]"
          ]
        },
        {
          "name": "stderr",
          "output_type": "stream",
          "text": [
            "\r",
            " 84%|\u2588\u2588\u2588\u2588\u2588\u2588\u2588\u2588\u258d | 420/501 [01:46<00:19,  4.16it/s]"
          ]
        },
        {
          "name": "stderr",
          "output_type": "stream",
          "text": [
            "\r",
            " 84%|\u2588\u2588\u2588\u2588\u2588\u2588\u2588\u2588\u258d | 421/501 [01:46<00:19,  4.17it/s]"
          ]
        },
        {
          "name": "stderr",
          "output_type": "stream",
          "text": [
            "\r",
            " 84%|\u2588\u2588\u2588\u2588\u2588\u2588\u2588\u2588\u258d | 422/501 [01:46<00:19,  4.12it/s]"
          ]
        },
        {
          "name": "stderr",
          "output_type": "stream",
          "text": [
            "\r",
            " 84%|\u2588\u2588\u2588\u2588\u2588\u2588\u2588\u2588\u258d | 423/501 [01:46<00:19,  4.08it/s]"
          ]
        },
        {
          "name": "stderr",
          "output_type": "stream",
          "text": [
            "\r",
            " 85%|\u2588\u2588\u2588\u2588\u2588\u2588\u2588\u2588\u258d | 424/501 [01:47<00:19,  3.99it/s]"
          ]
        },
        {
          "name": "stderr",
          "output_type": "stream",
          "text": [
            "\r",
            " 85%|\u2588\u2588\u2588\u2588\u2588\u2588\u2588\u2588\u258d | 425/501 [01:47<00:19,  3.95it/s]"
          ]
        },
        {
          "name": "stderr",
          "output_type": "stream",
          "text": [
            "\r",
            " 85%|\u2588\u2588\u2588\u2588\u2588\u2588\u2588\u2588\u258c | 426/501 [01:47<00:18,  3.98it/s]"
          ]
        },
        {
          "name": "stderr",
          "output_type": "stream",
          "text": [
            "\r",
            " 85%|\u2588\u2588\u2588\u2588\u2588\u2588\u2588\u2588\u258c | 427/501 [01:47<00:18,  4.04it/s]"
          ]
        },
        {
          "name": "stderr",
          "output_type": "stream",
          "text": [
            "\r",
            " 85%|\u2588\u2588\u2588\u2588\u2588\u2588\u2588\u2588\u258c | 428/501 [01:48<00:18,  4.00it/s]"
          ]
        },
        {
          "name": "stderr",
          "output_type": "stream",
          "text": [
            "\r",
            " 86%|\u2588\u2588\u2588\u2588\u2588\u2588\u2588\u2588\u258c | 429/501 [01:48<00:18,  3.94it/s]"
          ]
        },
        {
          "name": "stderr",
          "output_type": "stream",
          "text": [
            "\r",
            " 86%|\u2588\u2588\u2588\u2588\u2588\u2588\u2588\u2588\u258c | 430/501 [01:48<00:17,  3.98it/s]"
          ]
        },
        {
          "name": "stderr",
          "output_type": "stream",
          "text": [
            "\r",
            " 86%|\u2588\u2588\u2588\u2588\u2588\u2588\u2588\u2588\u258c | 431/501 [01:48<00:17,  3.94it/s]"
          ]
        },
        {
          "name": "stderr",
          "output_type": "stream",
          "text": [
            "\r",
            " 86%|\u2588\u2588\u2588\u2588\u2588\u2588\u2588\u2588\u258c | 432/501 [01:49<00:17,  4.04it/s]"
          ]
        },
        {
          "name": "stderr",
          "output_type": "stream",
          "text": [
            "\r",
            " 86%|\u2588\u2588\u2588\u2588\u2588\u2588\u2588\u2588\u258b | 433/501 [01:49<00:16,  4.09it/s]"
          ]
        },
        {
          "name": "stderr",
          "output_type": "stream",
          "text": [
            "\r",
            " 87%|\u2588\u2588\u2588\u2588\u2588\u2588\u2588\u2588\u258b | 434/501 [01:49<00:16,  4.17it/s]"
          ]
        },
        {
          "name": "stderr",
          "output_type": "stream",
          "text": [
            "\r",
            " 87%|\u2588\u2588\u2588\u2588\u2588\u2588\u2588\u2588\u258b | 435/501 [01:49<00:15,  4.18it/s]"
          ]
        },
        {
          "name": "stderr",
          "output_type": "stream",
          "text": [
            "\r",
            " 87%|\u2588\u2588\u2588\u2588\u2588\u2588\u2588\u2588\u258b | 436/501 [01:49<00:15,  4.10it/s]"
          ]
        },
        {
          "name": "stderr",
          "output_type": "stream",
          "text": [
            "\r",
            " 87%|\u2588\u2588\u2588\u2588\u2588\u2588\u2588\u2588\u258b | 437/501 [01:50<00:15,  4.23it/s]"
          ]
        },
        {
          "name": "stderr",
          "output_type": "stream",
          "text": [
            "\r",
            " 87%|\u2588\u2588\u2588\u2588\u2588\u2588\u2588\u2588\u258b | 438/501 [01:50<00:15,  4.15it/s]"
          ]
        },
        {
          "name": "stderr",
          "output_type": "stream",
          "text": [
            "\r",
            " 88%|\u2588\u2588\u2588\u2588\u2588\u2588\u2588\u2588\u258a | 439/501 [01:50<00:15,  4.09it/s]"
          ]
        },
        {
          "name": "stderr",
          "output_type": "stream",
          "text": [
            "\r",
            " 88%|\u2588\u2588\u2588\u2588\u2588\u2588\u2588\u2588\u258a | 440/501 [01:50<00:15,  4.05it/s]"
          ]
        },
        {
          "name": "stderr",
          "output_type": "stream",
          "text": [
            "\r",
            " 88%|\u2588\u2588\u2588\u2588\u2588\u2588\u2588\u2588\u258a | 441/501 [01:51<00:15,  3.87it/s]"
          ]
        },
        {
          "name": "stderr",
          "output_type": "stream",
          "text": [
            "\r",
            " 88%|\u2588\u2588\u2588\u2588\u2588\u2588\u2588\u2588\u258a | 442/501 [01:51<00:14,  3.99it/s]"
          ]
        },
        {
          "name": "stderr",
          "output_type": "stream",
          "text": [
            "\r",
            " 88%|\u2588\u2588\u2588\u2588\u2588\u2588\u2588\u2588\u258a | 443/501 [01:51<00:14,  3.93it/s]"
          ]
        },
        {
          "name": "stderr",
          "output_type": "stream",
          "text": [
            "\r",
            " 89%|\u2588\u2588\u2588\u2588\u2588\u2588\u2588\u2588\u258a | 444/501 [01:51<00:14,  3.95it/s]"
          ]
        },
        {
          "name": "stderr",
          "output_type": "stream",
          "text": [
            "\r",
            " 89%|\u2588\u2588\u2588\u2588\u2588\u2588\u2588\u2588\u2589 | 445/501 [01:52<00:13,  4.06it/s]"
          ]
        },
        {
          "name": "stderr",
          "output_type": "stream",
          "text": [
            "\r",
            " 89%|\u2588\u2588\u2588\u2588\u2588\u2588\u2588\u2588\u2589 | 446/501 [01:52<00:13,  4.08it/s]"
          ]
        },
        {
          "name": "stderr",
          "output_type": "stream",
          "text": [
            "\r",
            " 89%|\u2588\u2588\u2588\u2588\u2588\u2588\u2588\u2588\u2589 | 447/501 [01:52<00:13,  4.10it/s]"
          ]
        },
        {
          "name": "stderr",
          "output_type": "stream",
          "text": [
            "\r",
            " 89%|\u2588\u2588\u2588\u2588\u2588\u2588\u2588\u2588\u2589 | 448/501 [01:52<00:12,  4.12it/s]"
          ]
        },
        {
          "name": "stderr",
          "output_type": "stream",
          "text": [
            "\r",
            " 90%|\u2588\u2588\u2588\u2588\u2588\u2588\u2588\u2588\u2589 | 449/501 [01:53<00:12,  4.12it/s]"
          ]
        },
        {
          "name": "stderr",
          "output_type": "stream",
          "text": [
            "\r",
            " 90%|\u2588\u2588\u2588\u2588\u2588\u2588\u2588\u2588\u2589 | 450/501 [01:53<00:12,  4.16it/s]"
          ]
        },
        {
          "name": "stderr",
          "output_type": "stream",
          "text": [
            "\r",
            " 90%|\u2588\u2588\u2588\u2588\u2588\u2588\u2588\u2588\u2588 | 451/501 [01:53<00:11,  4.21it/s]"
          ]
        },
        {
          "name": "stderr",
          "output_type": "stream",
          "text": [
            "\r",
            " 90%|\u2588\u2588\u2588\u2588\u2588\u2588\u2588\u2588\u2588 | 452/501 [01:53<00:11,  4.26it/s]"
          ]
        },
        {
          "name": "stderr",
          "output_type": "stream",
          "text": [
            "\r",
            " 90%|\u2588\u2588\u2588\u2588\u2588\u2588\u2588\u2588\u2588 | 453/501 [01:54<00:11,  4.16it/s]"
          ]
        },
        {
          "name": "stderr",
          "output_type": "stream",
          "text": [
            "\r",
            " 91%|\u2588\u2588\u2588\u2588\u2588\u2588\u2588\u2588\u2588 | 454/501 [01:54<00:11,  4.11it/s]"
          ]
        },
        {
          "name": "stderr",
          "output_type": "stream",
          "text": [
            "\r",
            " 91%|\u2588\u2588\u2588\u2588\u2588\u2588\u2588\u2588\u2588 | 455/501 [01:54<00:11,  3.93it/s]"
          ]
        },
        {
          "name": "stderr",
          "output_type": "stream",
          "text": [
            "\r",
            " 91%|\u2588\u2588\u2588\u2588\u2588\u2588\u2588\u2588\u2588 | 456/501 [01:54<00:11,  3.85it/s]"
          ]
        },
        {
          "name": "stderr",
          "output_type": "stream",
          "text": [
            "\r",
            " 91%|\u2588\u2588\u2588\u2588\u2588\u2588\u2588\u2588\u2588 | 457/501 [01:55<00:10,  4.01it/s]"
          ]
        },
        {
          "name": "stderr",
          "output_type": "stream",
          "text": [
            "\r",
            " 91%|\u2588\u2588\u2588\u2588\u2588\u2588\u2588\u2588\u2588\u258f| 458/501 [01:55<00:10,  4.04it/s]"
          ]
        },
        {
          "name": "stderr",
          "output_type": "stream",
          "text": [
            "\r",
            " 92%|\u2588\u2588\u2588\u2588\u2588\u2588\u2588\u2588\u2588\u258f| 459/501 [01:55<00:10,  4.05it/s]"
          ]
        },
        {
          "name": "stderr",
          "output_type": "stream",
          "text": [
            "\r",
            " 92%|\u2588\u2588\u2588\u2588\u2588\u2588\u2588\u2588\u2588\u258f| 460/501 [01:55<00:09,  4.16it/s]"
          ]
        },
        {
          "name": "stderr",
          "output_type": "stream",
          "text": [
            "\r",
            " 92%|\u2588\u2588\u2588\u2588\u2588\u2588\u2588\u2588\u2588\u258f| 461/501 [01:56<00:09,  4.12it/s]"
          ]
        },
        {
          "name": "stderr",
          "output_type": "stream",
          "text": [
            "\r",
            " 92%|\u2588\u2588\u2588\u2588\u2588\u2588\u2588\u2588\u2588\u258f| 462/501 [01:56<00:09,  4.15it/s]"
          ]
        },
        {
          "name": "stderr",
          "output_type": "stream",
          "text": [
            "\r",
            " 92%|\u2588\u2588\u2588\u2588\u2588\u2588\u2588\u2588\u2588\u258f| 463/501 [01:56<00:09,  4.10it/s]"
          ]
        },
        {
          "name": "stderr",
          "output_type": "stream",
          "text": [
            "\r",
            " 93%|\u2588\u2588\u2588\u2588\u2588\u2588\u2588\u2588\u2588\u258e| 464/501 [01:56<00:09,  4.10it/s]"
          ]
        },
        {
          "name": "stderr",
          "output_type": "stream",
          "text": [
            "\r",
            " 93%|\u2588\u2588\u2588\u2588\u2588\u2588\u2588\u2588\u2588\u258e| 465/501 [01:57<00:08,  4.07it/s]"
          ]
        },
        {
          "name": "stderr",
          "output_type": "stream",
          "text": [
            "\r",
            " 93%|\u2588\u2588\u2588\u2588\u2588\u2588\u2588\u2588\u2588\u258e| 466/501 [01:57<00:08,  4.04it/s]"
          ]
        },
        {
          "name": "stderr",
          "output_type": "stream",
          "text": [
            "\r",
            " 93%|\u2588\u2588\u2588\u2588\u2588\u2588\u2588\u2588\u2588\u258e| 467/501 [01:57<00:08,  4.13it/s]"
          ]
        },
        {
          "name": "stderr",
          "output_type": "stream",
          "text": [
            "\r",
            " 93%|\u2588\u2588\u2588\u2588\u2588\u2588\u2588\u2588\u2588\u258e| 468/501 [01:57<00:07,  4.17it/s]"
          ]
        },
        {
          "name": "stderr",
          "output_type": "stream",
          "text": [
            "\r",
            " 94%|\u2588\u2588\u2588\u2588\u2588\u2588\u2588\u2588\u2588\u258e| 469/501 [01:58<00:07,  4.24it/s]"
          ]
        },
        {
          "name": "stderr",
          "output_type": "stream",
          "text": [
            "\r",
            " 94%|\u2588\u2588\u2588\u2588\u2588\u2588\u2588\u2588\u2588\u258d| 470/501 [01:58<00:07,  4.20it/s]"
          ]
        },
        {
          "name": "stderr",
          "output_type": "stream",
          "text": [
            "\r",
            " 94%|\u2588\u2588\u2588\u2588\u2588\u2588\u2588\u2588\u2588\u258d| 471/501 [01:58<00:07,  4.19it/s]"
          ]
        },
        {
          "name": "stderr",
          "output_type": "stream",
          "text": [
            "\r",
            " 94%|\u2588\u2588\u2588\u2588\u2588\u2588\u2588\u2588\u2588\u258d| 472/501 [01:58<00:07,  4.12it/s]"
          ]
        },
        {
          "name": "stderr",
          "output_type": "stream",
          "text": [
            "\r",
            " 94%|\u2588\u2588\u2588\u2588\u2588\u2588\u2588\u2588\u2588\u258d| 473/501 [01:59<00:06,  4.17it/s]"
          ]
        },
        {
          "name": "stderr",
          "output_type": "stream",
          "text": [
            "\r",
            " 95%|\u2588\u2588\u2588\u2588\u2588\u2588\u2588\u2588\u2588\u258d| 474/501 [01:59<00:06,  4.29it/s]"
          ]
        },
        {
          "name": "stderr",
          "output_type": "stream",
          "text": [
            "\r",
            " 95%|\u2588\u2588\u2588\u2588\u2588\u2588\u2588\u2588\u2588\u258d| 475/501 [01:59<00:06,  4.24it/s]"
          ]
        },
        {
          "name": "stderr",
          "output_type": "stream",
          "text": [
            "\r",
            " 95%|\u2588\u2588\u2588\u2588\u2588\u2588\u2588\u2588\u2588\u258c| 476/501 [01:59<00:05,  4.19it/s]"
          ]
        },
        {
          "name": "stderr",
          "output_type": "stream",
          "text": [
            "\r",
            " 95%|\u2588\u2588\u2588\u2588\u2588\u2588\u2588\u2588\u2588\u258c| 477/501 [01:59<00:05,  4.10it/s]"
          ]
        },
        {
          "name": "stderr",
          "output_type": "stream",
          "text": [
            "\r",
            " 95%|\u2588\u2588\u2588\u2588\u2588\u2588\u2588\u2588\u2588\u258c| 478/501 [02:00<00:05,  4.09it/s]"
          ]
        },
        {
          "name": "stderr",
          "output_type": "stream",
          "text": [
            "\r",
            " 96%|\u2588\u2588\u2588\u2588\u2588\u2588\u2588\u2588\u2588\u258c| 479/501 [02:00<00:05,  4.07it/s]"
          ]
        },
        {
          "name": "stderr",
          "output_type": "stream",
          "text": [
            "\r",
            " 96%|\u2588\u2588\u2588\u2588\u2588\u2588\u2588\u2588\u2588\u258c| 480/501 [02:00<00:05,  4.10it/s]"
          ]
        },
        {
          "name": "stderr",
          "output_type": "stream",
          "text": [
            "\r",
            " 96%|\u2588\u2588\u2588\u2588\u2588\u2588\u2588\u2588\u2588\u258c| 481/501 [02:00<00:04,  4.06it/s]"
          ]
        },
        {
          "name": "stderr",
          "output_type": "stream",
          "text": [
            "\r",
            " 96%|\u2588\u2588\u2588\u2588\u2588\u2588\u2588\u2588\u2588\u258c| 482/501 [02:01<00:04,  4.08it/s]"
          ]
        },
        {
          "name": "stderr",
          "output_type": "stream",
          "text": [
            "\r",
            " 96%|\u2588\u2588\u2588\u2588\u2588\u2588\u2588\u2588\u2588\u258b| 483/501 [02:01<00:04,  3.94it/s]"
          ]
        },
        {
          "name": "stderr",
          "output_type": "stream",
          "text": [
            "\r",
            " 97%|\u2588\u2588\u2588\u2588\u2588\u2588\u2588\u2588\u2588\u258b| 484/501 [02:01<00:04,  4.00it/s]"
          ]
        },
        {
          "name": "stderr",
          "output_type": "stream",
          "text": [
            "\r",
            " 97%|\u2588\u2588\u2588\u2588\u2588\u2588\u2588\u2588\u2588\u258b| 485/501 [02:01<00:03,  4.11it/s]"
          ]
        },
        {
          "name": "stderr",
          "output_type": "stream",
          "text": [
            "\r",
            " 97%|\u2588\u2588\u2588\u2588\u2588\u2588\u2588\u2588\u2588\u258b| 486/501 [02:02<00:03,  4.17it/s]"
          ]
        },
        {
          "name": "stderr",
          "output_type": "stream",
          "text": [
            "\r",
            " 97%|\u2588\u2588\u2588\u2588\u2588\u2588\u2588\u2588\u2588\u258b| 487/501 [02:02<00:03,  4.12it/s]"
          ]
        },
        {
          "name": "stderr",
          "output_type": "stream",
          "text": [
            "\r",
            " 97%|\u2588\u2588\u2588\u2588\u2588\u2588\u2588\u2588\u2588\u258b| 488/501 [02:02<00:03,  4.20it/s]"
          ]
        },
        {
          "name": "stderr",
          "output_type": "stream",
          "text": [
            "\r",
            " 98%|\u2588\u2588\u2588\u2588\u2588\u2588\u2588\u2588\u2588\u258a| 489/501 [02:02<00:02,  4.19it/s]"
          ]
        },
        {
          "name": "stderr",
          "output_type": "stream",
          "text": [
            "\r",
            " 98%|\u2588\u2588\u2588\u2588\u2588\u2588\u2588\u2588\u2588\u258a| 490/501 [02:03<00:02,  4.15it/s]"
          ]
        },
        {
          "name": "stderr",
          "output_type": "stream",
          "text": [
            "\r",
            " 98%|\u2588\u2588\u2588\u2588\u2588\u2588\u2588\u2588\u2588\u258a| 491/501 [02:03<00:02,  4.01it/s]"
          ]
        },
        {
          "name": "stderr",
          "output_type": "stream",
          "text": [
            "\r",
            " 98%|\u2588\u2588\u2588\u2588\u2588\u2588\u2588\u2588\u2588\u258a| 492/501 [02:03<00:02,  4.04it/s]"
          ]
        },
        {
          "name": "stderr",
          "output_type": "stream",
          "text": [
            "\r",
            " 98%|\u2588\u2588\u2588\u2588\u2588\u2588\u2588\u2588\u2588\u258a| 493/501 [02:03<00:01,  4.17it/s]"
          ]
        },
        {
          "name": "stderr",
          "output_type": "stream",
          "text": [
            "\r",
            " 99%|\u2588\u2588\u2588\u2588\u2588\u2588\u2588\u2588\u2588\u258a| 494/501 [02:04<00:01,  4.15it/s]"
          ]
        },
        {
          "name": "stderr",
          "output_type": "stream",
          "text": [
            "\r",
            " 99%|\u2588\u2588\u2588\u2588\u2588\u2588\u2588\u2588\u2588\u2589| 495/501 [02:04<00:01,  4.05it/s]"
          ]
        },
        {
          "name": "stderr",
          "output_type": "stream",
          "text": [
            "\r",
            " 99%|\u2588\u2588\u2588\u2588\u2588\u2588\u2588\u2588\u2588\u2589| 496/501 [02:04<00:01,  4.00it/s]"
          ]
        },
        {
          "name": "stderr",
          "output_type": "stream",
          "text": [
            "\r",
            " 99%|\u2588\u2588\u2588\u2588\u2588\u2588\u2588\u2588\u2588\u2589| 497/501 [02:04<00:01,  3.98it/s]"
          ]
        },
        {
          "name": "stderr",
          "output_type": "stream",
          "text": [
            "\r",
            " 99%|\u2588\u2588\u2588\u2588\u2588\u2588\u2588\u2588\u2588\u2589| 498/501 [02:05<00:00,  3.92it/s]"
          ]
        },
        {
          "name": "stderr",
          "output_type": "stream",
          "text": [
            "\r",
            "100%|\u2588\u2588\u2588\u2588\u2588\u2588\u2588\u2588\u2588\u2589| 499/501 [02:05<00:00,  3.92it/s]"
          ]
        },
        {
          "name": "stderr",
          "output_type": "stream",
          "text": [
            "\r",
            "100%|\u2588\u2588\u2588\u2588\u2588\u2588\u2588\u2588\u2588\u2589| 500/501 [02:05<00:00,  3.93it/s]"
          ]
        },
        {
          "name": "stderr",
          "output_type": "stream",
          "text": [
            "\r",
            "100%|\u2588\u2588\u2588\u2588\u2588\u2588\u2588\u2588\u2588\u2588| 501/501 [02:05<00:00,  3.99it/s]"
          ]
        },
        {
          "name": "stderr",
          "output_type": "stream",
          "text": [
            "\r",
            "100%|\u2588\u2588\u2588\u2588\u2588\u2588\u2588\u2588\u2588\u2588| 501/501 [02:05<00:00,  3.98it/s]"
          ]
        },
        {
          "name": "stdout",
          "output_type": "stream",
          "text": [
            "\n",
            "=========================================================================\n",
            "TIMER REPORT\n",
            "=========================================================================\n",
            "Operation                  No of calls    Avg time [ms]    Total time [s]\n",
            "-----------------------  -------------  ---------------  ----------------\n",
            "MinimizerBB.minimize                 1     10315.2               10.3152\n",
            "    DemagField.h                   695         1.80671            1.25567\n",
            "    ExchangeField.h                695        12.1529             8.44628\n",
            "LLGSolver.step                     501       246.749            123.621\n",
            "    DemagField.h                 76782         0.908857          69.7838\n",
            "    ExchangeField.h              76782         0.167157          12.8347\n",
            "    SpinTorqueZhangLi.h          76782         0.172197          13.2217\n",
            "-----------------------  -------------  ---------------  ----------------\n",
            "Total                                                           136.237\n",
            "Missing                                                           2.30122\n",
            "=========================================================================\n",
            "\n"
          ]
        },
        {
          "name": "stderr",
          "output_type": "stream",
          "text": [
            "\n"
          ]
        }
      ],
      "source": [
        "from magnumnp import *\n",
        "import torch\n",
        "import pathlib\n",
        "from tqdm import tqdm\n",
        "\n",
        "set_log_level(25) # show info_green, but hide info_blue\n",
        "Timer.enable()\n",
        "try:\n",
        "    this_dir = pathlib.Path(__file__).resolve().parent\n",
        "except:\n",
        "    this_dir = pathlib.Path().resolve()\n",
        "\n",
        "# initialize state\n",
        "dt = 1e-11\n",
        "n  = (40, 40, 1)\n",
        "dx = (2.5e-9, 2.5e-9, 10e-9)\n",
        "mesh = Mesh(n, dx)\n",
        "state = State(mesh)\n",
        "\n",
        "state.material = {\n",
        "    \"Ms\": 8e5,\n",
        "    \"A\": 1.3e-11,\n",
        "    \"alpha\": 0.1,\n",
        "    \"xi\": 0.05,\n",
        "    \"b\": 72.17e-12\n",
        "    }\n",
        "\n",
        "# initialize field terms\n",
        "demag    = DemagField()\n",
        "exchange = ExchangeField()\n",
        "torque   = SpinTorqueZhangLi()\n",
        "\n",
        "# initialize magnetization\n",
        "state.m = state.Constant([0,0,0])\n",
        "state.m[:20,:,:,1] = -1.\n",
        "state.m[20:,:,:,1] = 1.\n",
        "state.m[20,20,:,1] = 0.\n",
        "state.m[20,20,:,2] = 1.\n",
        "\n",
        "state.j = state.Constant([1e12, 0, 0])\n",
        "\n",
        "# relax without external field\n",
        "minimizer = MinimizerBB([demag, exchange])\n",
        "minimizer.minimize(state)\n",
        "state.write_vtk(state.m, \"data/m0\")\n",
        "\n",
        "# perform integration with spin torque\n",
        "llg = LLGSolver([demag, exchange, torque])\n",
        "logger = Logger(this_dir / \"data\", ['t', 'm'])\n",
        "\n",
        "for i in tqdm(torch.arange(0, 5e-9, dt)):\n",
        "    llg.step(state, dt)\n",
        "    logger << state\n",
        "\n",
        "Timer.print_report()"
      ]
    },
    {
      "cell_type": "markdown",
      "id": "4eccfc9d",
      "metadata": {},
      "source": [
        "## Plot Results"
      ]
    },
    {
      "cell_type": "code",
      "execution_count": 3,
      "id": "de8d06d3",
      "metadata": {
        "execution": {
          "iopub.execute_input": "2024-11-06T13:53:11.917261Z",
          "iopub.status.busy": "2024-11-06T13:53:11.916872Z",
          "iopub.status.idle": "2024-11-06T13:53:12.330531Z",
          "shell.execute_reply": "2024-11-06T13:53:12.329564Z"
        }
      },
      "outputs": [
        {
          "data": {
            "image/png": "[encoded data removed]",
            "text/plain": [
              "<Figure size 1500x500 with 1 Axes>"
            ]
          },
          "metadata": {},
          "output_type": "display_data"
        }
      ],
      "source": [
        "import numpy as np\n",
        "import matplotlib.pyplot as plt\n",
        "\n",
        "data = np.loadtxt(\"data/log.dat\")\n",
        "ref = np.loadtxt(\"ref/m.dat\")\n",
        "\n",
        "fig, ax = plt.subplots(figsize=(15,5))\n",
        "cycle = plt.rcParams['axes.prop_cycle'].by_key()['color']\n",
        "\n",
        "ax.plot(data[:,0]*1e9, data[:,1], '-', color = cycle[0], label = \"magnum.np - x\")\n",
        "ax.plot(ref[:,0]*1e9, ref[:,1], '-', color = cycle[0], linewidth = 6, alpha = 0.4, label = \"reference - x\")\n",
        "\n",
        "ax.plot(data[:,0]*1e9, data[:,2], '-', color = cycle[1], label = \"magnum.np - y\")\n",
        "ax.plot(ref[:,0]*1e9, ref[:,2], '-', color = cycle[1], linewidth = 6, alpha = 0.4, label = \"reference - y\")\n",
        "\n",
        "ax.plot(data[:,0]*1e9, data[:,3], '-', color = cycle[2], label = \"magnum.np - z\")\n",
        "ax.plot(ref[:,0]*1e9, ref[:,3], '-', color = cycle[2], linewidth = 6, alpha = 0.4, label = \"reference - z\")\n",
        "\n",
        "ax.set_xlim([0,5])\n",
        "ax.set_title(\"Standard Problem #5\")\n",
        "ax.set_xlabel(\"Time t[ns]\")\n",
        "ax.set_ylabel(\"Magnetization $m$\")\n",
        "ax.legend(ncol=3)\n",
        "ax.grid()\n",
        "fig.savefig(\"data/results.png\")"
      ]
    }
  ],
  "metadata": {
    "jupytext": {
      "cell_metadata_filter": "-all"
    },
    "kernelspec": {
      "display_name": "Python 3 (ipykernel)",
      "language": "python",
      "name": "python3"
    },
    "language_info": {
      "codemirror_mode": {
        "name": "ipython",
        "version": 3
      },
      "file_extension": ".py",
      "mimetype": "text/x-python",
      "name": "python",
      "nbconvert_exporter": "python",
      "pygments_lexer": "ipython3",
      "version": "3.10.15"
    },
    "colab": {
      "gpuType": "T4"
    },
    "accelerator": "GPU"
  },
  "nbformat": 4,
  "nbformat_minor": 5
}