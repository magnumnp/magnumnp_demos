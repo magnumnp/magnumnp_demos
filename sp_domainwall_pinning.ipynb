{
 "cells": [
  {
   "cell_type": "markdown",
   "id": "3a652a0b",
   "metadata": {},
   "source": [
    "This jupyter-notebook has be created with 'jupytext'.\n",
    "\n",
    "Use this [Link](https://colab.research.google.com/github/magnumnp/magnumnp_demos/blob/main/sp_domainwall_pinning.ipynb) to directly open the Notebook in Google Colab."
   ]
  },
  {
   "cell_type": "markdown",
   "id": "fa6dd0f1",
   "metadata": {},
   "source": [
    "## Install magnum.np and fetch reference data (required for Colab)"
   ]
  },
  {
   "cell_type": "code",
   "execution_count": 1,
   "id": "52ef8317",
   "metadata": {
    "execution": {
     "iopub.execute_input": "2025-03-06T11:51:39.517860Z",
     "iopub.status.busy": "2025-03-06T11:51:39.517223Z",
     "iopub.status.idle": "2025-03-06T11:51:40.466647Z",
     "shell.execute_reply": "2025-03-06T11:51:40.465796Z"
    },
    "lines_to_next_cell": 0
   },
   "outputs": [
    {
     "name": "stdout",
     "output_type": "stream",
     "text": [
      "\u001b[33mWARNING: Running pip as the 'root' user can result in broken permissions and conflicting behaviour with the system package manager, possibly rendering your system unusable. It is recommended to use a virtual environment instead: https://pip.pypa.io/warnings/venv. Use the --root-user-action option if you know what you are doing and want to suppress this warning.\u001b[0m\u001b[33m\r\n",
      "\u001b[0m"
     ]
    }
   ],
   "source": [
    "!pip install -q triton magnumnp\n",
    "from os import path\n",
    "if not path.isdir(\"ref\"):\n",
    "    !mkdir ref\n",
    "    !wget -P ref https://gitlab.com/magnum.np/magnum.np/raw/main/demos/sp_domainwall_pinning/ref/m.dat &> /dev/null"
   ]
  },
  {
   "cell_type": "markdown",
   "id": "6f87f62a",
   "metadata": {},
   "source": [
    "# Domainwall Pinning Standard Problem"
   ]
  },
  {
   "cell_type": "markdown",
   "id": "288762c5",
   "metadata": {},
   "source": [
    "## Run Simulation"
   ]
  },
  {
   "cell_type": "code",
   "execution_count": 2,
   "id": "f47bd04d",
   "metadata": {
    "execution": {
     "iopub.execute_input": "2025-03-06T11:51:40.469824Z",
     "iopub.status.busy": "2025-03-06T11:51:40.469586Z",
     "iopub.status.idle": "2025-03-06T11:51:59.711539Z",
     "shell.execute_reply": "2025-03-06T11:51:59.710819Z"
    },
    "lines_to_next_cell": 0
   },
   "outputs": [
    {
     "name": "stderr",
     "output_type": "stream",
     "text": [
      "2025-03-06 11:51:45  magnum.np:INFO \u001b[1;37;32mmagnum.np 2.0.2 (/usr/local/lib/python3.10/site-packages/ipykernel_launcher.py -f /tmp/tmpq0o0p5aw.json --HistoryManager.hist_file=:memory:)\u001b[0m\n"
     ]
    },
    {
     "name": "stderr",
     "output_type": "stream",
     "text": [
      "2025-03-06 11:51:45  magnum.np:INFO \u001b[1;37;32m[State] running on device: cpu (dtype = float64)\u001b[0m\n"
     ]
    },
    {
     "name": "stderr",
     "output_type": "stream",
     "text": [
      "2025-03-06 11:51:45  magnum.np:INFO \u001b[1;37;32m[Mesh] 80x1x1 (dx= 1e-09 x 1e-09 x 1e-09)\u001b[0m\n"
     ]
    },
    {
     "name": "stderr",
     "output_type": "stream",
     "text": [
      "\r",
      "  0%|          | 0/100 [00:00<?, ?it/s]"
     ]
    },
    {
     "name": "stderr",
     "output_type": "stream",
     "text": [
      "2025-03-06 11:51:56  magnum.np:INFO \u001b[1;37;32m[MinimizerBB] Successfully converged (iter=103, dm_tol = 1)\u001b[0m\n"
     ]
    },
    {
     "name": "stderr",
     "output_type": "stream",
     "text": [
      "\r",
      "  1%|          | 1/100 [00:11<18:10, 11.02s/it]"
     ]
    },
    {
     "name": "stderr",
     "output_type": "stream",
     "text": [
      "2025-03-06 11:51:56  magnum.np:INFO \u001b[1;37;32m[MinimizerBB] Successfully converged (iter=56, dm_tol = 1)\u001b[0m\n"
     ]
    },
    {
     "name": "stderr",
     "output_type": "stream",
     "text": [
      "2025-03-06 11:51:56  magnum.np:INFO \u001b[1;37;32m[MinimizerBB] Successfully converged (iter=59, dm_tol = 1)\u001b[0m\n"
     ]
    },
    {
     "name": "stderr",
     "output_type": "stream",
     "text": [
      "2025-03-06 11:51:56  magnum.np:INFO \u001b[1;37;32m[MinimizerBB] Successfully converged (iter=55, dm_tol = 1)\u001b[0m\n"
     ]
    },
    {
     "name": "stderr",
     "output_type": "stream",
     "text": [
      "\r",
      "  4%|▍         | 4/100 [00:11<03:23,  2.12s/it]"
     ]
    },
    {
     "name": "stderr",
     "output_type": "stream",
     "text": [
      "2025-03-06 11:51:56  magnum.np:INFO \u001b[1;37;32m[MinimizerBB] Successfully converged (iter=54, dm_tol = 1)\u001b[0m\n"
     ]
    },
    {
     "name": "stderr",
     "output_type": "stream",
     "text": [
      "2025-03-06 11:51:56  magnum.np:INFO \u001b[1;37;32m[MinimizerBB] Successfully converged (iter=53, dm_tol = 1)\u001b[0m\n"
     ]
    },
    {
     "name": "stderr",
     "output_type": "stream",
     "text": [
      "2025-03-06 11:51:56  magnum.np:INFO \u001b[1;37;32m[MinimizerBB] Successfully converged (iter=57, dm_tol = 1)\u001b[0m\n"
     ]
    },
    {
     "name": "stderr",
     "output_type": "stream",
     "text": [
      "\r",
      "  7%|▋         | 7/100 [00:11<01:33,  1.01s/it]"
     ]
    },
    {
     "name": "stderr",
     "output_type": "stream",
     "text": [
      "2025-03-06 11:51:56  magnum.np:INFO \u001b[1;37;32m[MinimizerBB] Successfully converged (iter=63, dm_tol = 1)\u001b[0m\n"
     ]
    },
    {
     "name": "stderr",
     "output_type": "stream",
     "text": [
      "2025-03-06 11:51:56  magnum.np:INFO \u001b[1;37;32m[MinimizerBB] Successfully converged (iter=62, dm_tol = 1)\u001b[0m\n"
     ]
    },
    {
     "name": "stderr",
     "output_type": "stream",
     "text": [
      "2025-03-06 11:51:56  magnum.np:INFO \u001b[1;37;32m[MinimizerBB] Successfully converged (iter=87, dm_tol = 1)\u001b[0m\n"
     ]
    },
    {
     "name": "stderr",
     "output_type": "stream",
     "text": [
      "\r",
      " 10%|█         | 10/100 [00:11<00:53,  1.67it/s]"
     ]
    },
    {
     "name": "stderr",
     "output_type": "stream",
     "text": [
      "2025-03-06 11:51:56  magnum.np:INFO \u001b[1;37;32m[MinimizerBB] Successfully converged (iter=64, dm_tol = 1)\u001b[0m\n"
     ]
    },
    {
     "name": "stderr",
     "output_type": "stream",
     "text": [
      "2025-03-06 11:51:56  magnum.np:INFO \u001b[1;37;32m[MinimizerBB] Successfully converged (iter=61, dm_tol = 1)\u001b[0m\n"
     ]
    },
    {
     "name": "stderr",
     "output_type": "stream",
     "text": [
      "\r",
      " 12%|█▏        | 12/100 [00:11<00:38,  2.28it/s]"
     ]
    },
    {
     "name": "stderr",
     "output_type": "stream",
     "text": [
      "2025-03-06 11:51:56  magnum.np:INFO \u001b[1;37;32m[MinimizerBB] Successfully converged (iter=52, dm_tol = 1)\u001b[0m\n"
     ]
    },
    {
     "name": "stderr",
     "output_type": "stream",
     "text": [
      "2025-03-06 11:51:56  magnum.np:INFO \u001b[1;37;32m[MinimizerBB] Successfully converged (iter=55, dm_tol = 1)\u001b[0m\n"
     ]
    },
    {
     "name": "stderr",
     "output_type": "stream",
     "text": [
      "2025-03-06 11:51:56  magnum.np:INFO \u001b[1;37;32m[MinimizerBB] Successfully converged (iter=71, dm_tol = 1)\u001b[0m\n"
     ]
    },
    {
     "name": "stderr",
     "output_type": "stream",
     "text": [
      "\r",
      " 15%|█▌        | 15/100 [00:11<00:24,  3.45it/s]"
     ]
    },
    {
     "name": "stderr",
     "output_type": "stream",
     "text": [
      "2025-03-06 11:51:57  magnum.np:INFO \u001b[1;37;32m[MinimizerBB] Successfully converged (iter=51, dm_tol = 1)\u001b[0m\n"
     ]
    },
    {
     "name": "stderr",
     "output_type": "stream",
     "text": [
      "2025-03-06 11:51:57  magnum.np:INFO \u001b[1;37;32m[MinimizerBB] Successfully converged (iter=55, dm_tol = 1)\u001b[0m\n"
     ]
    },
    {
     "name": "stderr",
     "output_type": "stream",
     "text": [
      "2025-03-06 11:51:57  magnum.np:INFO \u001b[1;37;32m[MinimizerBB] Successfully converged (iter=63, dm_tol = 1)\u001b[0m\n"
     ]
    },
    {
     "name": "stderr",
     "output_type": "stream",
     "text": [
      "\r",
      " 18%|█▊        | 18/100 [00:11<00:16,  4.88it/s]"
     ]
    },
    {
     "name": "stderr",
     "output_type": "stream",
     "text": [
      "2025-03-06 11:51:57  magnum.np:INFO \u001b[1;37;32m[MinimizerBB] Successfully converged (iter=63, dm_tol = 1)\u001b[0m\n"
     ]
    },
    {
     "name": "stderr",
     "output_type": "stream",
     "text": [
      "2025-03-06 11:51:57  magnum.np:INFO \u001b[1;37;32m[MinimizerBB] Successfully converged (iter=61, dm_tol = 1)\u001b[0m\n"
     ]
    },
    {
     "name": "stderr",
     "output_type": "stream",
     "text": [
      "\r",
      " 20%|██        | 20/100 [00:12<00:13,  6.00it/s]"
     ]
    },
    {
     "name": "stderr",
     "output_type": "stream",
     "text": [
      "2025-03-06 11:51:57  magnum.np:INFO \u001b[1;37;32m[MinimizerBB] Successfully converged (iter=57, dm_tol = 1)\u001b[0m\n"
     ]
    },
    {
     "name": "stderr",
     "output_type": "stream",
     "text": [
      "2025-03-06 11:51:57  magnum.np:INFO \u001b[1;37;32m[MinimizerBB] Successfully converged (iter=85, dm_tol = 1)\u001b[0m\n"
     ]
    },
    {
     "name": "stderr",
     "output_type": "stream",
     "text": [
      "\r",
      " 22%|██▏       | 22/100 [00:12<00:10,  7.19it/s]"
     ]
    },
    {
     "name": "stderr",
     "output_type": "stream",
     "text": [
      "2025-03-06 11:51:57  magnum.np:INFO \u001b[1;37;32m[MinimizerBB] Successfully converged (iter=51, dm_tol = 1)\u001b[0m\n"
     ]
    },
    {
     "name": "stderr",
     "output_type": "stream",
     "text": [
      "2025-03-06 11:51:57  magnum.np:INFO \u001b[1;37;32m[MinimizerBB] Successfully converged (iter=72, dm_tol = 1)\u001b[0m\n"
     ]
    },
    {
     "name": "stderr",
     "output_type": "stream",
     "text": [
      "\r",
      " 24%|██▍       | 24/100 [00:12<00:08,  8.68it/s]"
     ]
    },
    {
     "name": "stderr",
     "output_type": "stream",
     "text": [
      "2025-03-06 11:51:57  magnum.np:INFO \u001b[1;37;32m[MinimizerBB] Successfully converged (iter=76, dm_tol = 1)\u001b[0m\n"
     ]
    },
    {
     "name": "stderr",
     "output_type": "stream",
     "text": [
      "2025-03-06 11:51:57  magnum.np:INFO \u001b[1;37;32m[MinimizerBB] Successfully converged (iter=71, dm_tol = 1)\u001b[0m\n"
     ]
    },
    {
     "name": "stderr",
     "output_type": "stream",
     "text": [
      "\r",
      " 26%|██▌       | 26/100 [00:12<00:07,  9.90it/s]"
     ]
    },
    {
     "name": "stderr",
     "output_type": "stream",
     "text": [
      "2025-03-06 11:51:57  magnum.np:INFO \u001b[1;37;32m[MinimizerBB] Successfully converged (iter=72, dm_tol = 1)\u001b[0m\n"
     ]
    },
    {
     "name": "stderr",
     "output_type": "stream",
     "text": [
      "2025-03-06 11:51:57  magnum.np:INFO \u001b[1;37;32m[MinimizerBB] Successfully converged (iter=83, dm_tol = 1)\u001b[0m\n"
     ]
    },
    {
     "name": "stderr",
     "output_type": "stream",
     "text": [
      "\r",
      " 28%|██▊       | 28/100 [00:12<00:06, 10.91it/s]"
     ]
    },
    {
     "name": "stderr",
     "output_type": "stream",
     "text": [
      "2025-03-06 11:51:57  magnum.np:INFO \u001b[1;37;32m[MinimizerBB] Successfully converged (iter=87, dm_tol = 1)\u001b[0m\n"
     ]
    },
    {
     "name": "stderr",
     "output_type": "stream",
     "text": [
      "2025-03-06 11:51:57  magnum.np:INFO \u001b[1;37;32m[MinimizerBB] Successfully converged (iter=114, dm_tol = 1)\u001b[0m\n"
     ]
    },
    {
     "name": "stderr",
     "output_type": "stream",
     "text": [
      "\r",
      " 30%|███       | 30/100 [00:12<00:06, 11.22it/s]"
     ]
    },
    {
     "name": "stderr",
     "output_type": "stream",
     "text": [
      "2025-03-06 11:51:57  magnum.np:INFO \u001b[1;37;32m[MinimizerBB] Successfully converged (iter=79, dm_tol = 1)\u001b[0m\n"
     ]
    },
    {
     "name": "stderr",
     "output_type": "stream",
     "text": [
      "2025-03-06 11:51:58  magnum.np:INFO \u001b[1;37;32m[MinimizerBB] Successfully converged (iter=114, dm_tol = 1)\u001b[0m\n"
     ]
    },
    {
     "name": "stderr",
     "output_type": "stream",
     "text": [
      "\r",
      " 32%|███▏      | 32/100 [00:12<00:05, 11.56it/s]"
     ]
    },
    {
     "name": "stderr",
     "output_type": "stream",
     "text": [
      "2025-03-06 11:51:58  magnum.np:INFO \u001b[1;37;32m[MinimizerBB] Successfully converged (iter=88, dm_tol = 1)\u001b[0m\n"
     ]
    },
    {
     "name": "stderr",
     "output_type": "stream",
     "text": [
      "2025-03-06 11:51:58  magnum.np:INFO \u001b[1;37;32m[MinimizerBB] Successfully converged (iter=97, dm_tol = 1)\u001b[0m\n"
     ]
    },
    {
     "name": "stderr",
     "output_type": "stream",
     "text": [
      "\r",
      " 34%|███▍      | 34/100 [00:12<00:05, 11.85it/s]"
     ]
    },
    {
     "name": "stderr",
     "output_type": "stream",
     "text": [
      "2025-03-06 11:51:58  magnum.np:INFO \u001b[1;37;32m[MinimizerBB] Successfully converged (iter=96, dm_tol = 1)\u001b[0m\n"
     ]
    },
    {
     "name": "stderr",
     "output_type": "stream",
     "text": [
      "2025-03-06 11:51:58  magnum.np:INFO \u001b[1;37;32m[MinimizerBB] Successfully converged (iter=103, dm_tol = 1)\u001b[0m\n"
     ]
    },
    {
     "name": "stderr",
     "output_type": "stream",
     "text": [
      "\r",
      " 36%|███▌      | 36/100 [00:13<00:05, 11.84it/s]"
     ]
    },
    {
     "name": "stderr",
     "output_type": "stream",
     "text": [
      "2025-03-06 11:51:58  magnum.np:INFO \u001b[1;37;32m[MinimizerBB] Successfully converged (iter=89, dm_tol = 1)\u001b[0m\n"
     ]
    },
    {
     "name": "stderr",
     "output_type": "stream",
     "text": [
      "2025-03-06 11:51:58  magnum.np:INFO \u001b[1;37;32m[MinimizerBB] Successfully converged (iter=100, dm_tol = 1)\u001b[0m\n"
     ]
    },
    {
     "name": "stderr",
     "output_type": "stream",
     "text": [
      "\r",
      " 38%|███▊      | 38/100 [00:13<00:05, 12.04it/s]"
     ]
    },
    {
     "name": "stderr",
     "output_type": "stream",
     "text": [
      "2025-03-06 11:51:58  magnum.np:INFO \u001b[1;37;32m[MinimizerBB] Successfully converged (iter=132, dm_tol = 1)\u001b[0m\n"
     ]
    },
    {
     "name": "stderr",
     "output_type": "stream",
     "text": [
      "2025-03-06 11:51:58  magnum.np:INFO \u001b[1;37;32m[MinimizerBB] Successfully converged (iter=118, dm_tol = 1)\u001b[0m\n"
     ]
    },
    {
     "name": "stderr",
     "output_type": "stream",
     "text": [
      "\r",
      " 40%|████      | 40/100 [00:13<00:05, 11.26it/s]"
     ]
    },
    {
     "name": "stderr",
     "output_type": "stream",
     "text": [
      "2025-03-06 11:51:58  magnum.np:INFO \u001b[1;37;32m[MinimizerBB] Successfully converged (iter=88, dm_tol = 1)\u001b[0m\n"
     ]
    },
    {
     "name": "stderr",
     "output_type": "stream",
     "text": [
      "2025-03-06 11:51:58  magnum.np:INFO \u001b[1;37;32m[MinimizerBB] Successfully converged (iter=108, dm_tol = 1)\u001b[0m\n"
     ]
    },
    {
     "name": "stderr",
     "output_type": "stream",
     "text": [
      "\r",
      " 42%|████▏     | 42/100 [00:13<00:05, 11.54it/s]"
     ]
    },
    {
     "name": "stderr",
     "output_type": "stream",
     "text": [
      "2025-03-06 11:51:59  magnum.np:INFO \u001b[1;37;32m[MinimizerBB] Successfully converged (iter=154, dm_tol = 1)\u001b[0m\n"
     ]
    },
    {
     "name": "stderr",
     "output_type": "stream",
     "text": [
      "2025-03-06 11:51:59  magnum.np:INFO \u001b[1;37;32m[MinimizerBB] Successfully converged (iter=269, dm_tol = 1)\u001b[0m\n"
     ]
    },
    {
     "name": "stderr",
     "output_type": "stream",
     "text": [
      "\r",
      " 44%|████▍     | 44/100 [00:14<00:06,  8.99it/s]"
     ]
    },
    {
     "name": "stderr",
     "output_type": "stream",
     "text": [
      "2025-03-06 11:51:59  magnum.np:INFO \u001b[1;37;32m[MinimizerBB] Successfully converged (iter=306, dm_tol = 1)\u001b[0m\n"
     ]
    },
    {
     "name": "stderr",
     "output_type": "stream",
     "text": [
      "2025-03-06 11:51:59  magnum.np:INFO \u001b[1;37;32m[MinimizerBB] Successfully converged (iter=0, dm_tol = 1)\u001b[0m\n"
     ]
    },
    {
     "name": "stderr",
     "output_type": "stream",
     "text": [
      "\r",
      " 46%|████▌     | 46/100 [00:14<00:06,  8.64it/s]"
     ]
    },
    {
     "name": "stderr",
     "output_type": "stream",
     "text": [
      "2025-03-06 11:51:59  magnum.np:INFO \u001b[1;37;32m[MinimizerBB] Successfully converged (iter=0, dm_tol = 1)\u001b[0m\n"
     ]
    },
    {
     "name": "stderr",
     "output_type": "stream",
     "text": [
      "2025-03-06 11:51:59  magnum.np:INFO \u001b[1;37;32m[MinimizerBB] Successfully converged (iter=0, dm_tol = 1)\u001b[0m\n"
     ]
    },
    {
     "name": "stderr",
     "output_type": "stream",
     "text": [
      "2025-03-06 11:51:59  magnum.np:INFO \u001b[1;37;32m[MinimizerBB] Successfully converged (iter=0, dm_tol = 1)\u001b[0m\n"
     ]
    },
    {
     "name": "stderr",
     "output_type": "stream",
     "text": [
      "2025-03-06 11:51:59  magnum.np:INFO \u001b[1;37;32m[MinimizerBB] Successfully converged (iter=0, dm_tol = 1)\u001b[0m\n"
     ]
    },
    {
     "name": "stderr",
     "output_type": "stream",
     "text": [
      "2025-03-06 11:51:59  magnum.np:INFO \u001b[1;37;32m[MinimizerBB] Successfully converged (iter=0, dm_tol = 1)\u001b[0m\n"
     ]
    },
    {
     "name": "stderr",
     "output_type": "stream",
     "text": [
      "2025-03-06 11:51:59  magnum.np:INFO \u001b[1;37;32m[MinimizerBB] Successfully converged (iter=0, dm_tol = 1)\u001b[0m\n"
     ]
    },
    {
     "name": "stderr",
     "output_type": "stream",
     "text": [
      "2025-03-06 11:51:59  magnum.np:INFO \u001b[1;37;32m[MinimizerBB] Successfully converged (iter=0, dm_tol = 1)\u001b[0m\n"
     ]
    },
    {
     "name": "stderr",
     "output_type": "stream",
     "text": [
      "2025-03-06 11:51:59  magnum.np:INFO \u001b[1;37;32m[MinimizerBB] Successfully converged (iter=0, dm_tol = 1)\u001b[0m\n"
     ]
    },
    {
     "name": "stderr",
     "output_type": "stream",
     "text": [
      "2025-03-06 11:51:59  magnum.np:INFO \u001b[1;37;32m[MinimizerBB] Successfully converged (iter=0, dm_tol = 1)\u001b[0m\n"
     ]
    },
    {
     "name": "stderr",
     "output_type": "stream",
     "text": [
      "2025-03-06 11:51:59  magnum.np:INFO \u001b[1;37;32m[MinimizerBB] Successfully converged (iter=0, dm_tol = 1)\u001b[0m\n"
     ]
    },
    {
     "name": "stderr",
     "output_type": "stream",
     "text": [
      "2025-03-06 11:51:59  magnum.np:INFO \u001b[1;37;32m[MinimizerBB] Successfully converged (iter=0, dm_tol = 1)\u001b[0m\n"
     ]
    },
    {
     "name": "stderr",
     "output_type": "stream",
     "text": [
      "2025-03-06 11:51:59  magnum.np:INFO \u001b[1;37;32m[MinimizerBB] Successfully converged (iter=0, dm_tol = 1)\u001b[0m\n"
     ]
    },
    {
     "name": "stderr",
     "output_type": "stream",
     "text": [
      "2025-03-06 11:51:59  magnum.np:INFO \u001b[1;37;32m[MinimizerBB] Successfully converged (iter=0, dm_tol = 1)\u001b[0m\n"
     ]
    },
    {
     "name": "stderr",
     "output_type": "stream",
     "text": [
      "2025-03-06 11:51:59  magnum.np:INFO \u001b[1;37;32m[MinimizerBB] Successfully converged (iter=0, dm_tol = 1)\u001b[0m\n"
     ]
    },
    {
     "name": "stderr",
     "output_type": "stream",
     "text": [
      "2025-03-06 11:51:59  magnum.np:INFO \u001b[1;37;32m[MinimizerBB] Successfully converged (iter=0, dm_tol = 1)\u001b[0m\n"
     ]
    },
    {
     "name": "stderr",
     "output_type": "stream",
     "text": [
      "2025-03-06 11:51:59  magnum.np:INFO \u001b[1;37;32m[MinimizerBB] Successfully converged (iter=0, dm_tol = 1)\u001b[0m\n"
     ]
    },
    {
     "name": "stderr",
     "output_type": "stream",
     "text": [
      "2025-03-06 11:51:59  magnum.np:INFO \u001b[1;37;32m[MinimizerBB] Successfully converged (iter=0, dm_tol = 1)\u001b[0m\n"
     ]
    },
    {
     "name": "stderr",
     "output_type": "stream",
     "text": [
      "2025-03-06 11:51:59  magnum.np:INFO \u001b[1;37;32m[MinimizerBB] Successfully converged (iter=0, dm_tol = 1)\u001b[0m\n"
     ]
    },
    {
     "name": "stderr",
     "output_type": "stream",
     "text": [
      "2025-03-06 11:51:59  magnum.np:INFO \u001b[1;37;32m[MinimizerBB] Successfully converged (iter=0, dm_tol = 1)\u001b[0m\n"
     ]
    },
    {
     "name": "stderr",
     "output_type": "stream",
     "text": [
      "2025-03-06 11:51:59  magnum.np:INFO \u001b[1;37;32m[MinimizerBB] Successfully converged (iter=0, dm_tol = 1)\u001b[0m\n"
     ]
    },
    {
     "name": "stderr",
     "output_type": "stream",
     "text": [
      "2025-03-06 11:51:59  magnum.np:INFO \u001b[1;37;32m[MinimizerBB] Successfully converged (iter=0, dm_tol = 1)\u001b[0m\n"
     ]
    },
    {
     "name": "stderr",
     "output_type": "stream",
     "text": [
      "2025-03-06 11:51:59  magnum.np:INFO \u001b[1;37;32m[MinimizerBB] Successfully converged (iter=0, dm_tol = 1)\u001b[0m\n"
     ]
    },
    {
     "name": "stderr",
     "output_type": "stream",
     "text": [
      "2025-03-06 11:51:59  magnum.np:INFO \u001b[1;37;32m[MinimizerBB] Successfully converged (iter=0, dm_tol = 1)\u001b[0m\n"
     ]
    },
    {
     "name": "stderr",
     "output_type": "stream",
     "text": [
      "2025-03-06 11:51:59  magnum.np:INFO \u001b[1;37;32m[MinimizerBB] Successfully converged (iter=0, dm_tol = 1)\u001b[0m\n"
     ]
    },
    {
     "name": "stderr",
     "output_type": "stream",
     "text": [
      "2025-03-06 11:51:59  magnum.np:INFO \u001b[1;37;32m[MinimizerBB] Successfully converged (iter=0, dm_tol = 1)\u001b[0m\n"
     ]
    },
    {
     "name": "stderr",
     "output_type": "stream",
     "text": [
      "2025-03-06 11:51:59  magnum.np:INFO \u001b[1;37;32m[MinimizerBB] Successfully converged (iter=0, dm_tol = 1)\u001b[0m\n"
     ]
    },
    {
     "name": "stderr",
     "output_type": "stream",
     "text": [
      "2025-03-06 11:51:59  magnum.np:INFO \u001b[1;37;32m[MinimizerBB] Successfully converged (iter=0, dm_tol = 1)\u001b[0m\n"
     ]
    },
    {
     "name": "stderr",
     "output_type": "stream",
     "text": [
      "\r",
      " 73%|███████▎  | 73/100 [00:14<00:00, 49.20it/s]"
     ]
    },
    {
     "name": "stderr",
     "output_type": "stream",
     "text": [
      "2025-03-06 11:51:59  magnum.np:INFO \u001b[1;37;32m[MinimizerBB] Successfully converged (iter=0, dm_tol = 1)\u001b[0m\n"
     ]
    },
    {
     "name": "stderr",
     "output_type": "stream",
     "text": [
      "2025-03-06 11:51:59  magnum.np:INFO \u001b[1;37;32m[MinimizerBB] Successfully converged (iter=0, dm_tol = 1)\u001b[0m\n"
     ]
    },
    {
     "name": "stderr",
     "output_type": "stream",
     "text": [
      "2025-03-06 11:51:59  magnum.np:INFO \u001b[1;37;32m[MinimizerBB] Successfully converged (iter=0, dm_tol = 1)\u001b[0m\n"
     ]
    },
    {
     "name": "stderr",
     "output_type": "stream",
     "text": [
      "2025-03-06 11:51:59  magnum.np:INFO \u001b[1;37;32m[MinimizerBB] Successfully converged (iter=0, dm_tol = 1)\u001b[0m\n"
     ]
    },
    {
     "name": "stderr",
     "output_type": "stream",
     "text": [
      "2025-03-06 11:51:59  magnum.np:INFO \u001b[1;37;32m[MinimizerBB] Successfully converged (iter=0, dm_tol = 1)\u001b[0m\n"
     ]
    },
    {
     "name": "stderr",
     "output_type": "stream",
     "text": [
      "2025-03-06 11:51:59  magnum.np:INFO \u001b[1;37;32m[MinimizerBB] Successfully converged (iter=0, dm_tol = 1)\u001b[0m\n"
     ]
    },
    {
     "name": "stderr",
     "output_type": "stream",
     "text": [
      "2025-03-06 11:51:59  magnum.np:INFO \u001b[1;37;32m[MinimizerBB] Successfully converged (iter=0, dm_tol = 1)\u001b[0m\n"
     ]
    },
    {
     "name": "stderr",
     "output_type": "stream",
     "text": [
      "2025-03-06 11:51:59  magnum.np:INFO \u001b[1;37;32m[MinimizerBB] Successfully converged (iter=0, dm_tol = 1)\u001b[0m\n"
     ]
    },
    {
     "name": "stderr",
     "output_type": "stream",
     "text": [
      "2025-03-06 11:51:59  magnum.np:INFO \u001b[1;37;32m[MinimizerBB] Successfully converged (iter=0, dm_tol = 1)\u001b[0m\n"
     ]
    },
    {
     "name": "stderr",
     "output_type": "stream",
     "text": [
      "2025-03-06 11:51:59  magnum.np:INFO \u001b[1;37;32m[MinimizerBB] Successfully converged (iter=0, dm_tol = 1)\u001b[0m\n"
     ]
    },
    {
     "name": "stderr",
     "output_type": "stream",
     "text": [
      "2025-03-06 11:51:59  magnum.np:INFO \u001b[1;37;32m[MinimizerBB] Successfully converged (iter=0, dm_tol = 1)\u001b[0m\n"
     ]
    },
    {
     "name": "stderr",
     "output_type": "stream",
     "text": [
      "2025-03-06 11:51:59  magnum.np:INFO \u001b[1;37;32m[MinimizerBB] Successfully converged (iter=0, dm_tol = 1)\u001b[0m\n"
     ]
    },
    {
     "name": "stderr",
     "output_type": "stream",
     "text": [
      "2025-03-06 11:51:59  magnum.np:INFO \u001b[1;37;32m[MinimizerBB] Successfully converged (iter=0, dm_tol = 1)\u001b[0m\n"
     ]
    },
    {
     "name": "stderr",
     "output_type": "stream",
     "text": [
      "2025-03-06 11:51:59  magnum.np:INFO \u001b[1;37;32m[MinimizerBB] Successfully converged (iter=0, dm_tol = 1)\u001b[0m\n"
     ]
    },
    {
     "name": "stderr",
     "output_type": "stream",
     "text": [
      "2025-03-06 11:51:59  magnum.np:INFO \u001b[1;37;32m[MinimizerBB] Successfully converged (iter=0, dm_tol = 1)\u001b[0m\n"
     ]
    },
    {
     "name": "stderr",
     "output_type": "stream",
     "text": [
      "2025-03-06 11:51:59  magnum.np:INFO \u001b[1;37;32m[MinimizerBB] Successfully converged (iter=0, dm_tol = 1)\u001b[0m\n"
     ]
    },
    {
     "name": "stderr",
     "output_type": "stream",
     "text": [
      "2025-03-06 11:51:59  magnum.np:INFO \u001b[1;37;32m[MinimizerBB] Successfully converged (iter=0, dm_tol = 1)\u001b[0m\n"
     ]
    },
    {
     "name": "stderr",
     "output_type": "stream",
     "text": [
      "2025-03-06 11:51:59  magnum.np:INFO \u001b[1;37;32m[MinimizerBB] Successfully converged (iter=0, dm_tol = 1)\u001b[0m\n"
     ]
    },
    {
     "name": "stderr",
     "output_type": "stream",
     "text": [
      "2025-03-06 11:51:59  magnum.np:INFO \u001b[1;37;32m[MinimizerBB] Successfully converged (iter=0, dm_tol = 1)\u001b[0m\n"
     ]
    },
    {
     "name": "stderr",
     "output_type": "stream",
     "text": [
      "2025-03-06 11:51:59  magnum.np:INFO \u001b[1;37;32m[MinimizerBB] Successfully converged (iter=0, dm_tol = 1)\u001b[0m\n"
     ]
    },
    {
     "name": "stderr",
     "output_type": "stream",
     "text": [
      "2025-03-06 11:51:59  magnum.np:INFO \u001b[1;37;32m[MinimizerBB] Successfully converged (iter=0, dm_tol = 1)\u001b[0m\n"
     ]
    },
    {
     "name": "stderr",
     "output_type": "stream",
     "text": [
      "2025-03-06 11:51:59  magnum.np:INFO \u001b[1;37;32m[MinimizerBB] Successfully converged (iter=0, dm_tol = 1)\u001b[0m\n"
     ]
    },
    {
     "name": "stderr",
     "output_type": "stream",
     "text": [
      "2025-03-06 11:51:59  magnum.np:INFO \u001b[1;37;32m[MinimizerBB] Successfully converged (iter=0, dm_tol = 1)\u001b[0m\n"
     ]
    },
    {
     "name": "stderr",
     "output_type": "stream",
     "text": [
      "2025-03-06 11:51:59  magnum.np:INFO \u001b[1;37;32m[MinimizerBB] Successfully converged (iter=0, dm_tol = 1)\u001b[0m\n"
     ]
    },
    {
     "name": "stderr",
     "output_type": "stream",
     "text": [
      "2025-03-06 11:51:59  magnum.np:INFO \u001b[1;37;32m[MinimizerBB] Successfully converged (iter=0, dm_tol = 1)\u001b[0m\n"
     ]
    },
    {
     "name": "stderr",
     "output_type": "stream",
     "text": [
      "2025-03-06 11:51:59  magnum.np:INFO \u001b[1;37;32m[MinimizerBB] Successfully converged (iter=0, dm_tol = 1)\u001b[0m\n"
     ]
    },
    {
     "name": "stderr",
     "output_type": "stream",
     "text": [
      "\r",
      " 99%|█████████▉| 99/100 [00:14<00:00, 87.18it/s]"
     ]
    },
    {
     "name": "stderr",
     "output_type": "stream",
     "text": [
      "2025-03-06 11:51:59  magnum.np:INFO \u001b[1;37;32m[MinimizerBB] Successfully converged (iter=0, dm_tol = 1)\u001b[0m\n"
     ]
    },
    {
     "name": "stderr",
     "output_type": "stream",
     "text": [
      "\r",
      "100%|██████████| 100/100 [00:14<00:00,  6.90it/s]"
     ]
    },
    {
     "name": "stdout",
     "output_type": "stream",
     "text": [
      "\n",
      "===============================================================================\n",
      "TIMER REPORT\n",
      "===============================================================================\n",
      "Operation                        No of calls    Avg time [ms]    Total time [s]\n",
      "-----------------------------  -------------  ---------------  ----------------\n",
      "MinimizerBB.minimize                     100      142.134           14.2134\n",
      "    ExchangeField.h                     4154        2.05569          8.53934\n",
      "    UniaxialAnisotropyField.h           4154        0.743515         3.08856\n",
      "    ExternalField.h                     4154        0.0116071        0.048216\n",
      "ExternalField.h                          100        0.0202666        0.00202666\n",
      "-----------------------------  -------------  ---------------  ----------------\n",
      "Total                                                               14.5015\n",
      "Missing                                                              0.286046\n",
      "===============================================================================\n",
      "\n"
     ]
    },
    {
     "name": "stderr",
     "output_type": "stream",
     "text": [
      "\n"
     ]
    }
   ],
   "source": [
    "from magnumnp import *\n",
    "import numpy as np\n",
    "import pathlib\n",
    "from tqdm import tqdm\n",
    "\n",
    "set_log_level(25) # show info_green, but hide info_blue\n",
    "Timer.enable()\n",
    "try:\n",
    "    this_dir = pathlib.Path(__file__).resolve().parent\n",
    "except:\n",
    "    this_dir = pathlib.Path().resolve()\n",
    "\n",
    "Hextmax=1.8/constants.mu_0\n",
    "Hextmin=1.4/constants.mu_0\n",
    "tfinal = 20e-9\n",
    "\n",
    "n  = (80, 1, 1)\n",
    "dx = (1e-9, 1e-9, 1e-9)\n",
    "origin = (-n[0]*dx[0]/2., -n[1]*dx[1]/2., -n[2]*dx[2]/2.,)\n",
    "mesh = Mesh(n, dx, origin)\n",
    "state = State(mesh)\n",
    "state.material = {\"alpha\": state.Constant(1.)}\n",
    "x, y, z = mesh.SpatialCoordinate()\n",
    "\n",
    "soft = (x < 0)\n",
    "hard = (x >= 0)\n",
    "\n",
    "Ms = state.Constant(0.0)\n",
    "Ms[soft] = 0.25/constants.mu_0\n",
    "Ms[hard] = 1./constants.mu_0\n",
    "\n",
    "Ku = state.Constant(0.0)\n",
    "Ku[soft] = 1e5\n",
    "Ku[hard] = 1e6\n",
    "\n",
    "A = state.Constant(0.0)\n",
    "A[soft] = 0.25e-11\n",
    "A[hard] = 1.e-11\n",
    "\n",
    "state.material['Ms'] = Ms\n",
    "state.material['A'] = A\n",
    "state.material['Ku'] = Ku\n",
    "state.material['Ku_axis'] = state.Constant([0,1,0])\n",
    "\n",
    "state.m = state.Constant([np.sin(0.3), np.cos(0.3), 0.0])\n",
    "state.m[hard] = torch.tensor([0.0, -1.0, 0.0])\n",
    "normalize(state.m)\n",
    "\n",
    "exchange = ExchangeField()\n",
    "aniso    = UniaxialAnisotropyField()\n",
    "external = ExternalField(state.Constant([0, 0, 0]))\n",
    "\n",
    "minimizer = MinimizerBB([exchange, aniso, external])\n",
    "logger = ScalarLogger(this_dir / \"data\" / \"m.dat\", ['t', external.h, 'm'])\n",
    "for h in tqdm(torch.linspace(Hextmin, Hextmax, steps=100)):\n",
    "    external.h = state.Constant([0, h, 0])\n",
    "    minimizer.minimize(state)\n",
    "    logger << state\n",
    "\n",
    "Timer.print_report()"
   ]
  },
  {
   "cell_type": "markdown",
   "id": "52c07dba",
   "metadata": {},
   "source": [
    "## Plot Results"
   ]
  },
  {
   "cell_type": "code",
   "execution_count": 3,
   "id": "be5bbf80",
   "metadata": {
    "execution": {
     "iopub.execute_input": "2025-03-06T11:51:59.713914Z",
     "iopub.status.busy": "2025-03-06T11:51:59.713613Z",
     "iopub.status.idle": "2025-03-06T11:52:00.835734Z",
     "shell.execute_reply": "2025-03-06T11:52:00.834945Z"
    }
   },
   "outputs": [
    {
     "data": {
      "image/png": "[encoded data removed]",
      "text/plain": [
       "<Figure size 1500x500 with 1 Axes>"
      ]
     },
     "metadata": {},
     "output_type": "display_data"
    }
   ],
   "source": [
    "import numpy as np\n",
    "import matplotlib.pyplot as plt\n",
    "\n",
    "data = np.loadtxt(\"data/m.dat\")\n",
    "ref = np.loadtxt(\"ref/m_ref.dat\")\n",
    "data_dieter = np.loadtxt(\"ref/m_dieter.dat\")\n",
    "data_magnumaf = np.loadtxt(\"ref/m_magnumaf.dat\")\n",
    "\n",
    "\n",
    "fig, ax = plt.subplots(figsize=(15,5))\n",
    "cycle = plt.rcParams['axes.prop_cycle'].by_key()['color']\n",
    "\n",
    "ax.plot(data[:,2]*4*np.pi*1e-7, data[:,5], '-', color = cycle[0], label = \"magnum.np\")\n",
    "ax.plot(ref[:,2]*4*np.pi*1e-7, ref[:,5], '-', color = cycle[0], linewidth = 6, alpha = 0.4, label = \"reference\")\n",
    "ax.plot(data_dieter[:,1], data_dieter[:,3], '-', color = cycle[1], label = \"dieter\")\n",
    "ax.plot(data_magnumaf[:,4]*4*np.pi*1e-7, data_magnumaf[:,2], '-', color = cycle[2], label = \"magnum.af\")\n",
    "ax.axvline(x = 1.568, linestyle = '--', color = 'black', alpha = 0.2, label = 'analytic')\n",
    "\n",
    "ax.set_xlim([1.4,1.8])\n",
    "ax.set_ylim([-0.2,1.2])\n",
    "ax.set_title(\"Standard Problem - Domainwall Pinning\")\n",
    "ax.set_xlabel(\"Applied Field $\\mu$$_0$ H$_{ext}$ [T]\")\n",
    "ax.set_ylabel(\"Magnetization m$_y$\")\n",
    "ax.legend(ncol=2, loc='lower right')\n",
    "ax.grid()\n",
    "fig.savefig(\"data/results.png\")"
   ]
  }
 ],
 "metadata": {
  "accelerator": "GPU",
  "colab": {
   "gpuType": "T4"
  },
  "jupytext": {
   "notebook_metadata_filter": "colab,accelerator"
  },
  "kernelspec": {
   "display_name": "Python 3 (ipykernel)",
   "language": "python",
   "name": "python3"
  },
  "language_info": {
   "codemirror_mode": {
    "name": "ipython",
    "version": 3
   },
   "file_extension": ".py",
   "mimetype": "text/x-python",
   "name": "python",
   "nbconvert_exporter": "python",
   "pygments_lexer": "ipython3",
   "version": "3.10.16"
  }
 },
 "nbformat": 4,
 "nbformat_minor": 5
}
